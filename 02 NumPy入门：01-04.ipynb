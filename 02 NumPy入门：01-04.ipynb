{
 "cells": [
  {
   "cell_type": "markdown",
   "id": "5a53e50a-189c-44be-b7eb-643c769cc1c5",
   "metadata": {},
   "source": [
    "Numpy数组是整个python数据科学工具生态系统的核心\n"
   ]
  },
  {
   "cell_type": "code",
   "execution_count": 4,
   "id": "915cf440-0107-4c05-ae23-c74d7629515a",
   "metadata": {},
   "outputs": [
    {
     "data": {
      "text/plain": [
       "'1.26.4'"
      ]
     },
     "execution_count": 4,
     "metadata": {},
     "output_type": "execute_result"
    }
   ],
   "source": [
    "import numpy\n",
    "numpy.__version__"
   ]
  },
  {
   "cell_type": "code",
   "execution_count": 2,
   "id": "b57c0eb4-e260-44b0-9b1e-cee945c44523",
   "metadata": {},
   "outputs": [],
   "source": [
    "import numpy as np"
   ]
  },
  {
   "cell_type": "markdown",
   "id": "f798c0d2-3041-43a4-9c90-ed5fc8fc5e50",
   "metadata": {},
   "source": [
    "# 2.1 理解Python中的数据类型\n"
   ]
  },
  {
   "cell_type": "markdown",
   "id": "5f0029f1-1ee6-419b-adb2-b489abb96780",
   "metadata": {},
   "source": [
    "## 2.1.1 Python整型不仅仅是一个整型\n",
    "C语言需要声明变量数据的类型，而python不需要。这在给python带来灵活性的同时，也使得python变量不会仅仅是它们的值，还包括一些额外的结构（包括引用计数、类型编码以及存储这些额外结构的内容）。C语言整型本质是直接指向某个内存位置的标签，里面存储的字节会编码成整型；python整型是一个指针，指向某个包含有python对象b所有信息的内存位置，其中包括可以转化为整型的字符和结构信息。"
   ]
  },
  {
   "cell_type": "markdown",
   "id": "6036fb8a-86e8-494a-bf01-9cd13dbc9ae0",
   "metadata": {},
   "source": [
    "## 2.1.2 Python的列表不仅仅是一个列表\n",
    "Numpy式的数组中数据结构信息式公用的，而python列表中数据结构信息会储存在每一个元素里，因此出现了冗余。"
   ]
  },
  {
   "cell_type": "markdown",
   "id": "676c3ddb-8636-4dfc-95d2-b1a0078b711f",
   "metadata": {},
   "source": [
    "## 2.1.3 Python中的固定类型数组\n",
    "array类，但不实用"
   ]
  },
  {
   "cell_type": "markdown",
   "id": "01905a02-9559-470f-9d59-dcea097a0fb4",
   "metadata": {},
   "source": [
    "## 2.1.4 从Python列表创建数组"
   ]
  },
  {
   "cell_type": "code",
   "execution_count": 3,
   "id": "857fb876-3e80-411d-8b99-af938ee9243f",
   "metadata": {},
   "outputs": [
    {
     "data": {
      "text/plain": [
       "array([1, 2, 4, 5, 3])"
      ]
     },
     "execution_count": 3,
     "metadata": {},
     "output_type": "execute_result"
    }
   ],
   "source": [
    "np.array([1,2,4,5,3])"
   ]
  },
  {
   "cell_type": "markdown",
   "id": "2500a7f0-1852-4f03-86af-a644facb7210",
   "metadata": {},
   "source": [
    "Numpy要求数组必须包含同一类型的数据，如果类型不匹配，Numpy会向上转换："
   ]
  },
  {
   "cell_type": "code",
   "execution_count": 4,
   "id": "d70a2f79-373e-4dfe-bc51-b4b00eda7aa8",
   "metadata": {},
   "outputs": [
    {
     "data": {
      "text/plain": [
       "array([ 3.14,  4.  ,  2.  , 13.  ])"
      ]
     },
     "execution_count": 4,
     "metadata": {},
     "output_type": "execute_result"
    }
   ],
   "source": [
    "np.array([3.14,4,2,13])"
   ]
  },
  {
   "cell_type": "markdown",
   "id": "2472612a-8a78-436e-949d-36381c597e92",
   "metadata": {},
   "source": [
    "可以添加字符串"
   ]
  },
  {
   "cell_type": "code",
   "execution_count": 5,
   "id": "0fd5634b-c106-445c-8dc9-7815fc2b3840",
   "metadata": {},
   "outputs": [
    {
     "data": {
      "text/plain": [
       "array(['here', 'come', 'the', 'sun'], dtype='<U4')"
      ]
     },
     "execution_count": 5,
     "metadata": {},
     "output_type": "execute_result"
    }
   ],
   "source": [
    "np.array([\"here\",\"come\",\"the\",\"sun\"])"
   ]
  },
  {
   "cell_type": "markdown",
   "id": "7b166b14-3aea-42ea-b8bc-b2ec23657aac",
   "metadata": {},
   "source": [
    "如果你希望设置数组的数据类型，可使用dtype关键字"
   ]
  },
  {
   "cell_type": "code",
   "execution_count": 9,
   "id": "77110252-ebb2-437c-ab43-f75a889ad23d",
   "metadata": {},
   "outputs": [
    {
     "data": {
      "text/plain": [
       "array([1., 2., 3., 4.], dtype=float32)"
      ]
     },
     "execution_count": 9,
     "metadata": {},
     "output_type": "execute_result"
    }
   ],
   "source": [
    "np.array([1,2,3,4], dtype='float32')"
   ]
  },
  {
   "cell_type": "markdown",
   "id": "07a5cc07-e78a-466e-99ef-9027f44eee60",
   "metadata": {},
   "source": [
    "Numpy数组可以被指定为多维的"
   ]
  },
  {
   "cell_type": "code",
   "execution_count": 10,
   "id": "9d8c7457-c078-421b-9413-95aa857183e0",
   "metadata": {},
   "outputs": [
    {
     "data": {
      "text/plain": [
       "array([[2, 3, 4],\n",
       "       [4, 5, 6],\n",
       "       [6, 7, 8]])"
      ]
     },
     "execution_count": 10,
     "metadata": {},
     "output_type": "execute_result"
    }
   ],
   "source": [
    "np.array([range(i,i+3) for i in [2,4,6]])"
   ]
  },
  {
   "cell_type": "markdown",
   "id": "101a5ffb-5b81-41a2-b79c-da09068fb201",
   "metadata": {},
   "source": [
    "## 2.1.5 从头创建数组\n",
    "面对大型数组的时候，用Numpy内置的方法从头创建数组更加高效。"
   ]
  },
  {
   "cell_type": "code",
   "execution_count": 11,
   "id": "096fed3d-6c4c-4dcf-b02c-04888ddd3a19",
   "metadata": {},
   "outputs": [
    {
     "data": {
      "text/plain": [
       "array([0, 0, 0, 0, 0, 0, 0, 0, 0, 0])"
      ]
     },
     "execution_count": 11,
     "metadata": {},
     "output_type": "execute_result"
    }
   ],
   "source": [
    "# 创建一个长度为10的数组，数组的值都是0\n",
    "np.zeros(10,dtype=int)"
   ]
  },
  {
   "cell_type": "code",
   "execution_count": 12,
   "id": "db597050-b935-45ad-a819-d5a4d410af13",
   "metadata": {},
   "outputs": [
    {
     "data": {
      "text/plain": [
       "array([[1., 1., 1., 1., 1.],\n",
       "       [1., 1., 1., 1., 1.],\n",
       "       [1., 1., 1., 1., 1.]])"
      ]
     },
     "execution_count": 12,
     "metadata": {},
     "output_type": "execute_result"
    }
   ],
   "source": [
    "# 创建一个3×5的浮点型数组，数组的值都是1\n",
    "np.ones((3,5),dtype=float)"
   ]
  },
  {
   "cell_type": "code",
   "execution_count": 13,
   "id": "cb775faa-98f3-4fd0-a66b-fce5501adeaa",
   "metadata": {},
   "outputs": [
    {
     "data": {
      "text/plain": [
       "array([[3.14, 3.14, 3.14, 3.14, 3.14],\n",
       "       [3.14, 3.14, 3.14, 3.14, 3.14],\n",
       "       [3.14, 3.14, 3.14, 3.14, 3.14]])"
      ]
     },
     "execution_count": 13,
     "metadata": {},
     "output_type": "execute_result"
    }
   ],
   "source": [
    "# 创建一个3×5的浮点型数组，数组的值都是3.14\n",
    "np.full((3,5),3.14)"
   ]
  },
  {
   "cell_type": "code",
   "execution_count": 14,
   "id": "66a7143e-5e0d-44be-acf8-3d01daec3117",
   "metadata": {},
   "outputs": [
    {
     "data": {
      "text/plain": [
       "array([ 0,  2,  4,  6,  8, 10, 12, 14, 16, 18])"
      ]
     },
     "execution_count": 14,
     "metadata": {},
     "output_type": "execute_result"
    }
   ],
   "source": [
    "# 创建一个线性序列数组，从0开始，到20结束，步长为2\n",
    "# 和内置的range函数很类似\n",
    "np.arange(0,20,2)"
   ]
  },
  {
   "cell_type": "code",
   "execution_count": 16,
   "id": "9757716f-274d-4318-a568-caebbd3009c5",
   "metadata": {},
   "outputs": [
    {
     "data": {
      "text/plain": [
       "array([0.  , 0.25, 0.5 , 0.75, 1.  ])"
      ]
     },
     "execution_count": 16,
     "metadata": {},
     "output_type": "execute_result"
    }
   ],
   "source": [
    "# 创建一个5个元素的数组，这5个数字均匀地分配到0-1\n",
    "np.linspace(0,1,5)"
   ]
  },
  {
   "cell_type": "code",
   "execution_count": 18,
   "id": "7e2f9303-5d7f-4c69-9e98-587964952d08",
   "metadata": {},
   "outputs": [
    {
     "data": {
      "text/plain": [
       "array([[0.95464908, 0.10450787, 0.57972344],\n",
       "       [0.79353896, 0.96758233, 0.45007882],\n",
       "       [0.33485961, 0.82047652, 0.39190268]])"
      ]
     },
     "execution_count": 18,
     "metadata": {},
     "output_type": "execute_result"
    }
   ],
   "source": [
    "# 创建一个3×3的、在0-1均匀分布的随机数组成的数组\n",
    "np.random.random((3,3))"
   ]
  },
  {
   "cell_type": "code",
   "execution_count": 21,
   "id": "4c4c2ec8-af28-4c47-952e-019be86b95b8",
   "metadata": {},
   "outputs": [
    {
     "data": {
      "text/plain": [
       "array([[-0.97349409,  1.46832745, -1.61029591],\n",
       "       [-0.56376362, -0.41776367, -1.35513132],\n",
       "       [-2.08106643,  0.84750271,  0.71164382]])"
      ]
     },
     "execution_count": 21,
     "metadata": {},
     "output_type": "execute_result"
    }
   ],
   "source": [
    "# 创建一个3×3的、均值为0、标准差为1的、正态分布的随机数组成的数组\n",
    "np.random.normal(0,1,(3,3))"
   ]
  },
  {
   "cell_type": "code",
   "execution_count": 22,
   "id": "6095b6bd-cdf6-43c5-ab68-b7ee75e00b20",
   "metadata": {},
   "outputs": [
    {
     "data": {
      "text/plain": [
       "array([[4, 3, 3],\n",
       "       [0, 4, 1],\n",
       "       [8, 0, 6]])"
      ]
     },
     "execution_count": 22,
     "metadata": {},
     "output_type": "execute_result"
    }
   ],
   "source": [
    "# 创建一个3×3的、[0,10)区间随机整型数组成的数组\n",
    "np.random.randint(0,10,(3,3))"
   ]
  },
  {
   "cell_type": "code",
   "execution_count": 23,
   "id": "7c76a7ee-0d8a-4db2-8935-1c89d71613af",
   "metadata": {},
   "outputs": [
    {
     "data": {
      "text/plain": [
       "array([[1., 0., 0.],\n",
       "       [0., 1., 0.],\n",
       "       [0., 0., 1.]])"
      ]
     },
     "execution_count": 23,
     "metadata": {},
     "output_type": "execute_result"
    }
   ],
   "source": [
    "# 创建一个3×3的单位矩阵\n",
    "np.eye(3)"
   ]
  },
  {
   "cell_type": "code",
   "execution_count": 24,
   "id": "785175b6-afee-4dce-bf65-4a9068986371",
   "metadata": {},
   "outputs": [],
   "source": [
    "# 创建一个由3个整型数组成的未初始化的数组，数组的值是内存空间在的任意数值"
   ]
  },
  {
   "cell_type": "code",
   "execution_count": 25,
   "id": "3d2d2afa-bc69-490c-9df9-5d0510172fdb",
   "metadata": {},
   "outputs": [
    {
     "data": {
      "text/plain": [
       "array([1., 1., 1.])"
      ]
     },
     "execution_count": 25,
     "metadata": {},
     "output_type": "execute_result"
    }
   ],
   "source": [
    "np.empty(3)"
   ]
  },
  {
   "cell_type": "markdown",
   "id": "59e7b4c1-09fd-48c5-a8e0-0bf1c53db04a",
   "metadata": {},
   "source": [
    "## 2.1.6 Numpy的标准数据类型\n",
    "略"
   ]
  },
  {
   "cell_type": "markdown",
   "id": "f0105f79-bc0f-44e2-b9ff-6b581de8d54d",
   "metadata": {},
   "source": [
    "# 2.2 Numpy数组基础\n",
    "包括如下内容\n",
    "1. 数组的属性\n",
    "2. 数组的索引\n",
    "3. 数组的切分\n",
    "4. 数组的变形\n",
    "5. 数组的拼接和分裂\n"
   ]
  },
  {
   "cell_type": "markdown",
   "id": "1cfb43fc-e4ab-48de-a16e-a9e269776c36",
   "metadata": {},
   "source": [
    "## 2.2.1 Numpy数组的属性\n",
    "定义三个数组，一个一维数组、一个二维数组和一个三维数组。设置随机数种子保证程序每次执行都能生成同样的随机数组。"
   ]
  },
  {
   "cell_type": "code",
   "execution_count": 2,
   "id": "155587e8-f57f-45ed-877e-45e1beac3c0c",
   "metadata": {},
   "outputs": [],
   "source": [
    "import numpy as np\n",
    "np.random.seed(0) # 设置随机数种子\n",
    "\n",
    "x1 = np.random.randint(10,size=6) # 一维数组\n",
    "x2 = np.random.randint(10,size=(3,4)) # 二维数组\n",
    "x3 = np.random.randint(10,size=(3,4,5)) # 三维数组\n"
   ]
  },
  {
   "cell_type": "markdown",
   "id": "06593e56-742e-4b31-bebb-00dd75e582c9",
   "metadata": {},
   "source": [
    "每个数组有ndim、shape、size属性"
   ]
  },
  {
   "cell_type": "code",
   "execution_count": 3,
   "id": "5598f4c9-4bcf-40f2-8517-dedb5d6b1e83",
   "metadata": {},
   "outputs": [
    {
     "name": "stdout",
     "output_type": "stream",
     "text": [
      "x3 ndim 3\n",
      "x3 shape (3, 4, 5)\n",
      "x3 size 60\n"
     ]
    }
   ],
   "source": [
    "print('x3 ndim',x3.ndim)\n",
    "print('x3 shape',x3.shape)\n",
    "print('x3 size',x3.size)\n"
   ]
  },
  {
   "cell_type": "markdown",
   "id": "3b5d1a60-8776-41d6-a5cf-cebd478333cd",
   "metadata": {},
   "source": [
    "此外，dtype,itemsize和nbyte也是有用的属性"
   ]
  },
  {
   "cell_type": "code",
   "execution_count": 4,
   "id": "9322bc29-78c1-4706-b4cd-18ea8cbcdd3b",
   "metadata": {},
   "outputs": [
    {
     "name": "stdout",
     "output_type": "stream",
     "text": [
      "x3 itemsize 4 bytes\n",
      "x3 nbytes 240 bytes\n"
     ]
    }
   ],
   "source": [
    "print('x3 itemsize',x3.itemsize,'bytes')\n",
    "print('x3 nbytes',x3.nbytes,'bytes')\n",
    "\n"
   ]
  },
  {
   "cell_type": "code",
   "execution_count": 5,
   "id": "3b66677f-85bc-41cd-880f-8fab26714e7f",
   "metadata": {},
   "outputs": [
    {
     "name": "stdout",
     "output_type": "stream",
     "text": [
      "dtype int32\n"
     ]
    }
   ],
   "source": [
    "print('dtype',x3.dtype)"
   ]
  },
  {
   "cell_type": "markdown",
   "id": "45bf7679-c283-4ac9-8941-195c0a315e81",
   "metadata": {},
   "source": [
    "## 2.2.2 数组索引：获取单个元素\n",
    "\n",
    "对于一维数组，获取元素的方法和列表一致；对于二维列表，可以使用逗号分隔的索引元组获取元素。"
   ]
  },
  {
   "cell_type": "code",
   "execution_count": 6,
   "id": "b6942b52-1089-4a5b-897a-6cccc6710d9f",
   "metadata": {},
   "outputs": [
    {
     "data": {
      "text/plain": [
       "array([5, 0, 3, 3, 7, 9])"
      ]
     },
     "execution_count": 6,
     "metadata": {},
     "output_type": "execute_result"
    }
   ],
   "source": [
    "x1"
   ]
  },
  {
   "cell_type": "code",
   "execution_count": 7,
   "id": "4d2649f5-70e8-4af2-846f-1ee4acdaaa68",
   "metadata": {},
   "outputs": [
    {
     "data": {
      "text/plain": [
       "5"
      ]
     },
     "execution_count": 7,
     "metadata": {},
     "output_type": "execute_result"
    }
   ],
   "source": [
    "x1[0]"
   ]
  },
  {
   "cell_type": "code",
   "execution_count": 8,
   "id": "8c474ea9-ec87-4cb2-ad71-dd4efee83db7",
   "metadata": {},
   "outputs": [
    {
     "data": {
      "text/plain": [
       "7"
      ]
     },
     "execution_count": 8,
     "metadata": {},
     "output_type": "execute_result"
    }
   ],
   "source": [
    "x1[4]"
   ]
  },
  {
   "cell_type": "code",
   "execution_count": 9,
   "id": "00f16f91-019f-4967-8677-ce9adfd2f640",
   "metadata": {},
   "outputs": [
    {
     "data": {
      "text/plain": [
       "9"
      ]
     },
     "execution_count": 9,
     "metadata": {},
     "output_type": "execute_result"
    }
   ],
   "source": [
    "x1[-1]"
   ]
  },
  {
   "cell_type": "code",
   "execution_count": 10,
   "id": "25b8aa31-dad7-411f-83c3-1e249fd32491",
   "metadata": {},
   "outputs": [
    {
     "data": {
      "text/plain": [
       "7"
      ]
     },
     "execution_count": 10,
     "metadata": {},
     "output_type": "execute_result"
    }
   ],
   "source": [
    "x1[-2]"
   ]
  },
  {
   "cell_type": "markdown",
   "id": "47de7056-2c10-435d-8404-52dcc188074f",
   "metadata": {},
   "source": [
    "对于多维数组的索引元组，元组的第一个数字代表行索引，第二个编号代表列索引。"
   ]
  },
  {
   "cell_type": "code",
   "execution_count": 11,
   "id": "58122a44-0d2b-485c-b862-e7d2abf0729f",
   "metadata": {},
   "outputs": [
    {
     "data": {
      "text/plain": [
       "array([[3, 5, 2, 4],\n",
       "       [7, 6, 8, 8],\n",
       "       [1, 6, 7, 7]])"
      ]
     },
     "execution_count": 11,
     "metadata": {},
     "output_type": "execute_result"
    }
   ],
   "source": [
    "x2"
   ]
  },
  {
   "cell_type": "code",
   "execution_count": 12,
   "id": "ffc0de25-c20a-4871-8139-6141e464430e",
   "metadata": {},
   "outputs": [
    {
     "data": {
      "text/plain": [
       "3"
      ]
     },
     "execution_count": 12,
     "metadata": {},
     "output_type": "execute_result"
    }
   ],
   "source": [
    "x2[0,0]"
   ]
  },
  {
   "cell_type": "code",
   "execution_count": 13,
   "id": "5ba40b70-aeb4-45b7-85f8-b65a1f7c6a20",
   "metadata": {},
   "outputs": [
    {
     "data": {
      "text/plain": [
       "1"
      ]
     },
     "execution_count": 13,
     "metadata": {},
     "output_type": "execute_result"
    }
   ],
   "source": [
    "x2[2,0]"
   ]
  },
  {
   "cell_type": "code",
   "execution_count": 14,
   "id": "955133c2-78ea-4cfe-8842-97403442f466",
   "metadata": {},
   "outputs": [
    {
     "data": {
      "text/plain": [
       "7"
      ]
     },
     "execution_count": 14,
     "metadata": {},
     "output_type": "execute_result"
    }
   ],
   "source": [
    "x2[2,-1]"
   ]
  },
  {
   "cell_type": "markdown",
   "id": "ab3db6d7-675b-4d25-bd00-e4d692dcf36c",
   "metadata": {},
   "source": [
    "和列表类似，可以通过索引修改元素值，但一定要注意，输入值会自动被截断为数组所使用的整型，如下面的例子。"
   ]
  },
  {
   "cell_type": "code",
   "execution_count": 15,
   "id": "207b0a97-1dd0-43c2-8e57-9ac987e8a058",
   "metadata": {},
   "outputs": [],
   "source": [
    "x2[0,0]=12.34"
   ]
  },
  {
   "cell_type": "code",
   "execution_count": 16,
   "id": "47313a06-6eaf-4ff2-8f08-4f40e73cbff5",
   "metadata": {},
   "outputs": [
    {
     "data": {
      "text/plain": [
       "array([[12,  5,  2,  4],\n",
       "       [ 7,  6,  8,  8],\n",
       "       [ 1,  6,  7,  7]])"
      ]
     },
     "execution_count": 16,
     "metadata": {},
     "output_type": "execute_result"
    }
   ],
   "source": [
    "x2"
   ]
  },
  {
   "cell_type": "markdown",
   "id": "67804e23-ca6e-4db8-81fc-e4fb8118344e",
   "metadata": {},
   "source": [
    "## 2.2.3 数组切片：获取子数组\n",
    "切片形式和列表相同：x[start:stop:step]\n",
    "### 1.一维子数组"
   ]
  },
  {
   "cell_type": "code",
   "execution_count": 17,
   "id": "831e70a6-15c7-42bb-9693-e8e23b2e2a60",
   "metadata": {},
   "outputs": [
    {
     "data": {
      "text/plain": [
       "array([0, 1, 2, 3, 4, 5, 6, 7, 8, 9])"
      ]
     },
     "execution_count": 17,
     "metadata": {},
     "output_type": "execute_result"
    }
   ],
   "source": [
    "x=np.arange(10)\n",
    "x"
   ]
  },
  {
   "cell_type": "code",
   "execution_count": 18,
   "id": "5bd3511f-472c-42fb-a0c4-d969cb3d3a55",
   "metadata": {},
   "outputs": [
    {
     "data": {
      "text/plain": [
       "array([0, 1, 2, 3, 4])"
      ]
     },
     "execution_count": 18,
     "metadata": {},
     "output_type": "execute_result"
    }
   ],
   "source": [
    "x[:5] # 前五个元素"
   ]
  },
  {
   "cell_type": "code",
   "execution_count": 19,
   "id": "55f9773a-f5d5-4d16-894c-3390618dd58d",
   "metadata": {},
   "outputs": [
    {
     "data": {
      "text/plain": [
       "array([5, 6, 7, 8, 9])"
      ]
     },
     "execution_count": 19,
     "metadata": {},
     "output_type": "execute_result"
    }
   ],
   "source": [
    "x[5:] # 索引五之后的元素"
   ]
  },
  {
   "cell_type": "code",
   "execution_count": 20,
   "id": "10ddf5a0-5ee4-45ae-a752-f9e61e9a397f",
   "metadata": {},
   "outputs": [
    {
     "data": {
      "text/plain": [
       "array([4, 5, 6])"
      ]
     },
     "execution_count": 20,
     "metadata": {},
     "output_type": "execute_result"
    }
   ],
   "source": [
    "x[4:7]"
   ]
  },
  {
   "cell_type": "code",
   "execution_count": 21,
   "id": "3e9f717a-469c-41d7-9869-46040c64c66d",
   "metadata": {},
   "outputs": [
    {
     "data": {
      "text/plain": [
       "array([0, 2, 4, 6, 8])"
      ]
     },
     "execution_count": 21,
     "metadata": {},
     "output_type": "execute_result"
    }
   ],
   "source": [
    "x[::2] # 每隔一个元素"
   ]
  },
  {
   "cell_type": "code",
   "execution_count": 22,
   "id": "4be17022-0347-476c-8f01-c16ada3bb4b9",
   "metadata": {},
   "outputs": [
    {
     "data": {
      "text/plain": [
       "array([1, 3, 5, 7, 9])"
      ]
     },
     "execution_count": 22,
     "metadata": {},
     "output_type": "execute_result"
    }
   ],
   "source": [
    "x[1::2] # 每隔一个元素，从索引1开始"
   ]
  },
  {
   "cell_type": "markdown",
   "id": "9e333c2b-f89d-4763-ac7b-fea630f62b31",
   "metadata": {},
   "source": [
    "和列表相似，可以使用负索引，实现逆序。"
   ]
  },
  {
   "cell_type": "code",
   "execution_count": 23,
   "id": "d3d40b36-1bfe-4e11-92c3-331841d440ed",
   "metadata": {},
   "outputs": [
    {
     "data": {
      "text/plain": [
       "array([9, 8, 7, 6, 5, 4, 3, 2, 1, 0])"
      ]
     },
     "execution_count": 23,
     "metadata": {},
     "output_type": "execute_result"
    }
   ],
   "source": [
    "x[::-1] # 所有元素，逆序的"
   ]
  },
  {
   "cell_type": "code",
   "execution_count": 24,
   "id": "c40d9785-cc89-4310-b0c1-57ce0c483229",
   "metadata": {},
   "outputs": [
    {
     "data": {
      "text/plain": [
       "array([5, 3, 1])"
      ]
     },
     "execution_count": 24,
     "metadata": {},
     "output_type": "execute_result"
    }
   ],
   "source": [
    "x[5::-2] # 从索引5开始每隔一个元素逆序"
   ]
  },
  {
   "cell_type": "markdown",
   "id": "0981235c-4843-4a35-b213-f80aea49b8fb",
   "metadata": {},
   "source": [
    "### 2.多维子数组\n",
    "和单一元素类似，采用索引元组显示"
   ]
  },
  {
   "cell_type": "code",
   "execution_count": 25,
   "id": "e4b7f8d7-1bc6-4f6e-be07-da6f0a973b8c",
   "metadata": {},
   "outputs": [
    {
     "data": {
      "text/plain": [
       "array([[12,  5,  2,  4],\n",
       "       [ 7,  6,  8,  8],\n",
       "       [ 1,  6,  7,  7]])"
      ]
     },
     "execution_count": 25,
     "metadata": {},
     "output_type": "execute_result"
    }
   ],
   "source": [
    "x2"
   ]
  },
  {
   "cell_type": "code",
   "execution_count": 26,
   "id": "0f958eea-20c9-4bb2-a952-14f4060b667f",
   "metadata": {},
   "outputs": [
    {
     "data": {
      "text/plain": [
       "array([[12,  5,  2],\n",
       "       [ 7,  6,  8]])"
      ]
     },
     "execution_count": 26,
     "metadata": {},
     "output_type": "execute_result"
    }
   ],
   "source": [
    "x2[:2,:3] # 两行，三列"
   ]
  },
  {
   "cell_type": "code",
   "execution_count": 27,
   "id": "4952c60f-b81c-4363-bc64-af5c6a3654c1",
   "metadata": {},
   "outputs": [
    {
     "data": {
      "text/plain": [
       "array([[12,  2],\n",
       "       [ 7,  8],\n",
       "       [ 1,  7]])"
      ]
     },
     "execution_count": 27,
     "metadata": {},
     "output_type": "execute_result"
    }
   ],
   "source": [
    "x2[:3,::2] # 所有行，每隔一列"
   ]
  },
  {
   "cell_type": "code",
   "execution_count": 28,
   "id": "626886dc-7c10-45cc-92a2-03522c809816",
   "metadata": {},
   "outputs": [
    {
     "data": {
      "text/plain": [
       "array([[ 7,  7,  6,  1],\n",
       "       [ 8,  8,  6,  7],\n",
       "       [ 4,  2,  5, 12]])"
      ]
     },
     "execution_count": 28,
     "metadata": {},
     "output_type": "execute_result"
    }
   ],
   "source": [
    "x2[::-1,::-1] # 而欸数组也可以被逆序"
   ]
  },
  {
   "cell_type": "markdown",
   "id": "e7c52995-c609-442e-bd44-9138f12c50c4",
   "metadata": {},
   "source": [
    "### 3.获取数组的行和列\n",
    "将索引与切片结合可以获取行和列"
   ]
  },
  {
   "cell_type": "code",
   "execution_count": 29,
   "id": "44aa22d7-0f4a-4121-a9d9-21cc64747254",
   "metadata": {},
   "outputs": [
    {
     "data": {
      "text/plain": [
       "array([12,  7,  1])"
      ]
     },
     "execution_count": 29,
     "metadata": {},
     "output_type": "execute_result"
    }
   ],
   "source": [
    "x2[:,0] # x2第一列"
   ]
  },
  {
   "cell_type": "code",
   "execution_count": 30,
   "id": "c70ed813-9369-4f81-834c-f769e05bcf25",
   "metadata": {},
   "outputs": [
    {
     "data": {
      "text/plain": [
       "array([12,  5,  2,  4])"
      ]
     },
     "execution_count": 30,
     "metadata": {},
     "output_type": "execute_result"
    }
   ],
   "source": [
    "x2[0,:] # x2第一行"
   ]
  },
  {
   "cell_type": "code",
   "execution_count": 31,
   "id": "cd4e9423-cd18-4003-b926-382bf00eca39",
   "metadata": {},
   "outputs": [
    {
     "data": {
      "text/plain": [
       "array([12,  5,  2,  4])"
      ]
     },
     "execution_count": 31,
     "metadata": {},
     "output_type": "execute_result"
    }
   ],
   "source": [
    "x2[0] # 可以直接获取行"
   ]
  },
  {
   "cell_type": "markdown",
   "id": "035d9e79-28dc-4f7d-b6d7-83593340cd1a",
   "metadata": {},
   "source": [
    "### 4.Numpy切片是视图\n",
    "数组切片是数组数据的**视图**，而不是数值数据的**副本**。修改切片产生的视图会修改原本的数据。"
   ]
  },
  {
   "cell_type": "code",
   "execution_count": 32,
   "id": "74d3ecaf-8995-4769-99c2-2fe2a8e2434a",
   "metadata": {},
   "outputs": [
    {
     "data": {
      "text/plain": [
       "array([[12,  5,  2,  4],\n",
       "       [ 7,  6,  8,  8],\n",
       "       [ 1,  6,  7,  7]])"
      ]
     },
     "execution_count": 32,
     "metadata": {},
     "output_type": "execute_result"
    }
   ],
   "source": [
    "x2"
   ]
  },
  {
   "cell_type": "code",
   "execution_count": 33,
   "id": "956910e3-a514-4b00-8738-c3587ee6bc7f",
   "metadata": {},
   "outputs": [
    {
     "data": {
      "text/plain": [
       "array([[12,  5],\n",
       "       [ 7,  6]])"
      ]
     },
     "execution_count": 33,
     "metadata": {},
     "output_type": "execute_result"
    }
   ],
   "source": [
    "x2_sub = x2[:2,:2]\n",
    "x2_sub"
   ]
  },
  {
   "cell_type": "code",
   "execution_count": 34,
   "id": "e5d82b6b-2f84-42a7-aa40-aad306ae6d0d",
   "metadata": {},
   "outputs": [
    {
     "name": "stdout",
     "output_type": "stream",
     "text": [
      "[[99  5]\n",
      " [ 7  6]]\n",
      "[[99  5  2  4]\n",
      " [ 7  6  8  8]\n",
      " [ 1  6  7  7]]\n"
     ]
    }
   ],
   "source": [
    "x2_sub[0,0]=99\n",
    "print(x2_sub)\n",
    "print(x2)"
   ]
  },
  {
   "cell_type": "markdown",
   "id": "0dbbf971-1513-4ddb-aac1-613921234462",
   "metadata": {},
   "source": [
    "### 5.创建数据的副本\n",
    "通过copy()方法可以获取一个副本，修改副本不会引起原本数据的修改"
   ]
  },
  {
   "cell_type": "code",
   "execution_count": 35,
   "id": "db320e0b-1085-4cc0-b26d-a9ba1f97d34a",
   "metadata": {},
   "outputs": [],
   "source": [
    "x2_sub_copy=x2[:2,:2].copy()"
   ]
  },
  {
   "cell_type": "code",
   "execution_count": 36,
   "id": "dab16918-724f-4315-87e8-5647dcccfc4c",
   "metadata": {},
   "outputs": [
    {
     "name": "stdout",
     "output_type": "stream",
     "text": [
      "[[42  5]\n",
      " [ 7  6]]\n",
      "[[99  5  2  4]\n",
      " [ 7  6  8  8]\n",
      " [ 1  6  7  7]]\n"
     ]
    }
   ],
   "source": [
    "x2_sub_copy[0,0]=42\n",
    "print(x2_sub_copy)\n",
    "print(x2)"
   ]
  },
  {
   "cell_type": "markdown",
   "id": "defb9b94-4cda-42b9-9035-8bde1cdb59a9",
   "metadata": {},
   "source": [
    "## 2.2.4 数组的变形\n",
    "通过reshape方法对数组进行变形"
   ]
  },
  {
   "cell_type": "code",
   "execution_count": 37,
   "id": "1b567504-ce2c-4cdb-8583-959784bd81c7",
   "metadata": {},
   "outputs": [
    {
     "name": "stdout",
     "output_type": "stream",
     "text": [
      "[[1 2 3]\n",
      " [4 5 6]\n",
      " [7 8 9]]\n"
     ]
    }
   ],
   "source": [
    "grid = np.arange(1,10).reshape((3,3)) # 注意reshape需要输入一个元组\n",
    "print(grid)"
   ]
  },
  {
   "cell_type": "markdown",
   "id": "bcb8c0df-596e-4cde-99a8-ae2948979866",
   "metadata": {},
   "source": [
    "另一种常见的变形模式是将一个一维数组变为二维的行或者列的矩阵，可以通过reshape方法实现，也可以在切片操作利用newaxis关键字实现"
   ]
  },
  {
   "cell_type": "code",
   "execution_count": 39,
   "id": "863fc2ec-ebf6-41e5-93ee-351451037f9d",
   "metadata": {},
   "outputs": [
    {
     "data": {
      "text/plain": [
       "array([1, 2, 3])"
      ]
     },
     "execution_count": 39,
     "metadata": {},
     "output_type": "execute_result"
    }
   ],
   "source": [
    "x = np.array([1,2,3])\n",
    "x"
   ]
  },
  {
   "cell_type": "code",
   "execution_count": 43,
   "id": "7268b4a3-4bbd-4fd1-9674-20773902dc49",
   "metadata": {},
   "outputs": [
    {
     "name": "stdout",
     "output_type": "stream",
     "text": [
      "[[1 2 3]]\n",
      "[1 2 3]\n"
     ]
    }
   ],
   "source": [
    "# 通过变形获得行向量\n",
    "print(x.reshape((1,3)))\n",
    "print(x)"
   ]
  },
  {
   "cell_type": "code",
   "execution_count": 45,
   "id": "bae2bf4a-337e-433d-854e-dcb7d675f11f",
   "metadata": {},
   "outputs": [
    {
     "data": {
      "text/plain": [
       "array([[1, 2, 3]])"
      ]
     },
     "execution_count": 45,
     "metadata": {},
     "output_type": "execute_result"
    }
   ],
   "source": [
    "# 通过newaxis获得行向量,把np.newaxis加在行索引处\n",
    "x[np.newaxis,:]"
   ]
  },
  {
   "cell_type": "code",
   "execution_count": 46,
   "id": "7d837e12-aa81-43db-9f51-11319c8602b3",
   "metadata": {},
   "outputs": [
    {
     "data": {
      "text/plain": [
       "array([[1],\n",
       "       [2],\n",
       "       [3]])"
      ]
     },
     "execution_count": 46,
     "metadata": {},
     "output_type": "execute_result"
    }
   ],
   "source": [
    "# 通过变形获得列向量\n",
    "x.reshape((3,1))"
   ]
  },
  {
   "cell_type": "code",
   "execution_count": 47,
   "id": "c2b8483d-2228-4c39-9776-6d789941b29f",
   "metadata": {},
   "outputs": [
    {
     "data": {
      "text/plain": [
       "array([[1],\n",
       "       [2],\n",
       "       [3]])"
      ]
     },
     "execution_count": 47,
     "metadata": {},
     "output_type": "execute_result"
    }
   ],
   "source": [
    "# 通过newaxis获得列向量,把np.newaxis加在列索引处\n",
    "x[:,np.newaxis]"
   ]
  },
  {
   "cell_type": "markdown",
   "id": "9b7406e9-03da-4f0e-a8ea-354cdf0da863",
   "metadata": {},
   "source": [
    "## 2.2.5 数组拼接和分裂\n",
    "### 1. 数组的拼接\n",
    "通过np.concatenate、np.vstack和np.hstack实现。\n",
    "np.concatenate将数组元组或数组列表作为第一个参数，如下所示。"
   ]
  },
  {
   "cell_type": "code",
   "execution_count": 48,
   "id": "a54155d8-82fb-46f5-9b29-b593ffb04873",
   "metadata": {},
   "outputs": [
    {
     "data": {
      "text/plain": [
       "array([1, 2, 3, 3, 2, 1])"
      ]
     },
     "execution_count": 48,
     "metadata": {},
     "output_type": "execute_result"
    }
   ],
   "source": [
    "x=np.array([1,2,3])\n",
    "y=np.array([3,2,1])\n",
    "np.concatenate([x,y])"
   ]
  },
  {
   "cell_type": "markdown",
   "id": "d00a8261-1709-40ec-89d0-25a2224a8447",
   "metadata": {},
   "source": [
    "可以一次拼接多个数组"
   ]
  },
  {
   "cell_type": "code",
   "execution_count": 49,
   "id": "e732b6f9-516b-4960-8eac-112f40e9a262",
   "metadata": {},
   "outputs": [
    {
     "name": "stdout",
     "output_type": "stream",
     "text": [
      "[ 1  2  3  3  2  1 99 99 99]\n"
     ]
    }
   ],
   "source": [
    "z=[99,99,99]\n",
    "print(np.concatenate([x,y,z]))"
   ]
  },
  {
   "cell_type": "markdown",
   "id": "dedc44d2-0eaa-4d59-a45f-768d4936e912",
   "metadata": {},
   "source": [
    "np.concatenate也可以用于二维数组的拼接"
   ]
  },
  {
   "cell_type": "code",
   "execution_count": 50,
   "id": "a24b782d-1c68-4a6d-918d-7464ee1e4f42",
   "metadata": {},
   "outputs": [
    {
     "data": {
      "text/plain": [
       "array([[1, 2, 3],\n",
       "       [4, 5, 6]])"
      ]
     },
     "execution_count": 50,
     "metadata": {},
     "output_type": "execute_result"
    }
   ],
   "source": [
    "grid=np.arange(1,7).reshape((2,3))\n",
    "grid"
   ]
  },
  {
   "cell_type": "code",
   "execution_count": 53,
   "id": "fddadd20-85a6-4a15-8bfe-95772dff62af",
   "metadata": {},
   "outputs": [
    {
     "data": {
      "text/plain": [
       "array([[1, 2, 3],\n",
       "       [4, 5, 6],\n",
       "       [1, 2, 3],\n",
       "       [4, 5, 6]])"
      ]
     },
     "execution_count": 53,
     "metadata": {},
     "output_type": "execute_result"
    }
   ],
   "source": [
    "# 沿着第一个轴，也就是纵轴（行向量展开的轴）拼接\n",
    "np.concatenate([grid,grid])"
   ]
  },
  {
   "cell_type": "code",
   "execution_count": 54,
   "id": "2ea5e87b-c913-4d62-a2af-86af892b948e",
   "metadata": {},
   "outputs": [
    {
     "data": {
      "text/plain": [
       "array([[1, 2, 3, 1, 2, 3],\n",
       "       [4, 5, 6, 4, 5, 6]])"
      ]
     },
     "execution_count": 54,
     "metadata": {},
     "output_type": "execute_result"
    }
   ],
   "source": [
    "# 沿着第二个轴，也就是横轴（列向量展开的轴）拼接\n",
    "np.concatenate([grid,grid],axis=1)"
   ]
  },
  {
   "cell_type": "markdown",
   "id": "bb8be034-cf1d-4491-844d-cb3d0b27bc7d",
   "metadata": {},
   "source": [
    "沿着固定的维度处理数组时候，使用vstack（垂直栈）和hstack（水平栈）会更加简洁"
   ]
  },
  {
   "cell_type": "code",
   "execution_count": 55,
   "id": "f9ad7bb3-aa0c-4996-9ccf-c514a22c67b7",
   "metadata": {},
   "outputs": [
    {
     "data": {
      "text/plain": [
       "array([[1, 2, 3],\n",
       "       [1, 2, 3],\n",
       "       [4, 5, 6]])"
      ]
     },
     "execution_count": 55,
     "metadata": {},
     "output_type": "execute_result"
    }
   ],
   "source": [
    "x=np.array([1,2,3])\n",
    "np.vstack([x,grid])"
   ]
  },
  {
   "cell_type": "code",
   "execution_count": 56,
   "id": "9eedf97c-6d13-4fd0-9a1a-8d61bcee930a",
   "metadata": {},
   "outputs": [
    {
     "data": {
      "text/plain": [
       "array([[ 1,  2,  3, 99],\n",
       "       [ 4,  5,  6, 99]])"
      ]
     },
     "execution_count": 56,
     "metadata": {},
     "output_type": "execute_result"
    }
   ],
   "source": [
    "y = np.array([[99],\n",
    "              [99]])\n",
    "np.hstack([grid,y])"
   ]
  },
  {
   "cell_type": "markdown",
   "id": "4648646f-031d-40c6-b780-ab01bee32069",
   "metadata": {},
   "source": [
    "### 2. 数组的分裂\n",
    "可以通过np.split, np.hsplit和np.vsplit实现，向以上函数传递一个索引列表作为参数，索引列表记录了分裂点的位置。"
   ]
  },
  {
   "cell_type": "code",
   "execution_count": 57,
   "id": "50dfbe86-32a9-4b77-b8d7-dde2a61bd6c3",
   "metadata": {},
   "outputs": [
    {
     "name": "stdout",
     "output_type": "stream",
     "text": [
      "[1 2 3] [99 99] [3 2 1]\n"
     ]
    }
   ],
   "source": [
    "x = [1,2,3,99,99,3,2,1]\n",
    "x1,x2,x3 =np.split(x,[3,5])\n",
    "print(x1,x2,x3)"
   ]
  },
  {
   "cell_type": "code",
   "execution_count": 58,
   "id": "da475e41-1346-44f6-9584-db2c834c5005",
   "metadata": {},
   "outputs": [
    {
     "data": {
      "text/plain": [
       "array([[ 0,  1,  2,  3],\n",
       "       [ 4,  5,  6,  7],\n",
       "       [ 8,  9, 10, 11],\n",
       "       [12, 13, 14, 15]])"
      ]
     },
     "execution_count": 58,
     "metadata": {},
     "output_type": "execute_result"
    }
   ],
   "source": [
    "grid=np.arange(16).reshape((4,4))\n",
    "grid"
   ]
  },
  {
   "cell_type": "code",
   "execution_count": 61,
   "id": "26933123-bbcf-4e9c-ab96-205997c4849e",
   "metadata": {},
   "outputs": [
    {
     "name": "stdout",
     "output_type": "stream",
     "text": [
      "[[0 1 2 3]\n",
      " [4 5 6 7]]\n",
      "[[ 8  9 10 11]\n",
      " [12 13 14 15]]\n"
     ]
    }
   ],
   "source": [
    "upper, lower = np.vsplit(grid,[2])\n",
    "print(upper)\n",
    "print(lower)"
   ]
  },
  {
   "cell_type": "code",
   "execution_count": 63,
   "id": "d4646567-0e9f-46d8-b62a-c648f41a3386",
   "metadata": {},
   "outputs": [
    {
     "name": "stdout",
     "output_type": "stream",
     "text": [
      "[[ 0  1]\n",
      " [ 4  5]\n",
      " [ 8  9]\n",
      " [12 13]]\n",
      "[[ 2  3]\n",
      " [ 6  7]\n",
      " [10 11]\n",
      " [14 15]]\n"
     ]
    }
   ],
   "source": [
    "left,right=np.hsplit(grid,[2])\n",
    "print(left)\n",
    "print(right)"
   ]
  },
  {
   "cell_type": "markdown",
   "id": "0858512f-4539-4123-a973-aef2a5c61592",
   "metadata": {},
   "source": [
    "# 2.3 Numpy数组的计算：通用函数\n",
    "Numpy提供了一个简单灵活的接口来优化数组的计算，使得数组能够高效计算的关键是利用**向量化操作**，通常在Numpy的通用函数中实现。\n",
    "## 2.3.1 缓慢的循环\n",
    "Python的默认实现（CPython）十分缓慢，下面介绍了一个例子——计算100万个数字的倒数。"
   ]
  },
  {
   "cell_type": "code",
   "execution_count": 66,
   "id": "f37d9945-711b-40cc-898e-ef2b0e636c04",
   "metadata": {},
   "outputs": [
    {
     "data": {
      "text/plain": [
       "array([0.16666667, 1.        , 0.25      , 0.25      , 0.125     ])"
      ]
     },
     "execution_count": 66,
     "metadata": {},
     "output_type": "execute_result"
    }
   ],
   "source": [
    "import numpy as np\n",
    "np.random.seed(0)\n",
    "\n",
    "def compute_reciprocals(values):\n",
    "    output=np.empty(len(values))\n",
    "    for i in range (len(values)):\n",
    "        output[i] =1.0/values[i]\n",
    "    return output\n",
    "\n",
    "values = np.random.randint(1,10,size=5)\n",
    "compute_reciprocals(values)"
   ]
  },
  {
   "cell_type": "code",
   "execution_count": 67,
   "id": "2086a072-e099-4aca-bcbd-c3cf0afaac3c",
   "metadata": {},
   "outputs": [
    {
     "name": "stdout",
     "output_type": "stream",
     "text": [
      "1.94 s ± 4.14 ms per loop (mean ± std. dev. of 7 runs, 1 loop each)\n"
     ]
    }
   ],
   "source": [
    "big_array=np.random.randint(1,100,size=100_0000)\n",
    "%timeit compute_reciprocals(big_array)"
   ]
  },
  {
   "cell_type": "markdown",
   "id": "81deffb1-3caf-4df2-bcf5-d39765bb4332",
   "metadata": {},
   "source": [
    "## 2.3.2 通用函数介绍\n",
    "Numpy为很多类型的操作提供了非常方便的、静态类型的、可编译程序的接口，也被称为**向量**操作。你可以简单地对数组执行操作来实现，这里对数组的操作将会被用于数组中的每一个元素。相较于CPython，向量操作更为高效采用向量化方法计算之前的示例："
   ]
  },
  {
   "cell_type": "code",
   "execution_count": 68,
   "id": "ec88cca4-1c37-4a75-9d76-cefc4a1a12a2",
   "metadata": {},
   "outputs": [
    {
     "name": "stdout",
     "output_type": "stream",
     "text": [
      "2.58 ms ± 86.4 µs per loop (mean ± std. dev. of 7 runs, 100 loops each)\n"
     ]
    }
   ],
   "source": [
    "%timeit (1.0/big_array)"
   ]
  },
  {
   "cell_type": "markdown",
   "id": "c14b9360-12f8-4d3e-8a47-e0c7013a0340",
   "metadata": {},
   "source": [
    "Numpy中的向量操作是通过通用函数是咸的。通用函数的主要目的是对Numpy数组中的值执行更快的重复操作。它非常灵活，除了上面的的标量和数组之间的运算之外，\n",
    "也可以进行数组和数组之间的运算。"
   ]
  },
  {
   "cell_type": "code",
   "execution_count": 71,
   "id": "81847771-f73d-4b04-9b02-7fb3c01a72cc",
   "metadata": {},
   "outputs": [
    {
     "data": {
      "text/plain": [
       "array([0.        , 0.5       , 0.66666667, 0.75      , 0.8       ])"
      ]
     },
     "execution_count": 71,
     "metadata": {},
     "output_type": "execute_result"
    }
   ],
   "source": [
    "np.arange(5)/np.arange(1,6)"
   ]
  },
  {
   "cell_type": "markdown",
   "id": "05a6ff70-4867-4738-a985-f63ee12c18e5",
   "metadata": {},
   "source": [
    "通用函数并不仅限于一维数组的运算，也可以进行多维数组的运算。"
   ]
  },
  {
   "cell_type": "code",
   "execution_count": 72,
   "id": "06b20f9a-1b1c-4b64-a736-d6318957c523",
   "metadata": {},
   "outputs": [
    {
     "data": {
      "text/plain": [
       "array([[  1,   2,   4],\n",
       "       [  8,  16,  32],\n",
       "       [ 64, 128, 256]], dtype=int32)"
      ]
     },
     "execution_count": 72,
     "metadata": {},
     "output_type": "execute_result"
    }
   ],
   "source": [
    "x=np.arange(9).reshape((3,3))\n",
    "2**x"
   ]
  },
  {
   "cell_type": "markdown",
   "id": "3047c5c8-7cfb-4db2-abea-36046279ca31",
   "metadata": {},
   "source": [
    "向量几乎永远比循环高效，尤其是数组很大时。在编程时，要注意用向量的方式替换循环。\n"
   ]
  },
  {
   "cell_type": "markdown",
   "id": "2231ec0f-e309-4133-b1d0-7a9401755f47",
   "metadata": {},
   "source": [
    "## 2.3.3 探索Numpy的通用函数\n",
    "包括对单个元素使用的**一元通用函数**和对两个元素使用的**二元通用函数**。"
   ]
  },
  {
   "cell_type": "markdown",
   "id": "395f374f-5d87-4549-8b7d-24ee97870012",
   "metadata": {},
   "source": [
    "### 1. 数组的运算\n",
    "常见的运算符如下表所示：\n",
    "\n",
    "|运算符|对应的通用函数|描述|\n",
    "|:---:|:---:|:---:|\n",
    "|+|np.add|加法运算|\n",
    "|-|np.subtract|减法运算|\n",
    "|-|np.negative|负数运算|\n",
    "|*|np.multiply|乘法运算|\n",
    "|*|np.divide|除法运算|\n",
    "|//|np.floor_divide|向下整除运算|\n",
    "|**|np.power|指数运算|\n",
    "|%|np.mod|模/取余|\n",
    "\n",
    "另外，Numpy还有布尔/位运算符，将在2.6进一步介绍。"
   ]
  },
  {
   "cell_type": "markdown",
   "id": "a1a648ee-b6ac-4f9b-a030-9fd7bda5806d",
   "metadata": {},
   "source": [
    "### 2. 绝对值\n",
    "np的绝对值函数可以计算绝对值和复数的模。"
   ]
  },
  {
   "cell_type": "code",
   "execution_count": 73,
   "id": "4a00b142-c765-4c88-9c12-a432d75594ce",
   "metadata": {},
   "outputs": [
    {
     "data": {
      "text/plain": [
       "array([2, 1, 0, 1, 2])"
      ]
     },
     "execution_count": 73,
     "metadata": {},
     "output_type": "execute_result"
    }
   ],
   "source": [
    "x=np.array([-2,-1,0,1,2])\n",
    "np.absolute(x)"
   ]
  },
  {
   "cell_type": "code",
   "execution_count": 74,
   "id": "7a658913-e9aa-41d4-8083-6d0aa2f47068",
   "metadata": {},
   "outputs": [
    {
     "data": {
      "text/plain": [
       "array([2, 1, 0, 1, 2])"
      ]
     },
     "execution_count": 74,
     "metadata": {},
     "output_type": "execute_result"
    }
   ],
   "source": [
    "np.abs(x)"
   ]
  },
  {
   "cell_type": "code",
   "execution_count": 75,
   "id": "054b88fe-85e8-4942-bb1c-97d8775f1059",
   "metadata": {},
   "outputs": [
    {
     "data": {
      "text/plain": [
       "array([5., 5., 2., 1.])"
      ]
     },
     "execution_count": 75,
     "metadata": {},
     "output_type": "execute_result"
    }
   ],
   "source": [
    "x=np.array([3-4j,4-3j,2+0j,0+1j])\n",
    "np.abs(x)"
   ]
  },
  {
   "cell_type": "markdown",
   "id": "32d19e90-51ff-476d-b62c-d3c2027f1be8",
   "metadata": {},
   "source": [
    "### 3. 三角函数\n",
    "Numpy提供了大量好用的通用函数，其中三角函数是最有用的。定义一个角度数组进行展示："
   ]
  },
  {
   "cell_type": "code",
   "execution_count": 76,
   "id": "afc7f338-77a2-431f-9485-2a06917bc5cc",
   "metadata": {},
   "outputs": [],
   "source": [
    "theta=np.linspace(0,np.pi,3)"
   ]
  },
  {
   "cell_type": "code",
   "execution_count": 77,
   "id": "1cc9eec5-d0ee-4c6f-8626-9bb7b54cd160",
   "metadata": {},
   "outputs": [
    {
     "name": "stdout",
     "output_type": "stream",
     "text": [
      "theta= [0.         1.57079633 3.14159265]\n",
      "sin(theta)= [0.0000000e+00 1.0000000e+00 1.2246468e-16]\n",
      "cos(theta)= [ 1.000000e+00  6.123234e-17 -1.000000e+00]\n",
      "tan(theta)= [ 0.00000000e+00  1.63312394e+16 -1.22464680e-16]\n"
     ]
    }
   ],
   "source": [
    "print(\"theta=\", theta)\n",
    "print('sin(theta)=',np.sin(theta))\n",
    "print('cos(theta)=',np.cos(theta))\n",
    "print('tan(theta)=',np.tan(theta))"
   ]
  },
  {
   "cell_type": "markdown",
   "id": "5e17cb92-4156-4087-8669-580646980827",
   "metadata": {},
   "source": [
    "这些函数是按照机器精度来计算的，同样也可以计算逆三角函数："
   ]
  },
  {
   "cell_type": "code",
   "execution_count": 78,
   "id": "2532e06a-97a9-4526-a4af-8cc09d02884b",
   "metadata": {},
   "outputs": [
    {
     "name": "stdout",
     "output_type": "stream",
     "text": [
      "x= [-1, 0, 1]\n",
      "arcsin(x)= [-1.57079633  0.          1.57079633]\n",
      "cos(x)= [3.14159265 1.57079633 0.        ]\n",
      "tan(x)= [-0.78539816  0.          0.78539816]\n"
     ]
    }
   ],
   "source": [
    "x=[-1,0,1]\n",
    "print(\"x=\", x)\n",
    "print('arcsin(x)=',np.arcsin(x))\n",
    "print('cos(x)=',np.arccos(x))\n",
    "print('tan(x)=',np.arctan(x))"
   ]
  },
  {
   "cell_type": "markdown",
   "id": "59a4da45-c876-4fd0-9f8e-a91f69a07fac",
   "metadata": {},
   "source": [
    "### 4. 指数和对数\n",
    "Numpy中另一个常用的通用函数运算是指数运算："
   ]
  },
  {
   "cell_type": "code",
   "execution_count": 79,
   "id": "631cb2d9-66c6-4933-b260-a52a00e418d3",
   "metadata": {},
   "outputs": [
    {
     "name": "stdout",
     "output_type": "stream",
     "text": [
      "x=     [1, 2, 3]\n",
      "e^x=   [ 2.71828183  7.3890561  20.08553692]\n",
      "2^x=   [2. 4. 8.]\n",
      "3^x=   [ 3  9 27]\n"
     ]
    }
   ],
   "source": [
    "x=[1,2,3]\n",
    "print('x=    ',x)\n",
    "print('e^x=  ',np.exp(x))\n",
    "print('2^x=  ',np.exp2(x))\n",
    "print('3^x=  ',np.power(3,x))"
   ]
  },
  {
   "cell_type": "markdown",
   "id": "0d671786-6a29-42d9-8318-6cb028c810b0",
   "metadata": {},
   "source": [
    "对数运算也能使用："
   ]
  },
  {
   "cell_type": "code",
   "execution_count": 80,
   "id": "f5944834-3a7a-4a62-bbb7-c0e526bc6ac5",
   "metadata": {},
   "outputs": [
    {
     "name": "stdout",
     "output_type": "stream",
     "text": [
      "x       = [1, 2, 4, 10]\n",
      "ln(x)   = [0.         0.69314718 1.38629436 2.30258509]\n",
      "log2(x) = [0.         1.         2.         3.32192809]\n",
      "log10(x)= [0.         0.30103    0.60205999 1.        ]\n"
     ]
    }
   ],
   "source": [
    "x=[1,2,4,10]\n",
    "print('x       =',x)\n",
    "print('ln(x)   =',np.log(x))\n",
    "print('log2(x) =',np.log2(x))\n",
    "print('log10(x)=',np.log10(x))"
   ]
  },
  {
   "cell_type": "markdown",
   "id": "c56f8fdc-5915-4040-a6dd-3ec5a03d41cf",
   "metadata": {},
   "source": [
    "还有一些特殊的版本，对于非常小的输入值可以保持较好的精度"
   ]
  },
  {
   "cell_type": "code",
   "execution_count": 84,
   "id": "50b0b746-334c-45a0-9103-99a1b2a9557c",
   "metadata": {},
   "outputs": [
    {
     "name": "stdout",
     "output_type": "stream",
     "text": [
      "exp(x)-1= [0.         0.0010005  0.01005017 0.10517092] normal way= [0.         0.0010005  0.01005017 0.10517092]\n",
      "log(1+x)= [0.         0.0009995  0.00995033 0.09531018] normal way= [0.         0.0009995  0.00995033 0.09531018]\n"
     ]
    }
   ],
   "source": [
    "x=np.array([0,0.001,0.01,0.1])\n",
    "print('exp(x)-1=',np.expm1(x),'normal way=',np.exp(x)-1)\n",
    "print('log(1+x)=',np.log1p(x),'normal way=',np.log(1+x))\n"
   ]
  },
  {
   "cell_type": "markdown",
   "id": "5b3684f4-67ad-4f85-b056-0c104a74b32b",
   "metadata": {},
   "source": [
    "### 5. 专用的通用函数\n",
    "Numpy文档中有许多的特殊函数，scipy.special模块中则拥有一些统计学中可能用到的函数。"
   ]
  },
  {
   "cell_type": "markdown",
   "id": "3b466e9d-524c-4e7d-9e8f-4d85b58ed597",
   "metadata": {},
   "source": [
    "## 2.3.4 高级的通用函数特性\n",
    "### 1. 指定输出\n",
    "通用函数可以直接通过out参数将结果写入期望的位置，这对于大规模的数组计算来说十分的重要。如下面的例子："
   ]
  },
  {
   "cell_type": "code",
   "execution_count": 86,
   "id": "e768609a-b973-4824-a403-7fb57a9a948c",
   "metadata": {},
   "outputs": [
    {
     "data": {
      "text/plain": [
       "array([ 0., 10., 20., 30., 40.])"
      ]
     },
     "execution_count": 86,
     "metadata": {},
     "output_type": "execute_result"
    }
   ],
   "source": [
    "x = np.arange(5)\n",
    "y = np.empty(5)\n",
    "np.multiply(x,10,out=y)\n",
    "y"
   ]
  },
  {
   "cell_type": "markdown",
   "id": "c444227e-f73d-4ff3-b34d-3944c9aa7c9e",
   "metadata": {},
   "source": [
    "这个特性能够对于数组视图使用，例如可以指定每隔一个元素输出："
   ]
  },
  {
   "cell_type": "code",
   "execution_count": 88,
   "id": "f5fc6693-4b93-4e90-ab69-1ec5b016c222",
   "metadata": {},
   "outputs": [
    {
     "data": {
      "text/plain": [
       "array([ 1.,  0.,  2.,  0.,  4.,  0.,  8.,  0., 16.,  0.])"
      ]
     },
     "execution_count": 88,
     "metadata": {},
     "output_type": "execute_result"
    }
   ],
   "source": [
    "y = np.zeros(10)\n",
    "np.power(2,x,out=y[::2])\n",
    "y"
   ]
  },
  {
   "cell_type": "markdown",
   "id": "06b0ec98-1299-4750-82c3-794a47f2619a",
   "metadata": {},
   "source": [
    "### 2. 聚合\n",
    "二元通用函数有些非常有用的聚合功能，可以直接在对象上计算。\n",
    "\n",
    "reduce方法可以对给定的元素和操作重复执行，直至得到单个的结果。例如，对add通用函数调用reduce会得到所有函数的和："
   ]
  },
  {
   "cell_type": "code",
   "execution_count": 89,
   "id": "feb0341d-8db0-4a7e-837a-51a544184b4f",
   "metadata": {},
   "outputs": [
    {
     "data": {
      "text/plain": [
       "15"
      ]
     },
     "execution_count": 89,
     "metadata": {},
     "output_type": "execute_result"
    }
   ],
   "source": [
    "x = np.arange(1,6)\n",
    "np.add.reduce(x)"
   ]
  },
  {
   "cell_type": "markdown",
   "id": "8f19fb2d-7e7e-44d2-8e7c-a34db9bf8c93",
   "metadata": {},
   "source": [
    "同样的，对multiply方法调用reduce会得到所有元素的积。"
   ]
  },
  {
   "cell_type": "code",
   "execution_count": 92,
   "id": "6c52aa42-f148-4032-b81a-b1f095a85b96",
   "metadata": {},
   "outputs": [
    {
     "data": {
      "text/plain": [
       "120"
      ]
     },
     "execution_count": 92,
     "metadata": {},
     "output_type": "execute_result"
    }
   ],
   "source": [
    "np.multiply.reduce(x)"
   ]
  },
  {
   "cell_type": "markdown",
   "id": "2b24bee0-24fd-41df-8002-b6cfa3e6644a",
   "metadata": {},
   "source": [
    "如果需要存储每次计算的中间结果，可以使用accumulate："
   ]
  },
  {
   "cell_type": "code",
   "execution_count": 93,
   "id": "4e88ddd7-2b3e-400c-9333-fb5c4f526b41",
   "metadata": {},
   "outputs": [
    {
     "data": {
      "text/plain": [
       "array([ 1,  3,  6, 10, 15])"
      ]
     },
     "execution_count": 93,
     "metadata": {},
     "output_type": "execute_result"
    }
   ],
   "source": [
    "np.add.accumulate(x)"
   ]
  },
  {
   "cell_type": "code",
   "execution_count": 94,
   "id": "75c617e3-fd59-41dd-a0e4-63643c790b76",
   "metadata": {},
   "outputs": [
    {
     "data": {
      "text/plain": [
       "array([  1,   2,   6,  24, 120])"
      ]
     },
     "execution_count": 94,
     "metadata": {},
     "output_type": "execute_result"
    }
   ],
   "source": [
    "np.multiply.accumulate(x)"
   ]
  },
  {
   "cell_type": "markdown",
   "id": "9b50a238-c44c-4c11-8c44-6488099b7b6e",
   "metadata": {},
   "source": [
    "在一些特殊情况下，Numpy提供了专用函数（sum,prod）,之后会专门介绍。"
   ]
  },
  {
   "cell_type": "markdown",
   "id": "9a7e87c3-7021-4b9a-a8d1-66ff01fa3a13",
   "metadata": {},
   "source": [
    "### 3.外积\n",
    "任何通用函数都可以用outer方法获得两个不同输入元组的所有元素对的函数运算结果。"
   ]
  },
  {
   "cell_type": "code",
   "execution_count": 96,
   "id": "7318d788-92f6-4fc7-8dc4-fda227ccaff5",
   "metadata": {},
   "outputs": [
    {
     "data": {
      "text/plain": [
       "array([[ 1,  2,  3,  4,  5],\n",
       "       [ 2,  4,  6,  8, 10],\n",
       "       [ 3,  6,  9, 12, 15],\n",
       "       [ 4,  8, 12, 16, 20],\n",
       "       [ 5, 10, 15, 20, 25]])"
      ]
     },
     "execution_count": 96,
     "metadata": {},
     "output_type": "execute_result"
    }
   ],
   "source": [
    "np.multiply.outer(x,x)"
   ]
  },
  {
   "cell_type": "code",
   "execution_count": 97,
   "id": "5e520348-3278-4ba3-af9a-536a74d4af8c",
   "metadata": {},
   "outputs": [
    {
     "name": "stdout",
     "output_type": "stream",
     "text": [
      "[[1 2 3]\n",
      " [4 5 6]]\n",
      "[[3 6 4 2]\n",
      " [7 8 1 4]\n",
      " [3 8 8 7]]\n"
     ]
    }
   ],
   "source": [
    "m = np.arange(1,7).reshape((2,3))\n",
    "n = np.random.randint(1,10,(3,4))\n",
    "print(m)\n",
    "print(n)"
   ]
  },
  {
   "cell_type": "code",
   "execution_count": 98,
   "id": "41d6f904-4d75-495f-a740-8bb6cbd72d32",
   "metadata": {},
   "outputs": [
    {
     "data": {
      "text/plain": [
       "array([[[[ 4,  7,  5,  3],\n",
       "         [ 8,  9,  2,  5],\n",
       "         [ 4,  9,  9,  8]],\n",
       "\n",
       "        [[ 5,  8,  6,  4],\n",
       "         [ 9, 10,  3,  6],\n",
       "         [ 5, 10, 10,  9]],\n",
       "\n",
       "        [[ 6,  9,  7,  5],\n",
       "         [10, 11,  4,  7],\n",
       "         [ 6, 11, 11, 10]]],\n",
       "\n",
       "\n",
       "       [[[ 7, 10,  8,  6],\n",
       "         [11, 12,  5,  8],\n",
       "         [ 7, 12, 12, 11]],\n",
       "\n",
       "        [[ 8, 11,  9,  7],\n",
       "         [12, 13,  6,  9],\n",
       "         [ 8, 13, 13, 12]],\n",
       "\n",
       "        [[ 9, 12, 10,  8],\n",
       "         [13, 14,  7, 10],\n",
       "         [ 9, 14, 14, 13]]]])"
      ]
     },
     "execution_count": 98,
     "metadata": {},
     "output_type": "execute_result"
    }
   ],
   "source": [
    "np.add.outer(m,n)"
   ]
  },
  {
   "cell_type": "markdown",
   "id": "8f6545dc-050c-45bc-ba14-5f6351184662",
   "metadata": {},
   "source": [
    "2.7节将介绍非常有用的ufunc.at和ufunc.reduceat方法。\n",
    "\n",
    "通用函数的另外一个非常有用的特性是能操作不同大小和形状的数组，一组这样的操作被称为**广播**，我们将在2.5节讨论广播。\n",
    "\n",
    "更多和通用函数有关的信息可查询SciPy和Numpy官方文档。"
   ]
  },
  {
   "cell_type": "markdown",
   "id": "1ffed5ac-4211-42e2-9ba5-b90d89bf12af",
   "metadata": {},
   "source": [
    "# 2.4 聚合：最大值、最小值和其他值\n",
    "当你面对一个大量的数据时，第一个步骤通常是计算相关数据的统计概括值。np提供了许多内置函数用于聚合操作。"
   ]
  },
  {
   "cell_type": "markdown",
   "id": "c14db4c8-8e3a-4746-99f1-f7c85477c83b",
   "metadata": {},
   "source": [
    "## 2.4.1 数组值求和\n",
    "相较于Python的内置函数，np的内置函数更加快速。但是Numpy的sum聚合函数与sum函数并不相同，np的sum函数知道np数组的结构信息。"
   ]
  },
  {
   "cell_type": "code",
   "execution_count": 1,
   "id": "da14ac4a-09c9-4491-9d8f-0c054754c482",
   "metadata": {},
   "outputs": [],
   "source": [
    "import numpy as np"
   ]
  },
  {
   "cell_type": "code",
   "execution_count": 2,
   "id": "cbb3cd8e-0023-49a6-ae25-5f557a7d9454",
   "metadata": {},
   "outputs": [
    {
     "data": {
      "text/plain": [
       "49.854092362378644"
      ]
     },
     "execution_count": 2,
     "metadata": {},
     "output_type": "execute_result"
    }
   ],
   "source": [
    "L=np.random.random(100)\n",
    "sum(L)"
   ]
  },
  {
   "cell_type": "code",
   "execution_count": 3,
   "id": "5d01f893-1511-4b0c-a3b7-958b5209eef9",
   "metadata": {},
   "outputs": [
    {
     "data": {
      "text/plain": [
       "49.85409236237866"
      ]
     },
     "execution_count": 3,
     "metadata": {},
     "output_type": "execute_result"
    }
   ],
   "source": [
    "np.sum(L)"
   ]
  },
  {
   "cell_type": "code",
   "execution_count": 4,
   "id": "8f1460ee-4b66-4fe6-8a30-1ab6cf776546",
   "metadata": {},
   "outputs": [
    {
     "name": "stdout",
     "output_type": "stream",
     "text": [
      "8.93 s ± 13.7 ms per loop (mean ± std. dev. of 7 runs, 1 loop each)\n",
      "131 ms ± 2.64 ms per loop (mean ± std. dev. of 7 runs, 10 loops each)\n"
     ]
    }
   ],
   "source": [
    "big_array=np.random.rand(100000000)\n",
    "%timeit sum(big_array)\n",
    "%timeit np.sum(big_array)"
   ]
  },
  {
   "cell_type": "markdown",
   "id": "55737c50-6708-4f84-85a2-eb037c025d93",
   "metadata": {},
   "source": [
    "## 2.4.2 最大值和最小值\n",
    "min函数和max函数与sum函数有着同样的特征。"
   ]
  },
  {
   "cell_type": "code",
   "execution_count": 5,
   "id": "c6ec09cd-51c2-4c52-a501-9f7143cad94b",
   "metadata": {},
   "outputs": [
    {
     "data": {
      "text/plain": [
       "(1.037157804084643e-09, 0.9999999886956975)"
      ]
     },
     "execution_count": 5,
     "metadata": {},
     "output_type": "execute_result"
    }
   ],
   "source": [
    "min(big_array),max(big_array)"
   ]
  },
  {
   "cell_type": "code",
   "execution_count": 6,
   "id": "5dbd4505-a8b5-46a7-b666-561b408642ee",
   "metadata": {},
   "outputs": [
    {
     "data": {
      "text/plain": [
       "(1.037157804084643e-09, 0.9999999886956975)"
      ]
     },
     "execution_count": 6,
     "metadata": {},
     "output_type": "execute_result"
    }
   ],
   "source": [
    "np.min(big_array),np.max(big_array)"
   ]
  },
  {
   "cell_type": "code",
   "execution_count": 7,
   "id": "13e39a8d-a5ed-483c-8a70-9d3e8e0ccc5a",
   "metadata": {},
   "outputs": [
    {
     "name": "stdout",
     "output_type": "stream",
     "text": [
      "6.56 s ± 50.1 ms per loop (mean ± std. dev. of 7 runs, 1 loop each)\n",
      "38.8 ms ± 305 µs per loop (mean ± std. dev. of 7 runs, 10 loops each)\n"
     ]
    }
   ],
   "source": [
    "%timeit min(big_array)\n",
    "%timeit np.min(big_array)"
   ]
  },
  {
   "cell_type": "markdown",
   "id": "c9a8b7a7-5729-43c2-ad4c-2dd2f35d8060",
   "metadata": {},
   "source": [
    "对于Numpy聚合方法，一种**更加简洁**的语法形式是**数组对象直接调用**。\n",
    "操作Numpy数组时，确保你使用的**Numpy版本的聚合。**"
   ]
  },
  {
   "cell_type": "code",
   "execution_count": 8,
   "id": "d08be8da-3db5-471d-864f-9e5a9ec7af07",
   "metadata": {},
   "outputs": [
    {
     "name": "stdout",
     "output_type": "stream",
     "text": [
      "1.037157804084643e-09 0.9999999886956975 49999109.01518245\n"
     ]
    }
   ],
   "source": [
    "print(big_array.min(),big_array.max(),big_array.sum())"
   ]
  },
  {
   "cell_type": "markdown",
   "id": "00832977-c5f2-4667-9d45-ad514eff751e",
   "metadata": {},
   "source": [
    "### 1. 多维度聚合\n",
    "一种常用的操作是沿着一行或一列的聚合。默认情况下会返回对整个数组的聚合："
   ]
  },
  {
   "cell_type": "code",
   "execution_count": 9,
   "id": "01b3ec56-5c31-442d-adf2-b8eb3a3c1b90",
   "metadata": {},
   "outputs": [
    {
     "name": "stdout",
     "output_type": "stream",
     "text": [
      "[[0.39030923 0.94432056 0.63199021 0.50087415]\n",
      " [0.33305034 0.3928272  0.12817094 0.54673568]\n",
      " [0.4075864  0.84372573 0.87552316 0.08392905]]\n"
     ]
    }
   ],
   "source": [
    "M=np.random.random((3,4))\n",
    "print(M)"
   ]
  },
  {
   "cell_type": "code",
   "execution_count": 10,
   "id": "0994a60a-c1f2-400d-babd-974f8dcad6b0",
   "metadata": {},
   "outputs": [
    {
     "data": {
      "text/plain": [
       "6.079042679169074"
      ]
     },
     "execution_count": 10,
     "metadata": {},
     "output_type": "execute_result"
    }
   ],
   "source": [
    "M.sum()"
   ]
  },
  {
   "cell_type": "markdown",
   "id": "f59b6286-0bb2-403d-952f-ea3e5638f76d",
   "metadata": {},
   "source": [
    "聚合函数还有一个参数，用于指定沿着哪个**轴**的方向进行聚合。例如，可以通过指定axis=0找到每一列的最小值。"
   ]
  },
  {
   "cell_type": "code",
   "execution_count": 11,
   "id": "53db1e10-809c-4f5d-b573-26f6384c1385",
   "metadata": {},
   "outputs": [
    {
     "data": {
      "text/plain": [
       "array([0.33305034, 0.3928272 , 0.12817094, 0.08392905])"
      ]
     },
     "execution_count": 11,
     "metadata": {},
     "output_type": "execute_result"
    }
   ],
   "source": [
    "M.min(axis=0)"
   ]
  },
  {
   "cell_type": "markdown",
   "id": "8161d734-9d35-4817-b0d5-01492647eb87",
   "metadata": {},
   "source": [
    "也可以设置axis=1得到每一行的最大值。"
   ]
  },
  {
   "cell_type": "code",
   "execution_count": 13,
   "id": "32887be4-241c-455a-ad4b-76e9c8b51b81",
   "metadata": {},
   "outputs": [
    {
     "data": {
      "text/plain": [
       "array([0.94432056, 0.54673568, 0.87552316])"
      ]
     },
     "execution_count": 13,
     "metadata": {},
     "output_type": "execute_result"
    }
   ],
   "source": [
    "M.max(axis=1)"
   ]
  },
  {
   "cell_type": "markdown",
   "id": "9919e4ce-035f-428d-881f-23edd189d9bd",
   "metadata": {},
   "source": [
    "一定记住，axis关键字指定的是**数组将会被折叠的维度**，而不是将要返回的维度。"
   ]
  },
  {
   "cell_type": "markdown",
   "id": "ba808a12-bdc2-4069-a376-d913e9280863",
   "metadata": {},
   "source": [
    "### 2.其他聚合函数\n",
    "Numpy提供了很多其他的聚合函数，这些函数具有很好的对NaN值的安全处理策略。下表对这些函数进行了总结：\n",
    "|函数名称|NaN安全版本|描述|\n",
    "|:---|:-----|:-----|\n",
    "|np.sum|np.nansum|计算元素的和|\n",
    "|np.prod|np.nanprod|计算元素的积|\n",
    "|np.mean|np.nanmean|计算元素的均值|\n",
    "|np.std|np.nanstd|计算元素的标准差|\n",
    "|np.var|np.nanvar|计算元素的方差|\n",
    "|np.min|np.nanmin|找出最小值|\n",
    "|np.max|np.nanmax|找出最大值|\n",
    "|np.argmin|np.nanargmin|找出最小值的索引|\n",
    "|np.argmax|np.nanargmax|找出最大值的索引|\n",
    "|np.median|np.nanmedian|计算元素的中位数|\n",
    "|np.precentile|np.nanprecentile|计算基于元素排序的统计值|\n",
    "|np.any|N/A|验证是否存在元素为真|\n",
    "|np.all|N/A|验证所有元素是否为真|"
   ]
  },
  {
   "cell_type": "markdown",
   "id": "57323ea6-b1a5-4904-a287-d879ecb50b93",
   "metadata": {},
   "source": [
    "## 2.4.3 实例：美国总体的身高是多少\n",
    "用Numpy聚合功能概括一组数据非常有用。这里举一个简单的例子：计算美国总体的身高。"
   ]
  },
  {
   "cell_type": "code",
   "execution_count": 16,
   "id": "55636f37-13e0-4ab2-b9f0-685894c92369",
   "metadata": {},
   "outputs": [
    {
     "data": {
      "text/html": [
       "<div>\n",
       "<style scoped>\n",
       "    .dataframe tbody tr th:only-of-type {\n",
       "        vertical-align: middle;\n",
       "    }\n",
       "\n",
       "    .dataframe tbody tr th {\n",
       "        vertical-align: top;\n",
       "    }\n",
       "\n",
       "    .dataframe thead th {\n",
       "        text-align: right;\n",
       "    }\n",
       "</style>\n",
       "<table border=\"1\" class=\"dataframe\">\n",
       "  <thead>\n",
       "    <tr style=\"text-align: right;\">\n",
       "      <th></th>\n",
       "      <th>order</th>\n",
       "      <th>name</th>\n",
       "      <th>height(cm)</th>\n",
       "    </tr>\n",
       "  </thead>\n",
       "  <tbody>\n",
       "    <tr>\n",
       "      <th>0</th>\n",
       "      <td>1</td>\n",
       "      <td>George Washington</td>\n",
       "      <td>189</td>\n",
       "    </tr>\n",
       "    <tr>\n",
       "      <th>1</th>\n",
       "      <td>2</td>\n",
       "      <td>John Adams</td>\n",
       "      <td>170</td>\n",
       "    </tr>\n",
       "    <tr>\n",
       "      <th>2</th>\n",
       "      <td>3</td>\n",
       "      <td>Thomas Jefferson</td>\n",
       "      <td>189</td>\n",
       "    </tr>\n",
       "    <tr>\n",
       "      <th>3</th>\n",
       "      <td>4</td>\n",
       "      <td>James Madison</td>\n",
       "      <td>163</td>\n",
       "    </tr>\n",
       "    <tr>\n",
       "      <th>4</th>\n",
       "      <td>5</td>\n",
       "      <td>James Monroe</td>\n",
       "      <td>183</td>\n",
       "    </tr>\n",
       "  </tbody>\n",
       "</table>\n",
       "</div>"
      ],
      "text/plain": [
       "   order               name  height(cm)\n",
       "0      1  George Washington         189\n",
       "1      2         John Adams         170\n",
       "2      3   Thomas Jefferson         189\n",
       "3      4      James Madison         163\n",
       "4      5       James Monroe         183"
      ]
     },
     "execution_count": 16,
     "metadata": {},
     "output_type": "execute_result"
    }
   ],
   "source": [
    "import pandas as pd\n",
    "data=pd.read_csv('data/president_heights.csv')\n",
    "height=data.head()\n",
    "height"
   ]
  },
  {
   "cell_type": "markdown",
   "id": "b2212be7-e0b5-4f04-94c6-3a81b3d5c4b3",
   "metadata": {},
   "source": [
    "上述代码采用pandas读取csv表格，并展示了前五行。接下来，抽取身高数据。"
   ]
  },
  {
   "cell_type": "code",
   "execution_count": 18,
   "id": "2b25ca9f-f903-48ff-89ab-58377f758ac8",
   "metadata": {},
   "outputs": [
    {
     "name": "stdout",
     "output_type": "stream",
     "text": [
      "[189 170 189 163 183 171 185 168 173 183 173 173 175 178 183 193 178 173\n",
      " 174 183 183 168 170 178 182 180 183 178 182 188 175 179 183 193 182 183\n",
      " 177 185 188 188 182 185]\n"
     ]
    }
   ],
   "source": [
    "heights = np.array(data['height(cm)'])\n",
    "print(heights)"
   ]
  },
  {
   "cell_type": "markdown",
   "id": "87735fb7-8b2b-4a8b-8305-8b75fc64b15e",
   "metadata": {},
   "source": [
    "计算下述统计概括值。"
   ]
  },
  {
   "cell_type": "code",
   "execution_count": 19,
   "id": "cb14e14f-3cf9-419d-98f3-9159bd8e7413",
   "metadata": {},
   "outputs": [
    {
     "name": "stdout",
     "output_type": "stream",
     "text": [
      "Mean height:         179.73809523809524\n",
      "Standard deviation:  6.931843442745892\n",
      "Maximum height:      193\n",
      "Minimum height:      163\n"
     ]
    }
   ],
   "source": [
    "print('Mean height:        ',heights.mean())\n",
    "print('Standard deviation: ',heights.std())\n",
    "print('Maximum height:     ',heights.max())\n",
    "print('Minimum height:     ',heights.min())"
   ]
  },
  {
   "cell_type": "markdown",
   "id": "ad24eff7-ff7d-47e7-867b-df4027733297",
   "metadata": {},
   "source": [
    "同样的，可以计算相应的分位数，可以看到美国总统的身高中位数为182cm。"
   ]
  },
  {
   "cell_type": "code",
   "execution_count": 20,
   "id": "48682400-18b8-45e9-a535-68dfeac030a7",
   "metadata": {},
   "outputs": [
    {
     "name": "stdout",
     "output_type": "stream",
     "text": [
      "25th percentile:     174.25\n",
      "Median:              182.0\n",
      "75th percentile:     183.0\n"
     ]
    }
   ],
   "source": [
    "print('25th percentile:    ',np.percentile(heights,25))\n",
    "print('Median:             ',np.median(heights))\n",
    "print('75th percentile:    ',np.percentile(heights,75))"
   ]
  },
  {
   "cell_type": "markdown",
   "id": "b160e964-b154-4b3e-9e14-e39e3b562798",
   "metadata": {},
   "source": [
    "通过Matplotlib进行一个快速的可视化"
   ]
  },
  {
   "cell_type": "code",
   "execution_count": 23,
   "id": "d48a2514-d5f5-4c85-a3f9-b98f4e3b07bb",
   "metadata": {},
   "outputs": [],
   "source": [
    "%matplotlib inline\n",
    "import matplotlib.pyplot as plt\n",
    "import seaborn; seaborn.set() # 设置绘图风格\n",
    "plt.rcParams['font.sans-serif'] = ['SimHei'] # 用来正常显示中文标签\n",
    "plt.rcParams['axes.unicode_minus'] = False # 用来正常显示负号"
   ]
  },
  {
   "cell_type": "code",
   "execution_count": 24,
   "id": "2355b239-57f6-4113-84a7-986214065e9f",
   "metadata": {},
   "outputs": [
    {
     "data": {
      "image/png": "[encoded data removed]",
      "text/plain": [
       "<Figure size 640x480 with 1 Axes>"
      ]
     },
     "metadata": {},
     "output_type": "display_data"
    }
   ],
   "source": [
    "plt.hist(heights)\n",
    "plt.title('美国总统身高分布')\n",
    "plt.xlabel('height(cm)')\n",
    "plt.ylabel('number');"
   ]
  },
  {
   "cell_type": "code",
   "execution_count": null,
   "id": "8e1d6957-15bf-446f-ad44-93bfd05638b5",
   "metadata": {},
   "outputs": [],
   "source": []
  }
 ],
 "metadata": {
  "kernelspec": {
   "display_name": "Python 3 (ipykernel)",
   "language": "python",
   "name": "python3"
  },
  "language_info": {
   "codemirror_mode": {
    "name": "ipython",
    "version": 3
   },
   "file_extension": ".py",
   "mimetype": "text/x-python",
   "name": "python",
   "nbconvert_exporter": "python",
   "pygments_lexer": "ipython3",
   "version": "3.11.7"
  }
 },
 "nbformat": 4,
 "nbformat_minor": 5
}
