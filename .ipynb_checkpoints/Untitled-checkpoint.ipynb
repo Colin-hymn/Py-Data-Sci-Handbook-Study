{
 "cells": [
  {
   "cell_type": "markdown",
   "id": "18a50dd9-dcbd-4f59-ac20-8ba2af455b3c",
   "metadata": {},
   "source": [
    "# 3.5 处理缺失值\n",
    "本节涉及的缺失值主要有三种形式：null，NaN或者NA。\n",
    "## 3.5.1 选择处理缺失值的方法\n",
    "一般有两种方式处理，一种是使用覆盖所有数据的掩码表示缺失值，另一种是用标签值表示缺失值。两种方式没有绝对的好坏。\n",
    "## 3.5.2 Pandas的缺失值\n",
    "Pandas里处理缺失值的方式延续了Numpy的程序包方式，采用标签方式处理缺失值。\n",
    "### None：Python对象类型的缺失值\n",
    "Python内置的缺失值是None，它是一个Python单体对象，因此不能作为任何Numpy/Pandas数组类型的缺失值，只能用于'object'数组类型。"
   ]
  },
  {
   "cell_type": "code",
   "execution_count": 1,
   "id": "8952404d-1dc7-4540-bcc6-dea41d4bc46a",
   "metadata": {},
   "outputs": [],
   "source": [
    "import pandas as pd\n",
    "import numpy as np"
   ]
  },
  {
   "cell_type": "code",
   "execution_count": null,
   "id": "168478aa-80f3-45b7-bd49-e5f063185cbe",
   "metadata": {},
   "outputs": [],
   "source": []
  }
 ],
 "metadata": {
  "kernelspec": {
   "display_name": "Python 3 (ipykernel)",
   "language": "python",
   "name": "python3"
  },
  "language_info": {
   "codemirror_mode": {
    "name": "ipython",
    "version": 3
   },
   "file_extension": ".py",
   "mimetype": "text/x-python",
   "name": "python",
   "nbconvert_exporter": "python",
   "pygments_lexer": "ipython3",
   "version": "3.11.7"
  }
 },
 "nbformat": 4,
 "nbformat_minor": 5
}
