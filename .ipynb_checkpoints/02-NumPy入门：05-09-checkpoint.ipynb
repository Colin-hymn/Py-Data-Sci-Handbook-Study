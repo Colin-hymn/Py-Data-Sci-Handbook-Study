{
 "cells": [
  {
   "cell_type": "markdown",
   "id": "4b08d918-e532-4337-aac7-c81c8225a9df",
   "metadata": {},
   "source": [
    "# 2.5 数组的计算：广播\n",
    "我们在前面的部分讨论了如何用向量化方法来减少缓慢的Python循环，另一种向量化的方法是使用python的广播功能。广播可以简单理解为用于不同大小数组的二元通用函数的一组规则。\n",
    "## 2.5.1 广播的介绍\n",
    "前面曾经提到过，对于同样大小的数组，二元运算符是对相应元素的逐个计算："
   ]
  },
  {
   "cell_type": "code",
   "execution_count": 1,
   "id": "3f4e34a8-131a-46bb-a591-0cb85b433871",
   "metadata": {},
   "outputs": [
    {
     "data": {
      "text/plain": [
       "array([5, 6, 7])"
      ]
     },
     "execution_count": 1,
     "metadata": {},
     "output_type": "execute_result"
    }
   ],
   "source": [
    "import numpy as np\n",
    "\n",
    "a = np.array([0,1,2])\n",
    "b = np.array([5,5,5])\n",
    "\n",
    "a+b"
   ]
  },
  {
   "cell_type": "markdown",
   "id": "26d8a03c-c4e8-4526-81de-f868bd61261e",
   "metadata": {},
   "source": [
    "广播允许这些运算符运用于维度不同的数组，例如，可以将数组与标量相加。"
   ]
  },
  {
   "cell_type": "code",
   "execution_count": 2,
   "id": "f6131a64-f8fd-4cfd-8178-ebbcaf5aa174",
   "metadata": {},
   "outputs": [
    {
     "data": {
      "text/plain": [
       "array([5, 6, 7])"
      ]
     },
     "execution_count": 2,
     "metadata": {},
     "output_type": "execute_result"
    }
   ],
   "source": [
    "a+5"
   ]
  },
  {
   "cell_type": "markdown",
   "id": "69435cdd-39be-48b6-9760-b988fd4ce4bd",
   "metadata": {},
   "source": [
    "下面则提供了一个更高维的实例："
   ]
  },
  {
   "cell_type": "code",
   "execution_count": 3,
   "id": "8e53fe9c-4531-4755-80d9-233d5fd1b34f",
   "metadata": {},
   "outputs": [],
   "source": [
    "M = np.ones((3,3))"
   ]
  },
  {
   "cell_type": "code",
   "execution_count": 4,
   "id": "f40207a8-d92c-4855-bd97-49d307c6679b",
   "metadata": {},
   "outputs": [
    {
     "data": {
      "text/plain": [
       "array([[1., 2., 3.],\n",
       "       [1., 2., 3.],\n",
       "       [1., 2., 3.]])"
      ]
     },
     "execution_count": 4,
     "metadata": {},
     "output_type": "execute_result"
    }
   ],
   "source": [
    "M+a"
   ]
  },
  {
   "cell_type": "markdown",
   "id": "34ab5068-acf9-4349-a63a-0fb646db7276",
   "metadata": {},
   "source": [
    "## 2.5.2 广播的规则\n",
    "Numpy的广播遵循下面三条严格的规则：\n",
    "<ol>\n",
    "<li>如果两个数组维度不同，那么小维度数组的形状将会在最左边补1。</li>\n",
    "<li>如果两个数组的形状在任何一个维度上都不匹配，那么数组的形状会沿着维度为1的维度扩展以匹配另一个数组的形状。</li>\n",
    "<li>如果两个数组的形状在任何一个维度上都不匹配并且没有任何一个维度等于1，那么会引发异常。</li>\n",
    "</ol>\n",
    "下面展示了几个实例。\n",
    "\n",
    "### 1. 广播实例1"
   ]
  },
  {
   "cell_type": "code",
   "execution_count": 6,
   "id": "012e3d61-810e-4807-812e-c6a70f0485b1",
   "metadata": {},
   "outputs": [
    {
     "data": {
      "text/plain": [
       "array([[1., 2., 3.],\n",
       "       [1., 2., 3.]])"
      ]
     },
     "execution_count": 6,
     "metadata": {},
     "output_type": "execute_result"
    }
   ],
   "source": [
    "M = np.ones((2,3))\n",
    "a = np.arange(3)\n",
    "M+a"
   ]
  },
  {
   "cell_type": "markdown",
   "id": "63c59dee-e757-40cb-88cc-bfdd01b611c8",
   "metadata": {},
   "source": [
    "### 2. 广播实例2"
   ]
  },
  {
   "cell_type": "code",
   "execution_count": 7,
   "id": "b861009d-4f44-4192-bdca-68a1350056db",
   "metadata": {},
   "outputs": [
    {
     "data": {
      "text/plain": [
       "array([[0, 1, 2],\n",
       "       [1, 2, 3],\n",
       "       [2, 3, 4]])"
      ]
     },
     "execution_count": 7,
     "metadata": {},
     "output_type": "execute_result"
    }
   ],
   "source": [
    "a = np.arange(3).reshape((3,1))\n",
    "b = np.arange(3)\n",
    "a+b"
   ]
  },
  {
   "cell_type": "markdown",
   "id": "7d9d2d24-d057-4248-ae22-52a1597b08cf",
   "metadata": {},
   "source": [
    "### 3.广播实例3"
   ]
  },
  {
   "cell_type": "code",
   "execution_count": 8,
   "id": "830ae22a-1f6c-475f-9a76-e9cb15bee73b",
   "metadata": {},
   "outputs": [
    {
     "ename": "ValueError",
     "evalue": "operands could not be broadcast together with shapes (3,2) (3,) ",
     "output_type": "error",
     "traceback": [
      "\u001b[1;31m---------------------------------------------------------------------------\u001b[0m",
      "\u001b[1;31mValueError\u001b[0m                                Traceback (most recent call last)",
      "Cell \u001b[1;32mIn[8], line 3\u001b[0m\n\u001b[0;32m      1\u001b[0m M \u001b[38;5;241m=\u001b[39m np\u001b[38;5;241m.\u001b[39mones((\u001b[38;5;241m3\u001b[39m,\u001b[38;5;241m2\u001b[39m))\n\u001b[0;32m      2\u001b[0m a \u001b[38;5;241m=\u001b[39m np\u001b[38;5;241m.\u001b[39marange(\u001b[38;5;241m3\u001b[39m)\n\u001b[1;32m----> 3\u001b[0m M\u001b[38;5;241m+\u001b[39ma\n",
      "\u001b[1;31mValueError\u001b[0m: operands could not be broadcast together with shapes (3,2) (3,) "
     ]
    }
   ],
   "source": [
    "M = np.ones((3,2))\n",
    "a = np.arange(3)\n",
    "M+a"
   ]
  },
  {
   "cell_type": "markdown",
   "id": "e780066e-d753-43e7-8afc-f745505f8ee5",
   "metadata": {},
   "source": [
    "你可能想，可以在a数组的维度右侧加上1，这样就可以完成广播操作。然而，为了严谨，**Numpy的广播操作只允许左侧加1。** 你可以自行变形数组来实现这一目的："
   ]
  },
  {
   "cell_type": "code",
   "execution_count": 9,
   "id": "2965e6eb-0bce-4a83-8d5a-cee2ad214678",
   "metadata": {},
   "outputs": [
    {
     "data": {
      "text/plain": [
       "(3, 1)"
      ]
     },
     "execution_count": 9,
     "metadata": {},
     "output_type": "execute_result"
    }
   ],
   "source": [
    "a[:,np.newaxis].shape"
   ]
  },
  {
   "cell_type": "code",
   "execution_count": 10,
   "id": "71609fe0-898e-429d-9efb-545a902a2ce9",
   "metadata": {},
   "outputs": [
    {
     "data": {
      "text/plain": [
       "array([[4., 2.],\n",
       "       [4., 2.],\n",
       "       [4., 2.]])"
      ]
     },
     "execution_count": 10,
     "metadata": {},
     "output_type": "execute_result"
    }
   ],
   "source": [
    "M + a[:,np.newaxis].shape"
   ]
  },
  {
   "cell_type": "markdown",
   "id": "df613ddf-88d2-4515-911a-d1b2c99f51e3",
   "metadata": {},
   "source": [
    "广播操作对于任意二进制通用函数都是适用的。"
   ]
  },
  {
   "cell_type": "markdown",
   "id": "626ca6f1-4bbf-4a0e-b5c9-85a0e47f7441",
   "metadata": {},
   "source": [
    "## 2.5.3 广播的实际应用\n",
    "### 1.数组的归一化"
   ]
  },
  {
   "cell_type": "code",
   "execution_count": 11,
   "id": "f61e29fc-ce76-4a71-9687-d8f83b0bb300",
   "metadata": {},
   "outputs": [
    {
     "data": {
      "text/plain": [
       "array([0.46804618, 0.45182836, 0.59534797])"
      ]
     },
     "execution_count": 11,
     "metadata": {},
     "output_type": "execute_result"
    }
   ],
   "source": [
    "X = np.random.random((10,3))\n",
    "Xmean= X.mean(axis=0)\n",
    "Xmean"
   ]
  },
  {
   "cell_type": "markdown",
   "id": "5e4284b2-9686-4d4a-9ad1-b366b72df077",
   "metadata": {},
   "source": [
    "通过从X数组章减去这个均值实现归一化（典型的广播操作）"
   ]
  },
  {
   "cell_type": "code",
   "execution_count": 12,
   "id": "27077e2f-5a60-4a68-9fca-d990e8c81660",
   "metadata": {},
   "outputs": [],
   "source": [
    "X_centered =  X - Xmean"
   ]
  },
  {
   "cell_type": "code",
   "execution_count": 13,
   "id": "9f044238-751b-4193-9b36-8f72df7998b2",
   "metadata": {},
   "outputs": [
    {
     "data": {
      "text/plain": [
       "array([-3.33066907e-17, -2.77555756e-17, -7.77156117e-17])"
      ]
     },
     "execution_count": 13,
     "metadata": {},
     "output_type": "execute_result"
    }
   ],
   "source": [
    "X_centered.mean(axis=0)"
   ]
  },
  {
   "cell_type": "markdown",
   "id": "617d582d-9fb8-4aa5-b973-1e4db4f61af7",
   "metadata": {},
   "source": [
    "### 2. 画一个二维函数\n",
    "广播一个非常有用的地方在于，它能**基于二维函数显示图像**。我们希望定义一个函数z=f(x,y),可以用广播沿着数值区间计算该函数："
   ]
  },
  {
   "cell_type": "code",
   "execution_count": 14,
   "id": "8fa13589-6fe2-4141-b58e-d1d4b6719bee",
   "metadata": {},
   "outputs": [],
   "source": [
    "# x和y表示0-5区间50个步长的序列\n",
    "x = np.linspace(0,5,50)\n",
    "y = np.linspace(0,5,50)[:,np.newaxis]\n",
    "\n",
    "z=np.sin(x)**10+np.cos(10+y*x)*np.cos(x)"
   ]
  },
  {
   "cell_type": "markdown",
   "id": "e2bc65eb-a5af-4743-aa73-4b10aec3c643",
   "metadata": {},
   "source": [
    "采用Matplotlib可视化这个二维数组"
   ]
  },
  {
   "cell_type": "code",
   "execution_count": 15,
   "id": "ab261391-f8e1-4389-aad9-a6a0c87f0e91",
   "metadata": {},
   "outputs": [],
   "source": [
    "%matplotlib inline\n",
    "import matplotlib.pyplot as plt"
   ]
  },
  {
   "cell_type": "code",
   "execution_count": 21,
   "id": "b5665d51-1919-403c-bbf5-902d063e88bc",
   "metadata": {},
   "outputs": [
    {
     "data": {
      "image/png": "[encoded data removed]",
      "text/plain": [
       "<Figure size 640x480 with 2 Axes>"
      ]
     },
     "metadata": {},
     "output_type": "display_data"
    }
   ],
   "source": [
    "plt.imshow(z,origin='lower',extent=[0,5,0,5],\n",
    "           cmap='viridis')\n",
    "plt.colorbar();"
   ]
  },
  {
   "cell_type": "markdown",
   "id": "a33203e3-5512-4daf-9ccb-85df283b4e8a",
   "metadata": {},
   "source": [
    "# 2.6 比较、掩码和布尔逻辑\n",
    "这一节将会介绍如何利用布尔掩码来查看和操作Numpy数组当中的值。当你想基于某些准则来抽取、修改、计数或者对一个数组中的值进行其他操作时，掩码就可以有用了。\n",
    "\n",
    "## 2.6.1 实例：统计下雨天数"
   ]
  },
  {
   "cell_type": "code",
   "execution_count": 25,
   "id": "c6175e4d-dc9c-4ce6-80d2-f3235f8b2dd9",
   "metadata": {},
   "outputs": [
    {
     "data": {
      "text/plain": [
       "(365,)"
      ]
     },
     "execution_count": 25,
     "metadata": {},
     "output_type": "execute_result"
    }
   ],
   "source": [
    "import numpy as np\n",
    "import pandas as pd\n",
    "\n",
    "\n",
    "# 利用pandas抽取雨量，放入一个Numpy数组\n",
    "rainfall = pd.read_csv('data/Seattle2014.csv')['PRCP'].values\n",
    "inches = rainfall/254 # 1/10nm转化为inches\n",
    "inches.shape"
   ]
  },
  {
   "cell_type": "code",
   "execution_count": 4,
   "id": "0cc26b83-6827-426a-94fc-30f695bbe3bd",
   "metadata": {},
   "outputs": [
    {
     "data": {
      "text/plain": [
       "(array([245.,  14.,  13.,  17.,   8.,   6.,   5.,   6.,   4.,   3.,   7.,\n",
       "          6.,   3.,   3.,   3.,   4.,   4.,   2.,   4.,   0.,   0.,   1.,\n",
       "          1.,   1.,   0.,   0.,   0.,   2.,   1.,   1.,   0.,   0.,   0.,\n",
       "          0.,   0.,   0.,   0.,   0.,   0.,   1.]),\n",
       " array([0.        , 0.04596457, 0.09192913, 0.1378937 , 0.18385827,\n",
       "        0.22982283, 0.2757874 , 0.32175197, 0.36771654, 0.4136811 ,\n",
       "        0.45964567, 0.50561024, 0.5515748 , 0.59753937, 0.64350394,\n",
       "        0.6894685 , 0.73543307, 0.78139764, 0.8273622 , 0.87332677,\n",
       "        0.91929134, 0.96525591, 1.01122047, 1.05718504, 1.10314961,\n",
       "        1.14911417, 1.19507874, 1.24104331, 1.28700787, 1.33297244,\n",
       "        1.37893701, 1.42490157, 1.47086614, 1.51683071, 1.56279528,\n",
       "        1.60875984, 1.65472441, 1.70068898, 1.74665354, 1.79261811,\n",
       "        1.83858268]),\n",
       " <BarContainer object of 40 artists>)"
      ]
     },
     "execution_count": 4,
     "metadata": {},
     "output_type": "execute_result"
    },
    {
     "data": {
      "image/png": "[encoded data removed]",
      "text/plain": [
       "<Figure size 640x480 with 1 Axes>"
      ]
     },
     "metadata": {},
     "output_type": "display_data"
    }
   ],
   "source": [
    "%matplotlib inline\n",
    "import matplotlib.pyplot as plt\n",
    "import seaborn; seaborn.set() # 设置绘图风格\n",
    "\n",
    "plt.hist(inches,40)"
   ]
  },
  {
   "cell_type": "markdown",
   "id": "5fb5a472-cf52-4a3d-80bf-d88542c82005",
   "metadata": {},
   "source": [
    "虽然这张图能够展示数据的大概样貌，但它不能回答比较精确的问题，例如有多少天降水量高于5英寸等等。这些需要对Numpy数组进行**逐元素比较**，而这就需要借助**掩码**。"
   ]
  },
  {
   "cell_type": "markdown",
   "id": "74d7f8ce-78f4-4654-bb65-77c84bab4ce5",
   "metadata": {},
   "source": [
    "## 2.6.2 和通用函数类似的比较操作\n",
    "Numpy内置六种比较操作，比较操作会返回一个布尔数据类型的数组。比较运算符号如下表所示：\n",
    "\n",
    "|运算符|对应通用函数|\n",
    "|:---|:-----|\n",
    "|==|np.equal|\n",
    "|!=|np.not_equal|\n",
    "|<|np.less|\n",
    "|<=|np.less_equal|\n",
    "|>|np.greater|\n",
    "|>=|np.grater_equal|\n",
    "\n",
    "下面是一些范例："
   ]
  },
  {
   "cell_type": "code",
   "execution_count": 5,
   "id": "4fad1e2f-c4d4-4aac-b6b1-8eff797e6b08",
   "metadata": {},
   "outputs": [],
   "source": [
    "x=np.array([1,2,3,4,5])"
   ]
  },
  {
   "cell_type": "code",
   "execution_count": 6,
   "id": "424fee9b-29e1-4c4b-9b1a-7833652817ea",
   "metadata": {},
   "outputs": [
    {
     "data": {
      "text/plain": [
       "array([ True,  True, False, False, False])"
      ]
     },
     "execution_count": 6,
     "metadata": {},
     "output_type": "execute_result"
    }
   ],
   "source": [
    "x<3"
   ]
  },
  {
   "cell_type": "code",
   "execution_count": 7,
   "id": "0eb927c5-0a40-4fec-b6a6-ff5d6ae98ca3",
   "metadata": {},
   "outputs": [
    {
     "data": {
      "text/plain": [
       "array([False, False, False,  True,  True])"
      ]
     },
     "execution_count": 7,
     "metadata": {},
     "output_type": "execute_result"
    }
   ],
   "source": [
    "x>3"
   ]
  },
  {
   "cell_type": "code",
   "execution_count": 8,
   "id": "e37a98e9-45e4-4fa0-9705-ec5a17865aea",
   "metadata": {},
   "outputs": [
    {
     "data": {
      "text/plain": [
       "array([ True,  True,  True, False, False])"
      ]
     },
     "execution_count": 8,
     "metadata": {},
     "output_type": "execute_result"
    }
   ],
   "source": [
    "x<=3"
   ]
  },
  {
   "cell_type": "code",
   "execution_count": 9,
   "id": "4ecc6d8d-e4c8-40c1-9b17-b2f788aff4d2",
   "metadata": {},
   "outputs": [
    {
     "data": {
      "text/plain": [
       "array([False, False,  True,  True,  True])"
      ]
     },
     "execution_count": 9,
     "metadata": {},
     "output_type": "execute_result"
    }
   ],
   "source": [
    "x>=3"
   ]
  },
  {
   "cell_type": "code",
   "execution_count": 10,
   "id": "d8eb66ee-590f-47c4-ac00-8463df29d977",
   "metadata": {},
   "outputs": [
    {
     "data": {
      "text/plain": [
       "array([ True,  True, False,  True,  True])"
      ]
     },
     "execution_count": 10,
     "metadata": {},
     "output_type": "execute_result"
    }
   ],
   "source": [
    "x!=3"
   ]
  },
  {
   "cell_type": "code",
   "execution_count": 11,
   "id": "70766480-6970-4c9e-af0d-d82ead12e18e",
   "metadata": {},
   "outputs": [
    {
     "data": {
      "text/plain": [
       "array([False, False,  True, False, False])"
      ]
     },
     "execution_count": 11,
     "metadata": {},
     "output_type": "execute_result"
    }
   ],
   "source": [
    "x==3"
   ]
  },
  {
   "cell_type": "markdown",
   "id": "876202a0-12e7-4af2-ab9e-9caf1bde806c",
   "metadata": {},
   "source": [
    "利用表达式实现对两个数组的逐元素比较也是可以的"
   ]
  },
  {
   "cell_type": "code",
   "execution_count": 12,
   "id": "54392ca7-b028-4c5e-af0f-190f792bf8df",
   "metadata": {},
   "outputs": [
    {
     "data": {
      "text/plain": [
       "array([False,  True, False, False, False])"
      ]
     },
     "execution_count": 12,
     "metadata": {},
     "output_type": "execute_result"
    }
   ],
   "source": [
    "(2*x)==(x**2)"
   ]
  },
  {
   "cell_type": "markdown",
   "id": "0e832bdb-8eeb-432f-8c33-3602b4fa515c",
   "metadata": {},
   "source": [
    "显然的，这些比较运算符都可以用于任意形状和大小的数组。"
   ]
  },
  {
   "cell_type": "code",
   "execution_count": 14,
   "id": "841b970b-b93b-4d4c-9b2e-a166d7143c18",
   "metadata": {},
   "outputs": [
    {
     "data": {
      "text/plain": [
       "array([[5, 0, 3, 3],\n",
       "       [7, 9, 3, 5],\n",
       "       [2, 4, 7, 6]])"
      ]
     },
     "execution_count": 14,
     "metadata": {},
     "output_type": "execute_result"
    }
   ],
   "source": [
    "rng = np.random.RandomState(0)\n",
    "x = rng.randint(10,size=(3,4))\n",
    "x"
   ]
  },
  {
   "cell_type": "code",
   "execution_count": 15,
   "id": "52a04d17-46da-4bf4-9e64-0f65c79777ae",
   "metadata": {},
   "outputs": [
    {
     "data": {
      "text/plain": [
       "array([[ True,  True,  True,  True],\n",
       "       [False, False,  True,  True],\n",
       "       [ True,  True, False, False]])"
      ]
     },
     "execution_count": 15,
     "metadata": {},
     "output_type": "execute_result"
    }
   ],
   "source": [
    "x<6"
   ]
  },
  {
   "cell_type": "markdown",
   "id": "8b681309-507c-420b-a424-7505f1af7788",
   "metadata": {},
   "source": [
    "## 2.6.3 操作布尔数组\n",
    "### 1.统计记录的个数\n",
    "要统计布尔数组中True记录的个数，可以使用np.count_nonzero函数"
   ]
  },
  {
   "cell_type": "code",
   "execution_count": 16,
   "id": "8a2c270f-f2a6-4659-931d-4b949d7fada0",
   "metadata": {},
   "outputs": [
    {
     "data": {
      "text/plain": [
       "8"
      ]
     },
     "execution_count": 16,
     "metadata": {},
     "output_type": "execute_result"
    }
   ],
   "source": [
    "np.count_nonzero(x<6)"
   ]
  },
  {
   "cell_type": "markdown",
   "id": "645fac18-6724-40de-8606-729d55a96305",
   "metadata": {},
   "source": [
    "另一种方式是采用np.sum，true会记作1，false会记作0。这个操作的好处是，可以利用聚合操作的特性逐行或者逐列统计。"
   ]
  },
  {
   "cell_type": "code",
   "execution_count": 17,
   "id": "6f332025-f8b9-4da5-99be-5de39f739e25",
   "metadata": {},
   "outputs": [
    {
     "data": {
      "text/plain": [
       "8"
      ]
     },
     "execution_count": 17,
     "metadata": {},
     "output_type": "execute_result"
    }
   ],
   "source": [
    "np.sum(x<6)"
   ]
  },
  {
   "cell_type": "code",
   "execution_count": 19,
   "id": "a40194ba-3596-4624-84f5-67bf046437fb",
   "metadata": {},
   "outputs": [
    {
     "data": {
      "text/plain": [
       "array([4, 2, 2])"
      ]
     },
     "execution_count": 19,
     "metadata": {},
     "output_type": "execute_result"
    }
   ],
   "source": [
    "np.sum(x<6,axis=1) # 逐行统计"
   ]
  },
  {
   "cell_type": "markdown",
   "id": "d6434788-44c8-402f-b904-8f0676481006",
   "metadata": {},
   "source": [
    "如果要检查所有值或者任意值是否为True，可以使用np.all或者np.any方法，同样可以利用聚合操作的特性逐行或者逐列统计。"
   ]
  },
  {
   "cell_type": "code",
   "execution_count": 20,
   "id": "565357ce-e65f-4b9c-a23f-61d853c22210",
   "metadata": {},
   "outputs": [
    {
     "data": {
      "text/plain": [
       "True"
      ]
     },
     "execution_count": 20,
     "metadata": {},
     "output_type": "execute_result"
    }
   ],
   "source": [
    "# 有没有数值大于8\n",
    "np.any(x>8)"
   ]
  },
  {
   "cell_type": "code",
   "execution_count": 21,
   "id": "bfccc984-2a25-40c9-84bd-d64905ef3e29",
   "metadata": {},
   "outputs": [
    {
     "data": {
      "text/plain": [
       "True"
      ]
     },
     "execution_count": 21,
     "metadata": {},
     "output_type": "execute_result"
    }
   ],
   "source": [
    "# 是否所有的值都小于10 \n",
    "np.all(x<10)"
   ]
  },
  {
   "cell_type": "code",
   "execution_count": 22,
   "id": "0662a768-0c42-4285-b051-95af77c29274",
   "metadata": {},
   "outputs": [
    {
     "data": {
      "text/plain": [
       "array([ True, False,  True])"
      ]
     },
     "execution_count": 22,
     "metadata": {},
     "output_type": "execute_result"
    }
   ],
   "source": [
    "# 是否每一行的所有值都小于8\n",
    "np.all(x<8, axis=1)"
   ]
  },
  {
   "cell_type": "markdown",
   "id": "640850b1-0918-4f52-b425-0d6203a8accb",
   "metadata": {},
   "source": [
    "### 2. 布尔运算符\n",
    "我们已经知道了如何统计所有降水量小于4英寸或者大于2英寸的天数，但是如果我们想统计同时满足上述两个条件的天数呢？这可以通过**逐位逻辑运算符**来实现。Numpy通用函数重载了这些逻辑运算符，如下表所示：\n",
    "\n",
    "|运算符|对应通用函数|计算规则|\n",
    "|:---|:-----|:--------|\n",
    "|&|np.bitwise_and|二元运算符，两个值同时为1输出1，否则输出0|\n",
    "|\\||np.bitwise_or|二元运算符，两个值同时为0输出0，否则输出1|\n",
    "|^|np.bitwise_xor|二元运算符，两个值相同时输出0，否则输出1|\n",
    "|~|np.bitwise_not|一元运算符，1输出0，0输出1|\n",
    "\n",
    "通过如下复合表达式进行统计："
   ]
  },
  {
   "cell_type": "code",
   "execution_count": 23,
   "id": "5d7cd4bd-f684-453f-9f77-d13749a5d259",
   "metadata": {},
   "outputs": [
    {
     "data": {
      "text/plain": [
       "29"
      ]
     },
     "execution_count": 23,
     "metadata": {},
     "output_type": "execute_result"
    }
   ],
   "source": [
    "np.sum((inches>0.5)&(inches<1))"
   ]
  },
  {
   "cell_type": "code",
   "execution_count": 24,
   "id": "f4ce1931-f5c9-4023-822e-aced80626c04",
   "metadata": {},
   "outputs": [
    {
     "name": "stdout",
     "output_type": "stream",
     "text": [
      "Number days without rain:       215\n",
      "Number days with rain:          150\n",
      "Days with more than 0.5 inches: 37\n",
      "Rainy days with <0.2 inches     75\n"
     ]
    }
   ],
   "source": [
    "print('Number days without rain:      ',np.sum(inches==0))\n",
    "print('Number days with rain:         ',np.sum(inches!=0))\n",
    "print('Days with more than 0.5 inches:',np.sum(inches>0.5))\n",
    "print('Rainy days with <0.2 inches    ',np.sum((inches!=0)&(inches<0.2)))"
   ]
  },
  {
   "cell_type": "markdown",
   "id": "e387b887-e4f8-4f21-832d-bc407aa015e4",
   "metadata": {},
   "source": [
    "## 2.6.4 将布尔数组作为掩码"
   ]
  },
  {
   "cell_type": "code",
   "execution_count": 25,
   "id": "2086d4d7-ec5d-4b42-ae88-e0c459b4cfdf",
   "metadata": {},
   "outputs": [
    {
     "data": {
      "text/plain": [
       "array([[5, 0, 3, 3],\n",
       "       [7, 9, 3, 5],\n",
       "       [2, 4, 7, 6]])"
      ]
     },
     "execution_count": 25,
     "metadata": {},
     "output_type": "execute_result"
    }
   ],
   "source": [
    "x"
   ]
  },
  {
   "cell_type": "code",
   "execution_count": 26,
   "id": "02c2d437-870a-4caf-a332-d3496a1062b8",
   "metadata": {},
   "outputs": [
    {
     "data": {
      "text/plain": [
       "array([[False,  True,  True,  True],\n",
       "       [False, False,  True, False],\n",
       "       [ True,  True, False, False]])"
      ]
     },
     "execution_count": 26,
     "metadata": {},
     "output_type": "execute_result"
    }
   ],
   "source": [
    "x<5"
   ]
  },
  {
   "cell_type": "markdown",
   "id": "9fee4c6b-cfa2-4912-a22d-225753be0334",
   "metadata": {},
   "source": [
    "现在为了将这些值从数组中选出，可以进行简单的索引，即**掩码**操作："
   ]
  },
  {
   "cell_type": "code",
   "execution_count": 28,
   "id": "bc89ff18-24ee-4a85-ac6e-46f003d80bc1",
   "metadata": {},
   "outputs": [
    {
     "data": {
      "text/plain": [
       "array([0, 3, 3, 3, 2, 4])"
      ]
     },
     "execution_count": 28,
     "metadata": {},
     "output_type": "execute_result"
    }
   ],
   "source": [
    "x[x<5]"
   ]
  },
  {
   "cell_type": "markdown",
   "id": "54ca634a-b690-4ecd-9ce5-56b42955a656",
   "metadata": {},
   "source": [
    "现在返回了一个一维数组，包含了掩码数组对应位置为True的数值。\n",
    "\n",
    "可以对这些值做任意操作，例如根据西雅图降水数据进行一些相关统计："
   ]
  },
  {
   "cell_type": "code",
   "execution_count": 30,
   "id": "d5a4dd75-2768-475e-a0a4-1ccc3b1c4254",
   "metadata": {},
   "outputs": [
    {
     "name": "stdout",
     "output_type": "stream",
     "text": [
      "[False  True  True False False  True  True  True  True  True  True  True\n",
      " False False False False False False False False False  True False False\n",
      " False False False  True  True False  True  True False False False False\n",
      " False False  True  True  True  True  True  True  True  True  True  True\n",
      "  True  True  True  True  True  True  True  True False False False  True\n",
      "  True  True  True  True  True False  True  True  True False False  True\n",
      "  True  True  True  True False  True False False False False False  True\n",
      "  True  True  True  True False False False False  True False  True False\n",
      " False  True False False False False False False  True  True  True False\n",
      "  True False  True  True  True  True False  True  True False False False\n",
      " False False  True  True  True False False  True  True  True False False\n",
      " False False False False False False False False False False  True False\n",
      "  True False False False False False False False False False False False\n",
      " False False False False False False  True  True False  True  True  True\n",
      " False  True  True False False False False False False  True  True False\n",
      " False False False False False False False False False False False False\n",
      " False False False False False False False False False False  True  True\n",
      " False False False False False False False False False  True False False\n",
      " False False False False False False  True  True  True False  True False\n",
      " False False False False False False False False False False False False\n",
      " False  True  True False  True False False False False False False False\n",
      " False False False False False False False  True  True False False False\n",
      "  True  True  True  True  True False False  True False False False False\n",
      " False False False False False False  True  True False  True  True  True\n",
      " False  True  True False  True  True  True  True  True  True  True  True\n",
      "  True  True  True  True False  True  True  True  True  True False False\n",
      "  True False False False False False False False False False False  True\n",
      "  True  True  True  True  True  True  True  True  True False False False\n",
      " False  True  True  True False  True  True  True  True False False False\n",
      " False False  True  True  True  True False False  True  True False False\n",
      "  True  True False False False]\n",
      "[False False False False False False False False False False False False\n",
      " False False False False False False False False False False False False\n",
      " False False False False False False False False False False False False\n",
      " False False False False False False False False False False False False\n",
      " False False False False False False False False False False False False\n",
      " False False False False False False False False False False False False\n",
      " False False False False False False False False False False False False\n",
      " False False False False False False False False False False False False\n",
      " False False False False False False False False False False False False\n",
      " False False False False False False False False False False False False\n",
      " False False False False False False False False False False False False\n",
      " False False False False False False False False False False False False\n",
      " False False False False False False False False False False False False\n",
      " False False False False False False False False False False False False\n",
      " False False False False False  True  True  True  True  True  True  True\n",
      "  True  True  True  True  True  True  True  True  True  True  True  True\n",
      "  True  True  True  True  True  True  True  True  True  True  True  True\n",
      "  True  True  True  True  True  True  True  True  True  True  True  True\n",
      "  True  True  True  True  True  True  True  True  True  True  True  True\n",
      "  True  True  True  True  True  True  True  True  True  True  True  True\n",
      "  True  True  True  True  True  True  True  True  True  True  True  True\n",
      "  True  True  True  True  True  True  True  True  True  True False False\n",
      " False False False False False False False False False False False False\n",
      " False False False False False False False False False False False False\n",
      " False False False False False False False False False False False False\n",
      " False False False False False False False False False False False False\n",
      " False False False False False False False False False False False False\n",
      " False False False False False False False False False False False False\n",
      " False False False False False False False False False False False False\n",
      " False False False False False False False False False False False False\n",
      " False False False False False]\n"
     ]
    }
   ],
   "source": [
    "# 为所有下雨天创建一个掩码\n",
    "rainy = (inches>0)\n",
    "\n",
    "# 构建一个包含整个夏天日期的掩码（6月21日是第172天）\n",
    "summer= (np.arange(365)-172<90)&(np.arange(365)-172>0)\n",
    "print(rainy)\n",
    "print(summer)"
   ]
  },
  {
   "cell_type": "markdown",
   "id": "afff73dc-1a40-4abf-a959-6caa2688cd79",
   "metadata": {},
   "source": [
    "注意观察summer的掩码创建过程，展示了**逻辑操作运算符**&/|的特征：对一个对象内的内容（单个比特或者字节执行多个布尔运算），而CPython常用的**关键字**and和or则对整个对象执行单个布尔运算。Numpy主要使用的是逻辑操作运算符。"
   ]
  },
  {
   "cell_type": "code",
   "execution_count": 32,
   "id": "e79d74e7-a6d5-483a-b29d-a76fa35f04fa",
   "metadata": {},
   "outputs": [
    {
     "name": "stdout",
     "output_type": "stream",
     "text": [
      "Median precip on raniy days in 2024 (inches):      0.19488188976377951\n",
      "Median precip on summer days in 2024 (inches):     0.0\n",
      "Maximum precip on summer days in 2024 (inches):    0.8503937007874016\n",
      "Median precip on non-summer rainy days (inches):   0.20078740157480315\n"
     ]
    }
   ],
   "source": [
    "print('Median precip on raniy days in 2024 (inches):     ', np.median(inches[rainy]))\n",
    "print('Median precip on summer days in 2024 (inches):    ', np.median(inches[summer]))\n",
    "print('Maximum precip on summer days in 2024 (inches):   ', np.max(inches[summer]))\n",
    "print('Median precip on non-summer rainy days (inches):  ', np.median(inches[rainy & ~summer]))\n"
   ]
  },
  {
   "cell_type": "markdown",
   "id": "67ca2f15-1b93-4eb3-9e6d-a9469c9c670e",
   "metadata": {},
   "source": [
    "# 2.7 花哨的索引\n",
    "在前面的小节中，我们看到了如何利用简单的索引值（如arr[0]）、切片（如arr[:5]）和布尔掩码（如arr[arr>0]）获得并修改部分数组。在这一节中，我们将介绍另一中数组索引，也被称为**花哨的索引（fancy indexing）**。花哨的索引传递的是索引数组，而不是单个标量。\n",
    "## 2.7.1 探索花哨的索引\n",
    "花哨的索引意味着传递一个索引数组来一次性获得多个数组元素，如下所示："
   ]
  },
  {
   "cell_type": "code",
   "execution_count": 33,
   "id": "3dcdccb8-1984-48cd-8e46-8c1f435d2e4d",
   "metadata": {},
   "outputs": [
    {
     "data": {
      "text/plain": [
       "array([51, 92, 14, 71, 60, 20, 82, 86, 74, 74])"
      ]
     },
     "execution_count": 33,
     "metadata": {},
     "output_type": "execute_result"
    }
   ],
   "source": [
    "import numpy as np\n",
    "rand = np.random.RandomState(42)\n",
    "\n",
    "x = rand.randint(100, size=10)\n",
    "x"
   ]
  },
  {
   "cell_type": "markdown",
   "id": "79cee4d1-dc9a-498e-96fc-2b2c2b125a5f",
   "metadata": {},
   "source": [
    "假如我们希望获得三个不同的元素，可以通过以下的方式实现；"
   ]
  },
  {
   "cell_type": "code",
   "execution_count": 34,
   "id": "6a5c4fc3-d010-49c5-85dc-901b076f6392",
   "metadata": {},
   "outputs": [
    {
     "data": {
      "text/plain": [
       "[71, 86, 14]"
      ]
     },
     "execution_count": 34,
     "metadata": {},
     "output_type": "execute_result"
    }
   ],
   "source": [
    "[x[3],x[7],x[2]]"
   ]
  },
  {
   "cell_type": "markdown",
   "id": "a73a3032-2e17-4da0-b0fe-894eb76b07a2",
   "metadata": {},
   "source": [
    "另一种方法是传递索引的单个列表数组来获得同样的结果："
   ]
  },
  {
   "cell_type": "code",
   "execution_count": 36,
   "id": "2440e62d-e6df-4d7c-86be-e34e25ed934f",
   "metadata": {},
   "outputs": [
    {
     "data": {
      "text/plain": [
       "array([71, 86, 60])"
      ]
     },
     "execution_count": 36,
     "metadata": {},
     "output_type": "execute_result"
    }
   ],
   "source": [
    "ind = [3,7,4]\n",
    "x[ind]"
   ]
  },
  {
   "cell_type": "markdown",
   "id": "65ca73fa-3f3a-4e6f-add2-2cfc7df9c6de",
   "metadata": {},
   "source": [
    "利用花哨的索引，结果的形状与**索引数组**的形状一致，而不是与**被索引数组**一致。"
   ]
  },
  {
   "cell_type": "code",
   "execution_count": 38,
   "id": "4853fe79-3b2c-4a5d-8bd3-744b571987bc",
   "metadata": {},
   "outputs": [
    {
     "data": {
      "text/plain": [
       "array([[71, 86],\n",
       "       [60, 20]])"
      ]
     },
     "execution_count": 38,
     "metadata": {},
     "output_type": "execute_result"
    }
   ],
   "source": [
    "ind = np.array([[3,7],\n",
    "               [4,5]])\n",
    "x[ind]"
   ]
  },
  {
   "cell_type": "markdown",
   "id": "178a2db5-98b7-4cd9-97c8-0af8e432bbda",
   "metadata": {},
   "source": [
    "花哨的索引同样也对多维数组使用，假设我们有如下数组："
   ]
  },
  {
   "cell_type": "code",
   "execution_count": 40,
   "id": "824b0346-ecec-4b7d-98fb-93963ddb428d",
   "metadata": {},
   "outputs": [
    {
     "data": {
      "text/plain": [
       "array([[ 0,  1,  2,  3],\n",
       "       [ 4,  5,  6,  7],\n",
       "       [ 8,  9, 10, 11]])"
      ]
     },
     "execution_count": 40,
     "metadata": {},
     "output_type": "execute_result"
    }
   ],
   "source": [
    "X = np.arange(12).reshape((3,4))\n",
    "X"
   ]
  },
  {
   "cell_type": "markdown",
   "id": "e82a56b7-3947-4d46-8d3c-62a781f01891",
   "metadata": {},
   "source": [
    "和标准索引的方式一样，第一个索引指的是行，第二个索引指的是列："
   ]
  },
  {
   "cell_type": "code",
   "execution_count": 41,
   "id": "48b94fb4-8918-4e76-92bb-4491d0d3dbfb",
   "metadata": {},
   "outputs": [
    {
     "data": {
      "text/plain": [
       "array([ 2,  5, 11])"
      ]
     },
     "execution_count": 41,
     "metadata": {},
     "output_type": "execute_result"
    }
   ],
   "source": [
    "row = np.array([0,1,2])\n",
    "col = np.array([2,1,3])\n",
    "X[row,col]"
   ]
  },
  {
   "cell_type": "markdown",
   "id": "2768dbd8-1156-443b-a055-74a68727db62",
   "metadata": {},
   "source": [
    "这里需要注意，结果的第一个值是X[0,2]，第二个值是X[1,1],第三个值是X[2,3]。在花哨的索引中，索引值的配对遵循2.5介绍过的而广播规则。因此将一个列向量和一个行向量组合在一个索引中时候，会得到一个二维的结果："
   ]
  },
  {
   "cell_type": "code",
   "execution_count": 43,
   "id": "8e3518b6-222a-4b26-948c-7bc3d982d000",
   "metadata": {},
   "outputs": [
    {
     "data": {
      "text/plain": [
       "array([[ 2,  1,  3],\n",
       "       [ 6,  5,  7],\n",
       "       [10,  9, 11]])"
      ]
     },
     "execution_count": 43,
     "metadata": {},
     "output_type": "execute_result"
    }
   ],
   "source": [
    "X[row[:,np.newaxis],col]"
   ]
  },
  {
   "cell_type": "code",
   "execution_count": 44,
   "id": "f9f2f4d8-aa04-486a-bac2-6a64cd4bc750",
   "metadata": {},
   "outputs": [
    {
     "data": {
      "text/plain": [
       "array([[ 2,  6, 10],\n",
       "       [ 1,  5,  9],\n",
       "       [ 3,  7, 11]])"
      ]
     },
     "execution_count": 44,
     "metadata": {},
     "output_type": "execute_result"
    }
   ],
   "source": [
    "X[row, col[:,np.newaxis]]"
   ]
  },
  {
   "cell_type": "markdown",
   "id": "e9b123a0-d98c-49e6-b3a3-058e36007e62",
   "metadata": {},
   "source": [
    "一定注意，这里返回值是广播后的索引数组的形状。"
   ]
  },
  {
   "cell_type": "markdown",
   "id": "e3adb80d-15de-40b9-9afb-11644104e9e7",
   "metadata": {},
   "source": [
    "## 2.7.2 组合索引\n",
    "花哨的索引与其他的索引方案相结合可以形成更强大的索引操作："
   ]
  },
  {
   "cell_type": "code",
   "execution_count": 46,
   "id": "d0e85bff-5b8c-4e77-b8af-b5c7de5cd423",
   "metadata": {},
   "outputs": [
    {
     "name": "stdout",
     "output_type": "stream",
     "text": [
      "[[ 0  1  2  3]\n",
      " [ 4  5  6  7]\n",
      " [ 8  9 10 11]]\n"
     ]
    }
   ],
   "source": [
    "print(X)"
   ]
  },
  {
   "cell_type": "code",
   "execution_count": 47,
   "id": "bdf058ea-d11a-4c1c-aa30-da02954323e2",
   "metadata": {},
   "outputs": [
    {
     "data": {
      "text/plain": [
       "array([10,  8,  9])"
      ]
     },
     "execution_count": 47,
     "metadata": {},
     "output_type": "execute_result"
    }
   ],
   "source": [
    "X[2,[2,0,1]]"
   ]
  },
  {
   "cell_type": "code",
   "execution_count": 48,
   "id": "ba6c3420-e420-4763-a138-fe58af7061a6",
   "metadata": {},
   "outputs": [
    {
     "data": {
      "text/plain": [
       "array([[ 6,  4,  5],\n",
       "       [10,  8,  9]])"
      ]
     },
     "execution_count": 48,
     "metadata": {},
     "output_type": "execute_result"
    }
   ],
   "source": [
    "X[1:,[2,0,1]]"
   ]
  },
  {
   "cell_type": "code",
   "execution_count": 49,
   "id": "64710e10-6c9f-4310-a8d9-f80eeb884348",
   "metadata": {},
   "outputs": [
    {
     "data": {
      "text/plain": [
       "array([[ 0,  2],\n",
       "       [ 4,  6],\n",
       "       [ 8, 10]])"
      ]
     },
     "execution_count": 49,
     "metadata": {},
     "output_type": "execute_result"
    }
   ],
   "source": [
    "mask = np.array([1,0,1,0],dtype=bool)\n",
    "X[row[:,np.newaxis],mask]"
   ]
  },
  {
   "cell_type": "code",
   "execution_count": 50,
   "id": "dd8a5986-d2b1-4935-94b0-3660320ba0d7",
   "metadata": {},
   "outputs": [
    {
     "data": {
      "text/plain": [
       "array([1, 0])"
      ]
     },
     "execution_count": 50,
     "metadata": {},
     "output_type": "execute_result"
    }
   ],
   "source": [
    "test = np.array([True,False],dtype=int)\n",
    "test"
   ]
  },
  {
   "cell_type": "markdown",
   "id": "4daf6b30-9b88-4243-aec2-3bf241657bf5",
   "metadata": {},
   "source": [
    "## 2.7.3 示例：选择随机点"
   ]
  },
  {
   "cell_type": "code",
   "execution_count": 51,
   "id": "b8ec3492-8d91-4001-bea5-1f2ee3c64d0d",
   "metadata": {},
   "outputs": [
    {
     "data": {
      "text/plain": [
       "array([[-0.644508  , -0.46220608],\n",
       "       [ 0.7376352 ,  1.21236921],\n",
       "       [ 0.88151763,  1.12795177],\n",
       "       [ 2.04998983,  5.97778598],\n",
       "       [-0.1711348 , -2.06258746],\n",
       "       [ 0.67956979,  0.83705124],\n",
       "       [ 1.46860232,  1.22961093],\n",
       "       [ 0.35282131,  1.49875397],\n",
       "       [-2.51552505, -5.64629995],\n",
       "       [ 0.0843329 , -0.3543059 ],\n",
       "       [ 0.19199272,  1.48901291],\n",
       "       [-0.02566217, -0.74987887],\n",
       "       [ 1.00569227,  2.25287315],\n",
       "       [ 0.49514263,  1.18939673],\n",
       "       [ 0.0629872 ,  0.57349278],\n",
       "       [ 0.75093031,  2.99487004],\n",
       "       [-3.0236127 , -6.00766046],\n",
       "       [-0.53943081, -0.3478899 ],\n",
       "       [ 1.53817376,  1.99973464],\n",
       "       [-0.50886808, -1.81099656],\n",
       "       [ 1.58115602,  2.86410319],\n",
       "       [ 0.99305043,  2.54294059],\n",
       "       [-0.87753796, -1.15767204],\n",
       "       [-1.11518048, -1.87508012],\n",
       "       [ 0.4299908 ,  0.36324254],\n",
       "       [ 0.97253528,  3.53815717],\n",
       "       [ 0.32124996,  0.33137032],\n",
       "       [-0.74618649, -2.77366681],\n",
       "       [-0.88473953, -1.81495444],\n",
       "       [ 0.98783862,  2.30280401],\n",
       "       [-1.2033623 , -2.04402725],\n",
       "       [-1.51101746, -3.2818741 ],\n",
       "       [-2.76337717, -7.66760648],\n",
       "       [ 0.39158553,  0.87949228],\n",
       "       [ 0.91181024,  3.32968944],\n",
       "       [-0.84202629, -2.01226547],\n",
       "       [ 1.06586877,  0.95500019],\n",
       "       [ 0.44457363,  1.87828298],\n",
       "       [ 0.35936721,  0.40554974],\n",
       "       [-0.90649669, -0.93486441],\n",
       "       [-0.35790389, -0.52363012],\n",
       "       [-1.33461668, -3.03203218],\n",
       "       [ 0.02815138,  0.79654924],\n",
       "       [ 0.37785618,  0.51409383],\n",
       "       [-1.06505097, -2.88726779],\n",
       "       [ 2.32083881,  5.97698647],\n",
       "       [ 0.47605744,  0.83634485],\n",
       "       [-0.35490984, -1.03657119],\n",
       "       [ 0.57532883, -0.79997124],\n",
       "       [ 0.33399913,  2.32597923],\n",
       "       [ 0.6575612 , -0.22389518],\n",
       "       [ 1.3707365 ,  2.2348831 ],\n",
       "       [ 0.07099548, -0.29685467],\n",
       "       [ 0.6074983 ,  1.47089233],\n",
       "       [-0.34226126, -1.10666237],\n",
       "       [ 0.69226246,  1.21504303],\n",
       "       [-0.31112937, -0.75912097],\n",
       "       [-0.26888327, -1.89366817],\n",
       "       [ 0.42044896,  1.85189522],\n",
       "       [ 0.21115245,  2.00781492],\n",
       "       [-1.83106042, -2.91352836],\n",
       "       [ 0.7841796 ,  1.97640753],\n",
       "       [ 0.10259314,  1.24690575],\n",
       "       [-1.91100558, -3.66800923],\n",
       "       [ 0.13143756, -0.07833855],\n",
       "       [-0.1317045 , -1.64159158],\n",
       "       [-0.14547282, -1.34125678],\n",
       "       [-0.51172373, -1.40960773],\n",
       "       [ 0.69758045,  0.72563649],\n",
       "       [ 0.11677083,  0.88385162],\n",
       "       [-1.16586444, -2.24482237],\n",
       "       [-2.23176235, -2.63958101],\n",
       "       [ 0.37857234,  0.69112594],\n",
       "       [ 0.87475323,  3.400675  ],\n",
       "       [-0.86864365, -3.03568353],\n",
       "       [-1.03637857, -1.18469125],\n",
       "       [-0.53334959, -0.37039911],\n",
       "       [ 0.30414557, -0.5828419 ],\n",
       "       [-1.47656656, -2.13046298],\n",
       "       [-0.31332021, -1.7895623 ],\n",
       "       [ 1.12659538,  1.49627535],\n",
       "       [-1.19675798, -1.51633442],\n",
       "       [-0.75210154, -0.79770535],\n",
       "       [ 0.74577693,  1.95834451],\n",
       "       [ 1.56094354,  2.9330816 ],\n",
       "       [-0.72009966, -1.99780959],\n",
       "       [-1.32319163, -2.61218347],\n",
       "       [-2.56215914, -6.08410838],\n",
       "       [ 1.31256297,  3.13143269],\n",
       "       [ 0.51575983,  2.30284639],\n",
       "       [ 0.01374713, -0.11539344],\n",
       "       [-0.16863279,  0.39422355],\n",
       "       [ 0.12065651,  1.13236323],\n",
       "       [-0.83504984, -2.38632016],\n",
       "       [ 1.05185885,  1.98418223],\n",
       "       [-0.69144553, -1.56919875],\n",
       "       [-1.2567603 , -1.125898  ],\n",
       "       [ 0.09619333, -0.64335574],\n",
       "       [-0.99658689, -2.35038099],\n",
       "       [-1.21405259, -1.77693724]])"
      ]
     },
     "execution_count": 51,
     "metadata": {},
     "output_type": "execute_result"
    }
   ],
   "source": [
    "mean=[0,0]\n",
    "cov = [[1,2],\n",
    "      [2,5]]\n",
    "X = rand.multivariate_normal(mean,cov,100)\n",
    "X"
   ]
  },
  {
   "cell_type": "code",
   "execution_count": 54,
   "id": "39df48aa-ef1e-4c94-9213-a2ce78a6a811",
   "metadata": {},
   "outputs": [
    {
     "data": {
      "text/plain": [
       "<matplotlib.collections.PathCollection at 0x2cf32311b10>"
      ]
     },
     "execution_count": 54,
     "metadata": {},
     "output_type": "execute_result"
    },
    {
     "data": {
      "image/png": "[encoded data removed]",
      "text/plain": [
       "<Figure size 640x480 with 1 Axes>"
      ]
     },
     "metadata": {},
     "output_type": "display_data"
    }
   ],
   "source": [
    "%matplotlib inline\n",
    "import matplotlib.pyplot as plt\n",
    "import seaborn; seaborn.set()\n",
    "\n",
    "plt.scatter(X[:,0],X[:,1])"
   ]
  },
  {
   "cell_type": "markdown",
   "id": "444777ba-4856-4ef5-9b59-276ff1308a6d",
   "metadata": {},
   "source": [
    "我们利用花哨的索引随机选取20个点————选取20个随机的、不重复的索引值，并利用索引选取到原始数组对应的值。"
   ]
  },
  {
   "cell_type": "code",
   "execution_count": 57,
   "id": "7bb6b5fc-15c9-4f39-a296-251b11b1ec75",
   "metadata": {},
   "outputs": [
    {
     "data": {
      "text/plain": [
       "array([ 3, 88, 34,  7, 39, 87, 50, 96, 99, 80, 72, 32, 49, 94, 29,  8, 85,\n",
       "       98,  1, 31])"
      ]
     },
     "execution_count": 57,
     "metadata": {},
     "output_type": "execute_result"
    }
   ],
   "source": [
    "indices = np.random.choice(X.shape[0],20,replace=False)\n",
    "indices"
   ]
  },
  {
   "cell_type": "code",
   "execution_count": 58,
   "id": "29cda7f2-bde0-4f5d-aaad-e18c1692e996",
   "metadata": {},
   "outputs": [
    {
     "data": {
      "text/plain": [
       "array([[ 2.04998983,  5.97778598],\n",
       "       [ 1.31256297,  3.13143269],\n",
       "       [ 0.91181024,  3.32968944],\n",
       "       [ 0.35282131,  1.49875397],\n",
       "       [-0.90649669, -0.93486441],\n",
       "       [-2.56215914, -6.08410838],\n",
       "       [ 0.6575612 , -0.22389518],\n",
       "       [-1.2567603 , -1.125898  ],\n",
       "       [-1.21405259, -1.77693724],\n",
       "       [ 1.12659538,  1.49627535],\n",
       "       [ 0.37857234,  0.69112594],\n",
       "       [-2.76337717, -7.66760648],\n",
       "       [ 0.33399913,  2.32597923],\n",
       "       [ 1.05185885,  1.98418223],\n",
       "       [ 0.98783862,  2.30280401],\n",
       "       [-2.51552505, -5.64629995],\n",
       "       [-0.72009966, -1.99780959],\n",
       "       [-0.99658689, -2.35038099],\n",
       "       [ 0.7376352 ,  1.21236921],\n",
       "       [-1.51101746, -3.2818741 ]])"
      ]
     },
     "execution_count": 58,
     "metadata": {},
     "output_type": "execute_result"
    }
   ],
   "source": [
    "selection = X[indices]\n",
    "selection"
   ]
  },
  {
   "cell_type": "code",
   "execution_count": 60,
   "id": "7b93c2b2-0e42-46a6-bcc7-e632f2c155ee",
   "metadata": {},
   "outputs": [
    {
     "data": {
      "text/plain": [
       "<matplotlib.collections.PathCollection at 0x2cf3290e010>"
      ]
     },
     "execution_count": 60,
     "metadata": {},
     "output_type": "execute_result"
    },
    {
     "data": {
      "image/png": "[encoded data removed]",
      "text/plain": [
       "<Figure size 640x480 with 1 Axes>"
      ]
     },
     "metadata": {},
     "output_type": "display_data"
    }
   ],
   "source": [
    "plt.scatter(X[:,0],X[:,1],alpha=0.3)\n",
    "plt.scatter(selection[:,0],selection[:,1],facecolor='None',edgecolor='b',s=200)"
   ]
  },
  {
   "cell_type": "markdown",
   "id": "5a3bfa4e-a071-4c0e-a0a0-f837102f294e",
   "metadata": {},
   "source": [
    "## 2.7.4 用花哨的索引修改值\n",
    "花哨的索引也可用于赋值上，如下所示："
   ]
  },
  {
   "cell_type": "code",
   "execution_count": 2,
   "id": "77fad121-c8e9-4bf5-9a24-0cbe74046341",
   "metadata": {},
   "outputs": [
    {
     "name": "stdout",
     "output_type": "stream",
     "text": [
      "[ 0 99 99  3 99  5  6  7 99  9]\n"
     ]
    }
   ],
   "source": [
    "import numpy as np\n",
    "x = np.arange(10)\n",
    "i = np.array([2,1,8,4])\n",
    "x[i]=99\n",
    "print(x)"
   ]
  },
  {
   "cell_type": "markdown",
   "id": "579d5be1-d2a2-4201-b3cc-eacdaeb5c459",
   "metadata": {},
   "source": [
    "任何赋值类的操作都可以实现，如下所示："
   ]
  },
  {
   "cell_type": "code",
   "execution_count": 3,
   "id": "c47f0470-1c7d-4c44-b4d1-9b4c95d2cb08",
   "metadata": {},
   "outputs": [
    {
     "data": {
      "text/plain": [
       "array([ 0, 89, 89,  3, 89,  5,  6,  7, 89,  9])"
      ]
     },
     "execution_count": 3,
     "metadata": {},
     "output_type": "execute_result"
    }
   ],
   "source": [
    "x[i]-=10\n",
    "x"
   ]
  },
  {
   "cell_type": "markdown",
   "id": "a6207c73-0142-4777-85ad-a3e4cc6c9133",
   "metadata": {},
   "source": [
    "然而需要注意的是，如果操作重复的索引会有一些出乎意料的结果发生，看下面这个例子："
   ]
  },
  {
   "cell_type": "code",
   "execution_count": 4,
   "id": "d625eee4-d597-46de-87b4-aa96954a9080",
   "metadata": {},
   "outputs": [
    {
     "data": {
      "text/plain": [
       "array([6., 0., 0., 0., 0., 0., 0., 0., 0., 0.])"
      ]
     },
     "execution_count": 4,
     "metadata": {},
     "output_type": "execute_result"
    }
   ],
   "source": [
    "x = np.zeros(10)\n",
    "x[[0,0]]=[4,6]\n",
    "x"
   ]
  },
  {
   "cell_type": "markdown",
   "id": "2d165c06-1a47-4e32-a332-1ecb675ef1aa",
   "metadata": {},
   "source": [
    "4去哪里了呢？4被6覆盖了，因为X[0]被赋值了两次。\n",
    "\n",
    "如果上面这个例子还好理解的话，下面的这个操作就不符合程序编写者的本意了："
   ]
  },
  {
   "cell_type": "code",
   "execution_count": 5,
   "id": "3150100d-2890-4a45-95fd-a39ac41938a2",
   "metadata": {},
   "outputs": [
    {
     "data": {
      "text/plain": [
       "array([6., 0., 1., 1., 1., 0., 0., 0., 0., 0.])"
      ]
     },
     "execution_count": 5,
     "metadata": {},
     "output_type": "execute_result"
    }
   ],
   "source": [
    "i = [2,3,3,4,4,4]\n",
    "x[i]+=1\n",
    "x"
   ]
  },
  {
   "cell_type": "markdown",
   "id": "63c20054-2d79-4ede-b629-8bf0be61ec2f",
   "metadata": {},
   "source": [
    "即使你写成了累加的形式，x[i]并不会累加，而是在每一次调用初始条件下索引对应的值0，加上1。\n",
    "\n",
    "要希望累加，你可以使用通用函数的at方法："
   ]
  },
  {
   "cell_type": "code",
   "execution_count": 6,
   "id": "d60a77c8-4ba1-4b5c-98fc-ece13c761de5",
   "metadata": {},
   "outputs": [
    {
     "data": {
      "text/plain": [
       "array([0., 0., 1., 2., 3., 0., 0., 0., 0., 0.])"
      ]
     },
     "execution_count": 6,
     "metadata": {},
     "output_type": "execute_result"
    }
   ],
   "source": [
    "x = np.zeros(10)\n",
    "np.add.at(x,i,1)\n",
    "x"
   ]
  },
  {
   "cell_type": "code",
   "execution_count": 7,
   "id": "770b6046-1574-46b7-b2d5-079256ab66d8",
   "metadata": {},
   "outputs": [
    {
     "name": "stdout",
     "output_type": "stream",
     "text": [
      "Object `np.reduceat` not found.\n"
     ]
    }
   ],
   "source": [
    "np.reduceat?"
   ]
  },
  {
   "cell_type": "code",
   "execution_count": 8,
   "id": "7499d33a-e0da-4bad-bced-bd362094c733",
   "metadata": {},
   "outputs": [
    {
     "ename": "SyntaxError",
     "evalue": "invalid syntax (3663862464.py, line 1)",
     "output_type": "error",
     "traceback": [
      "\u001b[1;36m  Cell \u001b[1;32mIn[8], line 1\u001b[1;36m\u001b[0m\n\u001b[1;33m    np.reduceat()?\u001b[0m\n\u001b[1;37m                 ^\u001b[0m\n\u001b[1;31mSyntaxError\u001b[0m\u001b[1;31m:\u001b[0m invalid syntax\n"
     ]
    }
   ],
   "source": [
    "np.reduceat()?"
   ]
  },
  {
   "cell_type": "markdown",
   "id": "77a84cf5-fa56-4b7d-b657-efbc94597d56",
   "metadata": {},
   "source": [
    "## 2.7.5 示例：数据区间划分\n",
    "你可以利用上述方法快速统计分布在每个区间中的数据频次，可以用ufunc.at计算："
   ]
  },
  {
   "cell_type": "code",
   "execution_count": 11,
   "id": "731cdbf5-0ec7-4125-b757-245ba204c6dd",
   "metadata": {},
   "outputs": [],
   "source": [
    "np.random.seed(42)\n",
    "x = np.random.randn(100)\n",
    "\n",
    "# 手动计算直方图\n",
    "bins = np.linspace(-5,5,20)\n",
    "counts = np.zeros_like(bins)\n",
    "\n",
    "# 为每个x找到合适的区间\n",
    "i =np.searchsorted(bins,x)\n",
    "\n",
    "# 为每个区间加上1\n",
    "np.add.at(counts,i,1)"
   ]
  },
  {
   "cell_type": "code",
   "execution_count": 19,
   "id": "3df627e4-1dc4-4a59-8ae1-c2fc9ef04b7e",
   "metadata": {},
   "outputs": [
    {
     "data": {
      "text/plain": [
       "[<matplotlib.lines.Line2D at 0x20b9770a4d0>]"
      ]
     },
     "execution_count": 19,
     "metadata": {},
     "output_type": "execute_result"
    },
    {
     "data": {
      "image/png": "[encoded data removed]",
      "text/plain": [
       "<Figure size 640x480 with 1 Axes>"
      ]
     },
     "metadata": {},
     "output_type": "display_data"
    }
   ],
   "source": [
    "%matplotlib inline\n",
    "import matplotlib.pyplot as plt\n",
    "import seaborn; seaborn.set()\n",
    "\n",
    "# 画出结果\n",
    "plt.step(bins,counts)"
   ]
  },
  {
   "cell_type": "markdown",
   "id": "0c8699ec-41aa-4b9d-bb6f-adf7a3e0bd24",
   "metadata": {},
   "source": [
    "不过，plt.hist()方法也能实现上述功能："
   ]
  },
  {
   "cell_type": "code",
   "execution_count": 20,
   "id": "f52698c1-dca8-4612-9bb3-6a01aaf40356",
   "metadata": {},
   "outputs": [
    {
     "data": {
      "text/plain": [
       "(array([ 0.,  0.,  0.,  0.,  1.,  3.,  7.,  9., 23., 22., 17., 10.,  7.,\n",
       "         1.,  0.,  0.,  0.,  0.,  0.]),\n",
       " array([-5.        , -4.47368421, -3.94736842, -3.42105263, -2.89473684,\n",
       "        -2.36842105, -1.84210526, -1.31578947, -0.78947368, -0.26315789,\n",
       "         0.26315789,  0.78947368,  1.31578947,  1.84210526,  2.36842105,\n",
       "         2.89473684,  3.42105263,  3.94736842,  4.47368421,  5.        ]),\n",
       " [<matplotlib.patches.Polygon at 0x20b973124d0>])"
      ]
     },
     "execution_count": 20,
     "metadata": {},
     "output_type": "execute_result"
    },
    {
     "data": {
      "image/png": "[encoded data removed]",
      "text/plain": [
       "<Figure size 640x480 with 1 Axes>"
      ]
     },
     "metadata": {},
     "output_type": "display_data"
    }
   ],
   "source": [
    "plt.hist(x,bins, histtype='step')"
   ]
  },
  {
   "cell_type": "markdown",
   "id": "01464827-9ab5-4131-b80f-8a77f8cea855",
   "metadata": {},
   "source": [
    "实现上述代码会调用np.histogram函数，因此代码速度在小样本下会慢一些。"
   ]
  },
  {
   "cell_type": "markdown",
   "id": "67a11352-cc28-4200-9c4f-156ac85d4a52",
   "metadata": {},
   "source": [
    "# 2.8 数组的排序\n",
    "排序方法包括插入排序、选择排序、归并排序、快速排序、冒泡排序等。\n",
    "## 2.8.1 Numpy中的快速排序：np.sort和np.argsort\n",
    "默认情况下，np.sort使用快速排序，也可以选择快速排序和堆排序。\n",
    "\n",
    "如果想在不修改原始输入数组的基础上返回一个排好序的数组，可以使用np.sort:"
   ]
  },
  {
   "cell_type": "code",
   "execution_count": 21,
   "id": "ff35dbfc-a966-4ca5-a884-02979889205d",
   "metadata": {},
   "outputs": [
    {
     "data": {
      "text/plain": [
       "array([1, 2, 3, 4, 5])"
      ]
     },
     "execution_count": 21,
     "metadata": {},
     "output_type": "execute_result"
    }
   ],
   "source": [
    "x = np.array([2,1,4,3,5])\n",
    "np.sort(x)"
   ]
  },
  {
   "cell_type": "markdown",
   "id": "33a18255-2c45-431e-9ede-a613da4cd63a",
   "metadata": {},
   "source": [
    "如果希望用排好序的数组替代原始数组，可以使用数组的sort方法："
   ]
  },
  {
   "cell_type": "code",
   "execution_count": 22,
   "id": "cb0ac7b4-f60c-4e45-a426-7d0df79feddf",
   "metadata": {},
   "outputs": [
    {
     "name": "stdout",
     "output_type": "stream",
     "text": [
      "[1 2 3 4 5]\n"
     ]
    }
   ],
   "source": [
    "x.sort()\n",
    "print(x)"
   ]
  },
  {
   "cell_type": "markdown",
   "id": "42fa91db-bb4c-4273-b74f-061edf0a226c",
   "metadata": {},
   "source": [
    "另一个相关的函数是argsort，该函数返回的是原始数组排好序的索引值："
   ]
  },
  {
   "cell_type": "code",
   "execution_count": 23,
   "id": "059e957d-fde2-4133-8974-5925c3d77ea2",
   "metadata": {},
   "outputs": [
    {
     "name": "stdout",
     "output_type": "stream",
     "text": [
      "[1 0 2 3 4]\n"
     ]
    }
   ],
   "source": [
    "x = np.array([2,1,3,4,5])\n",
    "i = np.argsort(x)\n",
    "print(i)"
   ]
  },
  {
   "cell_type": "code",
   "execution_count": 24,
   "id": "98216c18-57ed-497f-836b-049d9d114dff",
   "metadata": {},
   "outputs": [
    {
     "data": {
      "text/plain": [
       "array([1, 2, 3, 4, 5])"
      ]
     },
     "execution_count": 24,
     "metadata": {},
     "output_type": "execute_result"
    }
   ],
   "source": [
    "x[i]"
   ]
  },
  {
   "cell_type": "markdown",
   "id": "65f5cec9-85cd-4336-a4d2-0291ca3d1ee6",
   "metadata": {},
   "source": [
    "### 沿着列或行排序"
   ]
  },
  {
   "cell_type": "markdown",
   "id": "ee9c7eff-805b-46d1-b4cf-009feb7f0bd1",
   "metadata": {},
   "source": [
    "Numpy排序算法的一个有用功能是通过axis参数，沿着多维数组的行或者列进行排序。例如："
   ]
  },
  {
   "cell_type": "code",
   "execution_count": 25,
   "id": "409bbfd3-0806-413d-90e5-20cd27ead0c5",
   "metadata": {},
   "outputs": [
    {
     "name": "stdout",
     "output_type": "stream",
     "text": [
      "[[6 3 7 4 6 9]\n",
      " [2 6 7 4 3 7]\n",
      " [7 2 5 4 1 7]\n",
      " [5 1 4 0 9 5]]\n"
     ]
    }
   ],
   "source": [
    "rand = np.random.RandomState(42)\n",
    "X = rand.randint(0,10,(4,6))\n",
    "print(X)"
   ]
  },
  {
   "cell_type": "code",
   "execution_count": 26,
   "id": "a3d23267-9193-4e95-b945-3e2bfa576872",
   "metadata": {},
   "outputs": [
    {
     "data": {
      "text/plain": [
       "array([[2, 1, 4, 0, 1, 5],\n",
       "       [5, 2, 5, 4, 3, 7],\n",
       "       [6, 3, 7, 4, 6, 7],\n",
       "       [7, 6, 7, 4, 9, 9]])"
      ]
     },
     "execution_count": 26,
     "metadata": {},
     "output_type": "execute_result"
    }
   ],
   "source": [
    "# 对每一列排序\n",
    "np.sort(X,axis=0)"
   ]
  },
  {
   "cell_type": "code",
   "execution_count": 27,
   "id": "a467df6b-89ff-4229-8ea9-1125e7e16eca",
   "metadata": {},
   "outputs": [
    {
     "data": {
      "text/plain": [
       "array([[3, 4, 6, 6, 7, 9],\n",
       "       [2, 3, 4, 6, 7, 7],\n",
       "       [1, 2, 4, 5, 7, 7],\n",
       "       [0, 1, 4, 5, 5, 9]])"
      ]
     },
     "execution_count": 27,
     "metadata": {},
     "output_type": "execute_result"
    }
   ],
   "source": [
    "# 对每一行排序\n",
    "np.sort(X,axis=1)"
   ]
  },
  {
   "cell_type": "markdown",
   "id": "9542ca2b-032b-47c6-9da4-608d4389c766",
   "metadata": {},
   "source": [
    "这种处理方式会打乱行或者列之间数值的关系。"
   ]
  },
  {
   "cell_type": "markdown",
   "id": "2e51027f-74db-4a42-922d-db2ecfc87d9e",
   "metadata": {},
   "source": [
    "## 2.8.2 部分排序：分隔\n",
    "有时候我们不希望对整个数组进行排序，仅仅希望找到数组中第K小的数值。np.partition提供了这个功能。这个函数接受输入一个数组和数字K，输出的结果是一个新数组，左边是数组中从小到大排1到K的元素，右边是其他元素。"
   ]
  },
  {
   "cell_type": "code",
   "execution_count": 1,
   "id": "9080f878-6cb0-4432-9702-17dd39ff654e",
   "metadata": {},
   "outputs": [
    {
     "data": {
      "text/plain": [
       "array([2, 1, 3, 4, 6, 5, 7])"
      ]
     },
     "execution_count": 1,
     "metadata": {},
     "output_type": "execute_result"
    }
   ],
   "source": [
    "import numpy as np\n",
    "x=np.array([7,2,3,1,6,5,4])\n",
    "np.partition(x,3)"
   ]
  },
  {
   "cell_type": "markdown",
   "id": "8ec0c883-064f-4627-9b7f-bd3700d27d1b",
   "metadata": {},
   "source": [
    "请注意，在两个分隔区间中，元素是任意排列的。\n",
    "\n",
    "与排序列斯，也可以沿着多维数组任意的轴进行分隔："
   ]
  },
  {
   "cell_type": "code",
   "execution_count": 3,
   "id": "8daec9af-b841-4427-b769-5f479906b987",
   "metadata": {},
   "outputs": [
    {
     "data": {
      "text/plain": [
       "array([[0, 1, 1, 2, 4, 5],\n",
       "       [2, 3, 4, 5, 5, 7],\n",
       "       [3, 4, 6, 7, 6, 7],\n",
       "       [4, 6, 7, 7, 9, 9]])"
      ]
     },
     "execution_count": 3,
     "metadata": {},
     "output_type": "execute_result"
    }
   ],
   "source": [
    "X=np.array([[2, 1, 4, 0, 1, 5],\n",
    "       [5, 2, 5, 4, 3, 7],\n",
    "       [6, 3, 7, 4, 6, 7],\n",
    "       [7, 6, 7, 4, 9, 9]])\n",
    "np.partition(X,2,axis=1)"
   ]
  },
  {
   "cell_type": "markdown",
   "id": "a271550d-0021-430d-a4fd-2809c846d55b",
   "metadata": {},
   "source": [
    "这里代表着沿行分割。和排序类似，也有一个np.argpartition函数计算的是分隔的索引。"
   ]
  },
  {
   "cell_type": "markdown",
   "id": "7839c55e-0039-46f2-b509-e0d32d2e58b9",
   "metadata": {},
   "source": [
    "## 2.8.3 示例：K个最近邻\n",
    "以下示例展示的是如何利用argsort函数沿着多个轴快速找到集合中每个点的最近邻。"
   ]
  },
  {
   "cell_type": "code",
   "execution_count": 8,
   "id": "2223e525-8e4b-4d0d-afdd-70b040f7a472",
   "metadata": {},
   "outputs": [
    {
     "data": {
      "text/plain": [
       "array([[0.10300811, 0.26538297],\n",
       "       [0.33828103, 0.43767281],\n",
       "       [0.19810721, 0.28704643],\n",
       "       [0.47697327, 0.83484104],\n",
       "       [0.69748609, 0.29265301],\n",
       "       [0.01011021, 0.84242791],\n",
       "       [0.45615974, 0.79953796],\n",
       "       [0.00866604, 0.83792324],\n",
       "       [0.84966875, 0.67883157],\n",
       "       [0.05879076, 0.44531676]])"
      ]
     },
     "execution_count": 8,
     "metadata": {},
     "output_type": "execute_result"
    }
   ],
   "source": [
    "# 创建十个随机点放在10×2数组中\n",
    "X = np.random.rand(10,2)\n",
    "X"
   ]
  },
  {
   "cell_type": "code",
   "execution_count": 10,
   "id": "59fe2149-c1ff-4b47-a667-1bbd1f972991",
   "metadata": {},
   "outputs": [
    {
     "data": {
      "text/plain": [
       "<matplotlib.collections.PathCollection at 0x18989398090>"
      ]
     },
     "execution_count": 10,
     "metadata": {},
     "output_type": "execute_result"
    },
    {
     "data": {
      "image/png": "[encoded data removed]",
      "text/plain": [
       "<Figure size 640x480 with 1 Axes>"
      ]
     },
     "metadata": {},
     "output_type": "display_data"
    }
   ],
   "source": [
    "%matplotlib inline\n",
    "import matplotlib.pyplot as plt\n",
    "import seaborn;seaborn.set();\n",
    "plt.scatter(X[:,0],X[:,1],s=100)"
   ]
  },
  {
   "cell_type": "markdown",
   "id": "460aa712-bfa4-41e4-aaab-b52aa0673e72",
   "metadata": {},
   "source": [
    "利用Numpy的广播模块来进行计算。下面是一步一步的分解过程："
   ]
  },
  {
   "cell_type": "code",
   "execution_count": 11,
   "id": "efbd3c44-b803-4ff2-9c0b-b56edcc951d7",
   "metadata": {},
   "outputs": [
    {
     "data": {
      "text/plain": [
       "(10, 10, 2)"
      ]
     },
     "execution_count": 11,
     "metadata": {},
     "output_type": "execute_result"
    }
   ],
   "source": [
    "# 建设距离矩阵，矩阵第一个维度是X轴的差值，第二个维度是y轴的差值\n",
    "distance_cubic = X[:,np.newaxis,:]-X[np.newaxis,:,:]\n",
    "distance_cubic.shape"
   ]
  },
  {
   "cell_type": "code",
   "execution_count": 12,
   "id": "29489a6b-07d2-41fe-8aba-04e07e3ba43b",
   "metadata": {},
   "outputs": [
    {
     "data": {
      "text/plain": [
       "(10, 10, 2)"
      ]
     },
     "execution_count": 12,
     "metadata": {},
     "output_type": "execute_result"
    }
   ],
   "source": [
    "# 求平方\n",
    "distance_var = distance_cubic **2\n",
    "distance_var.shape"
   ]
  },
  {
   "cell_type": "code",
   "execution_count": 16,
   "id": "b65f0e81-c74a-4b68-a97b-cfd6806bea65",
   "metadata": {},
   "outputs": [
    {
     "data": {
      "text/plain": [
       "array([[0.00000000e+00, 8.50371358e-02, 9.51314343e-03, 4.64132433e-01,\n",
       "        3.54147729e-01, 3.41610883e-01, 4.10037620e-01, 3.36702787e-01,\n",
       "        7.28441848e-01, 3.43313415e-02],\n",
       "       [8.50371358e-02, 0.00000000e+00, 4.23370076e-02, 1.76978140e-01,\n",
       "        1.50059021e-01, 2.71522776e-01, 1.44841772e-01, 2.68846449e-01,\n",
       "        3.19674943e-01, 7.81732392e-02],\n",
       "       [9.51314343e-03, 4.23370076e-02, 0.00000000e+00, 3.77845217e-01,\n",
       "        2.49410708e-01, 3.43791459e-01, 3.29238673e-01, 3.39353216e-01,\n",
       "        5.78028035e-01, 4.44585678e-02],\n",
       "       [4.64132433e-01, 1.76978140e-01, 3.77845217e-01, 0.00000000e+00,\n",
       "        3.42593767e-01, 2.18018673e-01, 1.67951089e-03, 2.19321160e-01,\n",
       "        1.63240877e-01, 3.26605775e-01],\n",
       "       [3.54147729e-01, 1.50059021e-01, 2.49410708e-01, 3.42593767e-01,\n",
       "        0.00000000e+00, 7.74738044e-01, 3.15170752e-01, 7.71792693e-01,\n",
       "        1.72293436e-01, 4.31237946e-01],\n",
       "       [3.41610883e-01, 2.71522776e-01, 3.43791459e-01, 2.18018673e-01,\n",
       "        7.74738044e-01, 0.00000000e+00, 2.00799732e-01, 2.23776925e-05,\n",
       "        7.31622298e-01, 1.60067064e-01],\n",
       "       [4.10037620e-01, 1.44841772e-01, 3.29238673e-01, 1.67951089e-03,\n",
       "        3.15170752e-01, 2.00799732e-01, 0.00000000e+00, 2.01724046e-01,\n",
       "        1.69419369e-01, 2.83374761e-01],\n",
       "       [3.36702787e-01, 2.68846449e-01, 3.39353216e-01, 2.19321160e-01,\n",
       "        7.71792693e-01, 2.23776925e-05, 2.01724046e-01, 0.00000000e+00,\n",
       "        7.32595717e-01, 1.56652339e-01],\n",
       "       [7.28441848e-01, 3.19674943e-01, 5.78028035e-01, 1.63240877e-01,\n",
       "        1.72293436e-01, 7.31622298e-01, 1.69419369e-01, 7.32595717e-01,\n",
       "        0.00000000e+00, 6.80017152e-01],\n",
       "       [3.43313415e-02, 7.81732392e-02, 4.44585678e-02, 3.26605775e-01,\n",
       "        4.31237946e-01, 1.60067064e-01, 2.83374761e-01, 1.56652339e-01,\n",
       "        6.80017152e-01, 0.00000000e+00]])"
      ]
     },
     "execution_count": 16,
     "metadata": {},
     "output_type": "execute_result"
    }
   ],
   "source": [
    "# 求x平方加y平方\n",
    "dis = distance_var.sum(-1)\n",
    "dis"
   ]
  },
  {
   "cell_type": "code",
   "execution_count": 18,
   "id": "2c313868-9579-4908-a3a8-be517ce0ea27",
   "metadata": {},
   "outputs": [
    {
     "data": {
      "text/plain": [
       "array([[0, 2, 9, 1, 7, 5, 4, 6, 3, 8],\n",
       "       [1, 2, 9, 0, 6, 4, 3, 7, 5, 8],\n",
       "       [2, 0, 1, 9, 4, 6, 7, 5, 3, 8],\n",
       "       [3, 6, 8, 1, 5, 7, 9, 4, 2, 0],\n",
       "       [4, 1, 8, 2, 6, 3, 0, 9, 7, 5],\n",
       "       [5, 7, 9, 6, 3, 1, 0, 2, 8, 4],\n",
       "       [6, 3, 1, 8, 5, 7, 9, 4, 2, 0],\n",
       "       [7, 5, 9, 6, 3, 1, 0, 2, 8, 4],\n",
       "       [8, 3, 6, 4, 1, 2, 9, 0, 5, 7],\n",
       "       [9, 0, 2, 1, 7, 5, 6, 3, 4, 8]], dtype=int64)"
      ]
     },
     "execution_count": 18,
     "metadata": {},
     "output_type": "execute_result"
    }
   ],
   "source": [
    "sort_arg = dis.argsort(axis=1)\n",
    "sort_arg"
   ]
  },
  {
   "cell_type": "code",
   "execution_count": 20,
   "id": "cd87e334-44da-4989-b026-dc6d3702b93d",
   "metadata": {},
   "outputs": [
    {
     "data": {
      "text/plain": [
       "array([[2, 0, 9, 1, 7, 5, 4, 6, 8, 3],\n",
       "       [1, 9, 2, 0, 3, 5, 6, 7, 8, 4],\n",
       "       [1, 0, 2, 9, 3, 5, 6, 7, 8, 4],\n",
       "       [3, 6, 8, 1, 9, 5, 7, 4, 2, 0],\n",
       "       [1, 8, 4, 2, 3, 6, 0, 7, 5, 9],\n",
       "       [5, 7, 9, 6, 1, 3, 0, 2, 8, 4],\n",
       "       [6, 3, 1, 8, 9, 5, 7, 4, 2, 0],\n",
       "       [7, 5, 9, 6, 1, 3, 0, 2, 8, 4],\n",
       "       [3, 8, 6, 4, 1, 2, 9, 7, 5, 0],\n",
       "       [9, 0, 2, 1, 7, 5, 6, 3, 8, 4]], dtype=int64)"
      ]
     },
     "execution_count": 20,
     "metadata": {},
     "output_type": "execute_result"
    }
   ],
   "source": [
    "# 如果你不在意所有点的排序，你可以利用np.argpartition求出最近的两个点,包括自身的话要取前三个点\n",
    "closet_3_point = np.argpartition(dis,3,axis=1)\n",
    "closet_3_point"
   ]
  },
  {
   "cell_type": "code",
   "execution_count": 23,
   "id": "c15122cc-3a94-48b4-b05c-0c8e28829bc6",
   "metadata": {},
   "outputs": [
    {
     "data": {
      "image/png": "[encoded data removed]",
      "text/plain": [
       "<Figure size 640x480 with 1 Axes>"
      ]
     },
     "metadata": {},
     "output_type": "display_data"
    }
   ],
   "source": [
    "plt.scatter(X[:,0],X[:,1],s=100)\n",
    "# 为每个点和它最近的两个点之间连上线\n",
    "K = 2\n",
    "\n",
    "for i in range(X.shape[0]):\n",
    "    for j in closet_3_point[i, :K+1]:\n",
    " # 从X[i]连线到X[j]\n",
    " # 使⽤⼀些zip的魔术⽅法画线\n",
    "        plt.plot(*zip(X[j], X[i]), color='black')"
   ]
  },
  {
   "cell_type": "markdown",
   "id": "3e1a468d-94ab-4e8c-9314-180e7bb61820",
   "metadata": {},
   "source": [
    "# 2.9 格式化数据：Numpy里的格式化数组"
   ]
  },
  {
   "cell_type": "markdown",
   "id": "3d3e7a89-619e-4910-be28-85657aa5b1a6",
   "metadata": {},
   "source": [
    "虽然我们的数据很多情况下都能表⽰成同种类的数组，但是某些情况下，这是不适⽤的。本⼩节展⽰了如何使⽤NumPy的结构化数组和记\n",
    "录数组，它们能够提供对于复合的，不同种类的数组的有效存储⽅式。本⼩节的内容，包括场景和操作，通常都会在Pandas的\n",
    "Dataframe 中使⽤，之后会在第三章中讨论。\n",
    "\n",
    "考虑⼀下，我们有⼀些关于⼈的不同种类的数据（例如姓名、年龄和体重），现在我们想要将它们保存到Python程序中。当然它们可以被\r\n",
    "保存到三个独⽴的数组之中："
   ]
  },
  {
   "cell_type": "code",
   "execution_count": 24,
   "id": "3b7334fa-ee58-46f1-8e85-f9c305bf6af7",
   "metadata": {},
   "outputs": [],
   "source": [
    "import numpy as np\n",
    "\n",
    "name = ['Alice', 'Bob', 'Cathy', 'Doug']\r\n",
    "age = [25, 45, 37, 19]\r\n",
    "weight = [55.0, 85.5, 68.0, 61.5]"
   ]
  },
  {
   "cell_type": "markdown",
   "id": "f1498650-0534-4ebd-bdcc-ba9564707c01",
   "metadata": {},
   "source": [
    "显然这种做法有些原始。没有任何额外的信息让我们知道这三个数组是关联的；如果我们可以使⽤⼀个结构保存所有这些数据的话，会更加的⾃然。NumPy使⽤结构化数组来处理这种情况，结构化数组可以⽤来存储复合的数据类型。\n",
    "\n",
    "回忆一下我们创建一个简单数组的方法："
   ]
  },
  {
   "cell_type": "code",
   "execution_count": 27,
   "id": "b700929b-a4ab-47e7-a483-8385f1244c97",
   "metadata": {},
   "outputs": [
    {
     "data": {
      "text/plain": [
       "array([0, 0, 0, 0])"
      ]
     },
     "execution_count": 27,
     "metadata": {},
     "output_type": "execute_result"
    }
   ],
   "source": [
    "x = np.zeros(4,dtype=int)\n",
    "x"
   ]
  },
  {
   "cell_type": "markdown",
   "id": "8add0c2c-6cbb-4955-9cdc-0b13b1bd3364",
   "metadata": {},
   "source": [
    "我们也可以使用类似的方式创建一个复合数据数组，只要指定相应的dtype类的数据就行。"
   ]
  },
  {
   "cell_type": "code",
   "execution_count": 28,
   "id": "0e877c75-4ecb-4439-9d6e-58b6e4380d3b",
   "metadata": {},
   "outputs": [
    {
     "name": "stdout",
     "output_type": "stream",
     "text": [
      "[('name', '<U10'), ('age', '<i4'), ('weight', '<f8')]\n"
     ]
    }
   ],
   "source": [
    "# 使用复合的dtype参数来创建结构化数组\n",
    "data = np.zeros(4, dtype={'names':('name', 'age', 'weight'),\n",
    "                         'formats':('U10', 'i4', 'f8')})\n",
    "print(data.dtype)"
   ]
  },
  {
   "cell_type": "markdown",
   "id": "b37691f9-3d09-4167-887c-6281a3268617",
   "metadata": {},
   "source": [
    "这⾥的 U10 代表着“Unicode编码的字符串，最⼤⻓度10”， i4 代表着“4字节（32⽐特）整数”， f8 代表着“8字节（64⽐特）浮点数”。本节后⾯我们会介绍其他的类型选项。\n",
    "\n",
    "现在我们已经创建了⼀个空的结构化数组，我们可以使⽤上⾯的数据列表将数据填充到数组中："
   ]
  },
  {
   "cell_type": "code",
   "execution_count": 30,
   "id": "7eb009c9-9f32-4dec-82ff-a8173f582c0b",
   "metadata": {},
   "outputs": [
    {
     "name": "stdout",
     "output_type": "stream",
     "text": [
      "[('Alice', 25, 55. ) ('Bob', 45, 85.5) ('Cathy', 37, 68. )\n",
      " ('Doug', 19, 61.5)]\n"
     ]
    }
   ],
   "source": [
    "data['name'] = name\n",
    "data['age'] = age\n",
    "data['weight'] = weight\n",
    "print(data)"
   ]
  },
  {
   "cell_type": "markdown",
   "id": "9ae33a78-6590-400d-9500-deebb9c66cf4",
   "metadata": {},
   "source": [
    "使用结构化数组之后，你可以直接采用字段的名称而不是数字来访问元素了。"
   ]
  },
  {
   "cell_type": "code",
   "execution_count": 31,
   "id": "3fb0a446-952b-4e9e-959f-3a1b1c2c21f5",
   "metadata": {},
   "outputs": [
    {
     "data": {
      "text/plain": [
       "array(['Alice', 'Bob', 'Cathy', 'Doug'], dtype='<U10')"
      ]
     },
     "execution_count": 31,
     "metadata": {},
     "output_type": "execute_result"
    }
   ],
   "source": [
    "# 获取所有的名字\n",
    "data['name']"
   ]
  },
  {
   "cell_type": "code",
   "execution_count": 32,
   "id": "3ab9ee20-87ff-4640-85af-b0ff9a342d73",
   "metadata": {},
   "outputs": [
    {
     "data": {
      "text/plain": [
       "('Alice', 25, 55.)"
      ]
     },
     "execution_count": 32,
     "metadata": {},
     "output_type": "execute_result"
    }
   ],
   "source": [
    "# 获得第一行\n",
    "data[0]"
   ]
  },
  {
   "cell_type": "code",
   "execution_count": 34,
   "id": "f7146fed-2df7-40b2-ba69-cb664f381090",
   "metadata": {},
   "outputs": [
    {
     "data": {
      "text/plain": [
       "'Doug'"
      ]
     },
     "execution_count": 34,
     "metadata": {},
     "output_type": "execute_result"
    }
   ],
   "source": [
    "# 获得最后一行的名字\n",
    "data['name'][-1]"
   ]
  },
  {
   "cell_type": "code",
   "execution_count": 36,
   "id": "ac85f1bf-6a85-462b-8560-4875d4e26bab",
   "metadata": {},
   "outputs": [
    {
     "data": {
      "text/plain": [
       "'Doug'"
      ]
     },
     "execution_count": 36,
     "metadata": {},
     "output_type": "execute_result"
    }
   ],
   "source": [
    "# 反过来也是对的\n",
    "data[-1]['name']"
   ]
  },
  {
   "cell_type": "markdown",
   "id": "39c4d913-8eec-4030-9e86-12f498e3e122",
   "metadata": {},
   "source": [
    "使用布尔掩码，我们可以写出复杂但易懂的筛选条件，如下所示："
   ]
  },
  {
   "cell_type": "code",
   "execution_count": 37,
   "id": "335cfd22-7628-4f8f-95f3-57b3c8160a15",
   "metadata": {},
   "outputs": [
    {
     "data": {
      "text/plain": [
       "array(['Alice', 'Doug'], dtype='<U10')"
      ]
     },
     "execution_count": 37,
     "metadata": {},
     "output_type": "execute_result"
    }
   ],
   "source": [
    "# 获得所有年龄⼩于30的⼈的姓名\n",
    "data[data['age'] < 30]['name']"
   ]
  },
  {
   "cell_type": "markdown",
   "id": "ea405e35-f284-4bec-bf79-fddf972f84a9",
   "metadata": {},
   "source": [
    "请注意，如果你想要完成的⼯作⽐上⾯的需求还要复杂的话，你应该考虑使⽤Pandas包，下⼀章的主要内容。我们将会看到，Pandas提\n",
    "供了 Dataframe 对象，它是⼀个在NumPy数组的基础上构建的结构，提供了很多有⽤的数据操作功能，包括上⾯结构化数组的功能。"
   ]
  },
  {
   "cell_type": "markdown",
   "id": "62feac68-5aac-4698-b37e-bafb08b8c856",
   "metadata": {},
   "source": [
    "## 2.9.1 创建结构化数组"
   ]
  },
  {
   "cell_type": "code",
   "execution_count": null,
   "id": "6f64a39f-857e-45bc-8b5d-2a56dd3b9e85",
   "metadata": {},
   "outputs": [],
   "source": []
  }
 ],
 "metadata": {
  "kernelspec": {
   "display_name": "Python 3 (ipykernel)",
   "language": "python",
   "name": "python3"
  },
  "language_info": {
   "codemirror_mode": {
    "name": "ipython",
    "version": 3
   },
   "file_extension": ".py",
   "mimetype": "text/x-python",
   "name": "python",
   "nbconvert_exporter": "python",
   "pygments_lexer": "ipython3",
   "version": "3.11.7"
  }
 },
 "nbformat": 4,
 "nbformat_minor": 5
}
