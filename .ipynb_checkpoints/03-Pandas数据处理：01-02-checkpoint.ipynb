{
 "cells": [
  {
   "cell_type": "markdown",
   "id": "4f05a32e-99cd-4f42-9fdc-b6bcd3a99d3f",
   "metadata": {},
   "source": [
    "# 3.1 安装并使用pandas"
   ]
  },
  {
   "cell_type": "code",
   "execution_count": 2,
   "id": "f1414442-5f0a-43c8-8417-7784ee067462",
   "metadata": {},
   "outputs": [],
   "source": [
    "import pandas as pd\n",
    "import numpy as np"
   ]
  },
  {
   "cell_type": "markdown",
   "id": "360bee46-03eb-4bbe-a99b-60ae6c692151",
   "metadata": {},
   "source": [
    "# 3.2 pandas对象简介\n",
    "Pandas的基本数据结构分为以下三类：Series、DataFrame和Index。"
   ]
  },
  {
   "cell_type": "markdown",
   "id": "89d04685-966a-4c79-97fd-de47d64463dc",
   "metadata": {},
   "source": [
    "## 3.2.1 Pandas的Series对象\n",
    "Pandas的Series对象是一个带索引数据构成的一维数组，可用一个数组创建Series对象，如下所示："
   ]
  },
  {
   "cell_type": "code",
   "execution_count": 3,
   "id": "313eca83-d375-4a35-aa36-7b70cb33ed4c",
   "metadata": {},
   "outputs": [
    {
     "data": {
      "text/plain": [
       "0    0.25\n",
       "1    0.50\n",
       "2    0.75\n",
       "3    1.00\n",
       "dtype: float64"
      ]
     },
     "execution_count": 3,
     "metadata": {},
     "output_type": "execute_result"
    }
   ],
   "source": [
    "data =pd.Series([0.25,0.5,0.75,1])\n",
    "data"
   ]
  },
  {
   "cell_type": "markdown",
   "id": "a581278e-b998-4ffe-b1e9-1442b5ec36c2",
   "metadata": {},
   "source": [
    "Series对象将一组数据和一组索引绑定在一起，我们可以通过values和index属性获取数据。values是一个与Numpy数组类似。"
   ]
  },
  {
   "cell_type": "code",
   "execution_count": 4,
   "id": "58bdca67-4254-4e01-80bc-b2536a51d951",
   "metadata": {},
   "outputs": [
    {
     "name": "stdout",
     "output_type": "stream",
     "text": [
      "[0.25 0.5  0.75 1.  ]\n",
      "<class 'numpy.ndarray'>\n"
     ]
    }
   ],
   "source": [
    "print(data.values)\n",
    "print(type(data.values))"
   ]
  },
  {
   "cell_type": "markdown",
   "id": "57a39ea4-dc37-4f34-87ce-4d21eea8ba80",
   "metadata": {},
   "source": [
    "index属性返回的是一个类型为pd.index的类数组对象。"
   ]
  },
  {
   "cell_type": "code",
   "execution_count": 7,
   "id": "b3f196be-d577-4d84-928d-a51398fcab24",
   "metadata": {},
   "outputs": [
    {
     "data": {
      "text/plain": [
       "RangeIndex(start=0, stop=4, step=1)"
      ]
     },
     "execution_count": 7,
     "metadata": {},
     "output_type": "execute_result"
    }
   ],
   "source": [
    "data.index"
   ]
  },
  {
   "cell_type": "markdown",
   "id": "313f42f6-9b53-481f-b1af-166f72738d3c",
   "metadata": {},
   "source": [
    "和Numpy数组一样，数据可以通过Python的括号索引标签获取："
   ]
  },
  {
   "cell_type": "code",
   "execution_count": 8,
   "id": "127d89b1-a789-4569-88f5-765ac8837dc8",
   "metadata": {},
   "outputs": [
    {
     "data": {
      "text/plain": [
       "0.5"
      ]
     },
     "execution_count": 8,
     "metadata": {},
     "output_type": "execute_result"
    }
   ],
   "source": [
    "data[1]"
   ]
  },
  {
   "cell_type": "code",
   "execution_count": 9,
   "id": "beeda247-9ba8-4779-88fa-c7bf2300a6fc",
   "metadata": {},
   "outputs": [
    {
     "data": {
      "text/plain": [
       "1    0.50\n",
       "2    0.75\n",
       "dtype: float64"
      ]
     },
     "execution_count": 9,
     "metadata": {},
     "output_type": "execute_result"
    }
   ],
   "source": [
    "data[1:3]"
   ]
  },
  {
   "cell_type": "markdown",
   "id": "b5d5f9ac-b1ff-44bd-905c-22b64f33f540",
   "metadata": {},
   "source": [
    "但是我们将看到，Series对象比其模仿的Numpy数据更加通用，灵活。"
   ]
  },
  {
   "cell_type": "markdown",
   "id": "2953e8cf-9c9b-4c94-ad71-a61eef4ba92a",
   "metadata": {},
   "source": [
    "### 1. Series是通用的Numpy数组"
   ]
  },
  {
   "cell_type": "markdown",
   "id": "fdb10327-c7db-497e-886a-11f9eed860c6",
   "metadata": {},
   "source": [
    "到目前未知，我们可能觉得Series对象和一维Numpy数组基本可以等价交换。但两者的本质差异其实是索引：Numpy通过**隐式定义的**整数索引获取数值，\n",
    "而Pandas的Series对象用一种**显式定义的**索引与数值关联。\n",
    "\n",
    "显示索引的而定义让Series对象拥有了更强的能力。例如，索引不再仅仅是整数，还可以是任意想要的类型。如果可以，完全能够用字符串定义索引："
   ]
  },
  {
   "cell_type": "code",
   "execution_count": 12,
   "id": "067f7b54-53fd-46dc-88a1-4f35499dd290",
   "metadata": {},
   "outputs": [],
   "source": [
    "data = pd.Series([0.25,0.5,0.75,1.0],index=['a','b','c','d'])"
   ]
  },
  {
   "cell_type": "code",
   "execution_count": 13,
   "id": "0f198012-c76f-4191-8dcf-07f9e258dfd4",
   "metadata": {},
   "outputs": [
    {
     "data": {
      "text/plain": [
       "a    0.25\n",
       "b    0.50\n",
       "c    0.75\n",
       "d    1.00\n",
       "dtype: float64"
      ]
     },
     "execution_count": 13,
     "metadata": {},
     "output_type": "execute_result"
    }
   ],
   "source": [
    "data"
   ]
  },
  {
   "cell_type": "code",
   "execution_count": 14,
   "id": "cc56c7b1-a1b9-457b-bc05-96813dd70448",
   "metadata": {},
   "outputs": [
    {
     "data": {
      "text/plain": [
       "0.5"
      ]
     },
     "execution_count": 14,
     "metadata": {},
     "output_type": "execute_result"
    }
   ],
   "source": [
    "data['b']"
   ]
  },
  {
   "cell_type": "code",
   "execution_count": 15,
   "id": "d243b579-7cb7-4a7b-a2e1-166b98d56ce9",
   "metadata": {},
   "outputs": [
    {
     "name": "stderr",
     "output_type": "stream",
     "text": [
      "C:\\Users\\Tiny Fe\\AppData\\Local\\Temp\\ipykernel_16080\\3862107824.py:1: FutureWarning: Series.__getitem__ treating keys as positions is deprecated. In a future version, integer keys will always be treated as labels (consistent with DataFrame behavior). To access a value by position, use `ser.iloc[pos]`\n",
      "  data[1]\n"
     ]
    },
    {
     "data": {
      "text/plain": [
       "0.5"
      ]
     },
     "execution_count": 15,
     "metadata": {},
     "output_type": "execute_result"
    }
   ],
   "source": [
    "data[1]"
   ]
  },
  {
   "cell_type": "markdown",
   "id": "580d83ca-52f4-4604-9c5a-f382fe89aee3",
   "metadata": {},
   "source": [
    "也可以使用不按照顺序的整数索引"
   ]
  },
  {
   "cell_type": "code",
   "execution_count": 19,
   "id": "b1513b9d-12b6-4486-baa7-3a5fcbe6d573",
   "metadata": {},
   "outputs": [],
   "source": [
    "data = pd.Series([0.25,0.5,0.75,1.0],index=[2,5,3,7])"
   ]
  },
  {
   "cell_type": "code",
   "execution_count": 20,
   "id": "d4ee0310-0296-4918-b62f-52feb9cdb791",
   "metadata": {},
   "outputs": [
    {
     "data": {
      "text/plain": [
       "2    0.25\n",
       "5    0.50\n",
       "3    0.75\n",
       "7    1.00\n",
       "dtype: float64"
      ]
     },
     "execution_count": 20,
     "metadata": {},
     "output_type": "execute_result"
    }
   ],
   "source": [
    "data"
   ]
  },
  {
   "cell_type": "code",
   "execution_count": 21,
   "id": "f546a751-8f0c-4cfd-8d9b-7dcbf477ea60",
   "metadata": {},
   "outputs": [
    {
     "data": {
      "text/plain": [
       "0.5"
      ]
     },
     "execution_count": 21,
     "metadata": {},
     "output_type": "execute_result"
    }
   ],
   "source": [
    "data[5]"
   ]
  },
  {
   "cell_type": "markdown",
   "id": "1ffc43b3-06e4-4464-9c73-224ef4395266",
   "metadata": {},
   "source": [
    "### Series是特殊的字典\n",
    "你可以把Series对象看作一种特殊的Python字典。字典是将一种任意键映射到一组任意值的数据结构，而Series对象是一种将类型键映射到一组类型值的数组结构。\n",
    "\n",
    "\n",
    "类型至关重要，索引和数值各自保持为统一类型使得Series比字典更加高效。"
   ]
  },
  {
   "cell_type": "code",
   "execution_count": 23,
   "id": "3e3a99e7-f49e-410d-8e33-9be8ae52f36b",
   "metadata": {},
   "outputs": [
    {
     "data": {
      "text/plain": [
       "California    38332521\n",
       "Texas         26448193\n",
       "New York      19651127\n",
       "Florida       19552860\n",
       "Illinois      12882135\n",
       "dtype: int64"
      ]
     },
     "execution_count": 23,
     "metadata": {},
     "output_type": "execute_result"
    }
   ],
   "source": [
    "population_dict = {'California': 38332521,\n",
    "                   'Texas': 26448193,\n",
    "                   'New York':19651127,\n",
    "                   'Florida':19552860,\n",
    "                   'Illinois':12882135\n",
    "}\n",
    "population=pd.Series(population_dict)\n",
    "population"
   ]
  },
  {
   "cell_type": "markdown",
   "id": "2f79a3c5-0ec1-4e17-a708-3173adb7207e",
   "metadata": {},
   "source": [
    "注意，用字典创建Series对象时候，其索引是按照字典内索引顺序排列的（**和书中写得不同**）。典型的字典数值获取方式仍然有效："
   ]
  },
  {
   "cell_type": "code",
   "execution_count": 25,
   "id": "04e16faf-4155-46d3-aca4-78f768e20886",
   "metadata": {},
   "outputs": [
    {
     "data": {
      "text/plain": [
       "38332521"
      ]
     },
     "execution_count": 25,
     "metadata": {},
     "output_type": "execute_result"
    }
   ],
   "source": [
    "population['California']"
   ]
  },
  {
   "cell_type": "code",
   "execution_count": 28,
   "id": "84a6a77d-1966-4ed9-ba78-a81f8912d858",
   "metadata": {},
   "outputs": [
    {
     "data": {
      "text/plain": [
       "California    38332521\n",
       "Texas         26448193\n",
       "New York      19651127\n",
       "dtype: int64"
      ]
     },
     "execution_count": 28,
     "metadata": {},
     "output_type": "execute_result"
    }
   ],
   "source": [
    "population['California':'New York']"
   ]
  },
  {
   "cell_type": "markdown",
   "id": "0129b619-8387-4109-9357-836806dafa94",
   "metadata": {},
   "source": [
    "### 创建Series对象\n",
    "我们已经见过几种创建Series对象的方法，都是像这样的形式：\n",
    "\n",
    "`pd.Series(data, index=index)`\n",
    "\n",
    "其中，index是一个可选参数，data参数支持多种数据类型。\n",
    "\n",
    "例如，data可以是列表或者Numpy数组，这时index值默认为整数序列："
   ]
  },
  {
   "cell_type": "code",
   "execution_count": 29,
   "id": "beea5c4e-ada7-4117-a99a-7ecf0ab4a31c",
   "metadata": {},
   "outputs": [
    {
     "data": {
      "text/plain": [
       "0    2\n",
       "1    4\n",
       "2    6\n",
       "dtype: int64"
      ]
     },
     "execution_count": 29,
     "metadata": {},
     "output_type": "execute_result"
    }
   ],
   "source": [
    "pd.Series([2,4,6])"
   ]
  },
  {
   "cell_type": "markdown",
   "id": "ed5e23cd-5805-48af-abc2-09fce21a6f98",
   "metadata": {},
   "source": [
    "data也可以是一个标量，创建的Series对象会重复填充到每个索引上："
   ]
  },
  {
   "cell_type": "code",
   "execution_count": 30,
   "id": "a12a78a5-a11c-4610-bbdd-fda8cdf65e28",
   "metadata": {},
   "outputs": [
    {
     "data": {
      "text/plain": [
       "10    5\n",
       "12    5\n",
       "14    5\n",
       "dtype: int64"
      ]
     },
     "execution_count": 30,
     "metadata": {},
     "output_type": "execute_result"
    }
   ],
   "source": [
    "pd.Series(5,index=[10,12,14])"
   ]
  },
  {
   "cell_type": "markdown",
   "id": "1b8e6009-bde8-43ab-9716-e1a380c19985",
   "metadata": {},
   "source": [
    "data可以是一个字典，index的默认排序是排序的字典键:"
   ]
  },
  {
   "cell_type": "code",
   "execution_count": 32,
   "id": "f16e7cee-2c0c-474d-a0ce-9308c394da41",
   "metadata": {},
   "outputs": [
    {
     "data": {
      "text/plain": [
       "2    a\n",
       "1    b\n",
       "3    c\n",
       "dtype: object"
      ]
     },
     "execution_count": 32,
     "metadata": {},
     "output_type": "execute_result"
    }
   ],
   "source": [
    "pd.Series({2:'a',1:'b',3:'c'})"
   ]
  },
  {
   "cell_type": "markdown",
   "id": "7cbc2b1a-e9aa-4f0d-947b-3deafed14cda",
   "metadata": {},
   "source": [
    "可以通过显示指定索引来筛选需要的结果，pandas只会保留显示指定的索引键值对。"
   ]
  },
  {
   "cell_type": "code",
   "execution_count": 35,
   "id": "4a983c1f-9fcb-48d5-9792-9689e84b1d44",
   "metadata": {},
   "outputs": [
    {
     "data": {
      "text/plain": [
       "3    c\n",
       "2    a\n",
       "dtype: object"
      ]
     },
     "execution_count": 35,
     "metadata": {},
     "output_type": "execute_result"
    }
   ],
   "source": [
    "pd.Series({2:'a',1:'b',3:'c'},index=[3,2])"
   ]
  },
  {
   "cell_type": "markdown",
   "id": "4e97bf37-cacb-4884-bcf1-5c8d677d71ea",
   "metadata": {},
   "source": [
    "## 3.2.2 Pandas的DataFrame对象\n",
    "和Series对象一样，DataFrame既可以作为通用型的Numpy数组，也可以看作特殊的Python字典。"
   ]
  },
  {
   "cell_type": "markdown",
   "id": "c8c5d170-633d-4e90-87b9-3ba0f690f024",
   "metadata": {},
   "source": [
    "### 1.DataFrame是通用的Numpy数组\n",
    "DataFrame是既有灵活的行索引，又有灵活列名的二维数组。你也可以把DataFrame看成是有序排列的若干Series对象，这里的排列是指它们有共同的索引。"
   ]
  },
  {
   "cell_type": "markdown",
   "id": "d398051c-b4a6-466b-bb0e-5921c1139e15",
   "metadata": {},
   "source": [
    "area_dict = {'California':423967,'Texas':695662,'New York':141297,\n",
    "             'Florida':170312,'Illinois':149995}\n",
    "area = pd.Series(area_dict)\n",
    "area"
   ]
  },
  {
   "cell_type": "code",
   "execution_count": 37,
   "id": "c2db9645-7524-4f5d-96d5-4a142bb8945d",
   "metadata": {},
   "outputs": [
    {
     "data": {
      "text/html": [
       "<div>\n",
       "<style scoped>\n",
       "    .dataframe tbody tr th:only-of-type {\n",
       "        vertical-align: middle;\n",
       "    }\n",
       "\n",
       "    .dataframe tbody tr th {\n",
       "        vertical-align: top;\n",
       "    }\n",
       "\n",
       "    .dataframe thead th {\n",
       "        text-align: right;\n",
       "    }\n",
       "</style>\n",
       "<table border=\"1\" class=\"dataframe\">\n",
       "  <thead>\n",
       "    <tr style=\"text-align: right;\">\n",
       "      <th></th>\n",
       "      <th>population</th>\n",
       "      <th>area</th>\n",
       "    </tr>\n",
       "  </thead>\n",
       "  <tbody>\n",
       "    <tr>\n",
       "      <th>California</th>\n",
       "      <td>38332521</td>\n",
       "      <td>423967</td>\n",
       "    </tr>\n",
       "    <tr>\n",
       "      <th>Texas</th>\n",
       "      <td>26448193</td>\n",
       "      <td>695662</td>\n",
       "    </tr>\n",
       "    <tr>\n",
       "      <th>New York</th>\n",
       "      <td>19651127</td>\n",
       "      <td>141297</td>\n",
       "    </tr>\n",
       "    <tr>\n",
       "      <th>Florida</th>\n",
       "      <td>19552860</td>\n",
       "      <td>170312</td>\n",
       "    </tr>\n",
       "    <tr>\n",
       "      <th>Illinois</th>\n",
       "      <td>12882135</td>\n",
       "      <td>149995</td>\n",
       "    </tr>\n",
       "  </tbody>\n",
       "</table>\n",
       "</div>"
      ],
      "text/plain": [
       "            population    area\n",
       "California    38332521  423967\n",
       "Texas         26448193  695662\n",
       "New York      19651127  141297\n",
       "Florida       19552860  170312\n",
       "Illinois      12882135  149995"
      ]
     },
     "execution_count": 37,
     "metadata": {},
     "output_type": "execute_result"
    }
   ],
   "source": [
    "#结合之前创建的population Series对象，用一个字典创建包含这些信息的二维对象\n",
    "states = pd.DataFrame({'population':population,\n",
    "                      'area':area})\n",
    "states"
   ]
  },
  {
   "cell_type": "markdown",
   "id": "e421da96-489a-4aba-aa2a-26865497255d",
   "metadata": {},
   "source": [
    "和Series对象一样，DataFrame也有一个index属性可以获取索引标签："
   ]
  },
  {
   "cell_type": "code",
   "execution_count": 38,
   "id": "0a32fc70-c6c5-4958-88f9-41a9f83769fd",
   "metadata": {},
   "outputs": [
    {
     "data": {
      "text/plain": [
       "Index(['California', 'Texas', 'New York', 'Florida', 'Illinois'], dtype='object')"
      ]
     },
     "execution_count": 38,
     "metadata": {},
     "output_type": "execute_result"
    }
   ],
   "source": [
    "states.index"
   ]
  },
  {
   "cell_type": "markdown",
   "id": "d4c02930-77d9-4580-9556-346b16b366c7",
   "metadata": {},
   "source": [
    "Dataframe还有一个columns属性，是存放列标签的Index对象："
   ]
  },
  {
   "cell_type": "code",
   "execution_count": 40,
   "id": "2acdc6d7-0a86-4d89-9f42-697cc7fb2ff9",
   "metadata": {},
   "outputs": [
    {
     "data": {
      "text/plain": [
       "Index(['population', 'area'], dtype='object')"
      ]
     },
     "execution_count": 40,
     "metadata": {},
     "output_type": "execute_result"
    }
   ],
   "source": [
    "states.columns"
   ]
  },
  {
   "cell_type": "markdown",
   "id": "89f0b6aa-2738-4825-8a9e-94de692c3031",
   "metadata": {},
   "source": [
    "### 2. DataFrame是特殊的字典\n",
    "与Series类似，我们也可以把DataFrame看成一种特殊的字典，字典是一个键映射一个值，而DataFrame是一列映射一个Series数据。例如，通过'area'的列\n",
    "属性可以返回包含面积数据的Series对象："
   ]
  },
  {
   "cell_type": "code",
   "execution_count": 42,
   "id": "835d851a-ee50-4831-89da-32a4901b50d2",
   "metadata": {},
   "outputs": [
    {
     "data": {
      "text/plain": [
       "California    423967\n",
       "Texas         695662\n",
       "New York      141297\n",
       "Florida       170312\n",
       "Illinois      149995\n",
       "Name: area, dtype: int64"
      ]
     },
     "execution_count": 42,
     "metadata": {},
     "output_type": "execute_result"
    }
   ],
   "source": [
    "states['area']"
   ]
  },
  {
   "cell_type": "markdown",
   "id": "5636bffd-5ef4-4f2f-8dc5-ad81e110c7b7",
   "metadata": {},
   "source": [
    "需要特别注意的事情是，Numpy数组`data[0]`会返回第一行，而dataframe会直接报错。因此，最好把DataFrame看成一种二维字典。"
   ]
  },
  {
   "cell_type": "markdown",
   "id": "690fb62c-46a1-467f-98da-94fb30d91447",
   "metadata": {},
   "source": [
    "### 3. 创建DataFrame对象\n",
    "Pandas的DataFrame对象可以通过许多方式创建,这里举几个常用的例子。"
   ]
  },
  {
   "cell_type": "markdown",
   "id": "10fd7b7e-3111-4875-a37a-dd1e250f7667",
   "metadata": {},
   "source": [
    "#### (1) 通过单个Series对象创建\n",
    "还是以population和area为例，可以创建如下的dataframe"
   ]
  },
  {
   "cell_type": "code",
   "execution_count": 47,
   "id": "cda72fb1-cde8-46da-8c04-5489da8d5ee3",
   "metadata": {},
   "outputs": [
    {
     "data": {
      "text/html": [
       "<div>\n",
       "<style scoped>\n",
       "    .dataframe tbody tr th:only-of-type {\n",
       "        vertical-align: middle;\n",
       "    }\n",
       "\n",
       "    .dataframe tbody tr th {\n",
       "        vertical-align: top;\n",
       "    }\n",
       "\n",
       "    .dataframe thead th {\n",
       "        text-align: right;\n",
       "    }\n",
       "</style>\n",
       "<table border=\"1\" class=\"dataframe\">\n",
       "  <thead>\n",
       "    <tr style=\"text-align: right;\">\n",
       "      <th></th>\n",
       "      <th>population</th>\n",
       "    </tr>\n",
       "  </thead>\n",
       "  <tbody>\n",
       "    <tr>\n",
       "      <th>California</th>\n",
       "      <td>38332521</td>\n",
       "    </tr>\n",
       "    <tr>\n",
       "      <th>Texas</th>\n",
       "      <td>26448193</td>\n",
       "    </tr>\n",
       "    <tr>\n",
       "      <th>New York</th>\n",
       "      <td>19651127</td>\n",
       "    </tr>\n",
       "    <tr>\n",
       "      <th>Florida</th>\n",
       "      <td>19552860</td>\n",
       "    </tr>\n",
       "    <tr>\n",
       "      <th>Illinois</th>\n",
       "      <td>12882135</td>\n",
       "    </tr>\n",
       "  </tbody>\n",
       "</table>\n",
       "</div>"
      ],
      "text/plain": [
       "            population\n",
       "California    38332521\n",
       "Texas         26448193\n",
       "New York      19651127\n",
       "Florida       19552860\n",
       "Illinois      12882135"
      ]
     },
     "execution_count": 47,
     "metadata": {},
     "output_type": "execute_result"
    }
   ],
   "source": [
    "# 单列\n",
    "pd.DataFrame(population, columns=['population'])"
   ]
  },
  {
   "cell_type": "code",
   "execution_count": 49,
   "id": "3bed8f09-1003-427f-aff9-d9793a4165b4",
   "metadata": {},
   "outputs": [
    {
     "ename": "ValueError",
     "evalue": "Shape of passed values is (5, 1), indices imply (5, 2)",
     "output_type": "error",
     "traceback": [
      "\u001b[1;31m---------------------------------------------------------------------------\u001b[0m",
      "\u001b[1;31mValueError\u001b[0m                                Traceback (most recent call last)",
      "Cell \u001b[1;32mIn[49], line 2\u001b[0m\n\u001b[0;32m      1\u001b[0m \u001b[38;5;66;03m# 多列\u001b[39;00m\n\u001b[1;32m----> 2\u001b[0m pd\u001b[38;5;241m.\u001b[39mDataFrame(population,area, columns\u001b[38;5;241m=\u001b[39m[\u001b[38;5;124m'\u001b[39m\u001b[38;5;124mpopulation\u001b[39m\u001b[38;5;124m'\u001b[39m,\u001b[38;5;124m'\u001b[39m\u001b[38;5;124marea\u001b[39m\u001b[38;5;124m'\u001b[39m])\n",
      "File \u001b[1;32mF:\\Anaconda3\\Lib\\site-packages\\pandas\\core\\frame.py:782\u001b[0m, in \u001b[0;36mDataFrame.__init__\u001b[1;34m(self, data, index, columns, dtype, copy)\u001b[0m\n\u001b[0;32m    771\u001b[0m         mgr \u001b[38;5;241m=\u001b[39m dict_to_mgr(\n\u001b[0;32m    772\u001b[0m             \u001b[38;5;66;03m# error: Item \"ndarray\" of \"Union[ndarray, Series, Index]\" has no\u001b[39;00m\n\u001b[0;32m    773\u001b[0m             \u001b[38;5;66;03m# attribute \"name\"\u001b[39;00m\n\u001b[1;32m   (...)\u001b[0m\n\u001b[0;32m    779\u001b[0m             copy\u001b[38;5;241m=\u001b[39m_copy,\n\u001b[0;32m    780\u001b[0m         )\n\u001b[0;32m    781\u001b[0m     \u001b[38;5;28;01melse\u001b[39;00m:\n\u001b[1;32m--> 782\u001b[0m         mgr \u001b[38;5;241m=\u001b[39m ndarray_to_mgr(\n\u001b[0;32m    783\u001b[0m             data,\n\u001b[0;32m    784\u001b[0m             index,\n\u001b[0;32m    785\u001b[0m             columns,\n\u001b[0;32m    786\u001b[0m             dtype\u001b[38;5;241m=\u001b[39mdtype,\n\u001b[0;32m    787\u001b[0m             copy\u001b[38;5;241m=\u001b[39mcopy,\n\u001b[0;32m    788\u001b[0m             typ\u001b[38;5;241m=\u001b[39mmanager,\n\u001b[0;32m    789\u001b[0m         )\n\u001b[0;32m    791\u001b[0m \u001b[38;5;66;03m# For data is list-like, or Iterable (will consume into list)\u001b[39;00m\n\u001b[0;32m    792\u001b[0m \u001b[38;5;28;01melif\u001b[39;00m is_list_like(data):\n",
      "File \u001b[1;32mF:\\Anaconda3\\Lib\\site-packages\\pandas\\core\\internals\\construction.py:336\u001b[0m, in \u001b[0;36mndarray_to_mgr\u001b[1;34m(values, index, columns, dtype, copy, typ)\u001b[0m\n\u001b[0;32m    331\u001b[0m \u001b[38;5;66;03m# _prep_ndarraylike ensures that values.ndim == 2 at this point\u001b[39;00m\n\u001b[0;32m    332\u001b[0m index, columns \u001b[38;5;241m=\u001b[39m _get_axes(\n\u001b[0;32m    333\u001b[0m     values\u001b[38;5;241m.\u001b[39mshape[\u001b[38;5;241m0\u001b[39m], values\u001b[38;5;241m.\u001b[39mshape[\u001b[38;5;241m1\u001b[39m], index\u001b[38;5;241m=\u001b[39mindex, columns\u001b[38;5;241m=\u001b[39mcolumns\n\u001b[0;32m    334\u001b[0m )\n\u001b[1;32m--> 336\u001b[0m _check_values_indices_shape_match(values, index, columns)\n\u001b[0;32m    338\u001b[0m \u001b[38;5;28;01mif\u001b[39;00m typ \u001b[38;5;241m==\u001b[39m \u001b[38;5;124m\"\u001b[39m\u001b[38;5;124marray\u001b[39m\u001b[38;5;124m\"\u001b[39m:\n\u001b[0;32m    339\u001b[0m     \u001b[38;5;28;01mif\u001b[39;00m \u001b[38;5;28missubclass\u001b[39m(values\u001b[38;5;241m.\u001b[39mdtype\u001b[38;5;241m.\u001b[39mtype, \u001b[38;5;28mstr\u001b[39m):\n",
      "File \u001b[1;32mF:\\Anaconda3\\Lib\\site-packages\\pandas\\core\\internals\\construction.py:420\u001b[0m, in \u001b[0;36m_check_values_indices_shape_match\u001b[1;34m(values, index, columns)\u001b[0m\n\u001b[0;32m    418\u001b[0m passed \u001b[38;5;241m=\u001b[39m values\u001b[38;5;241m.\u001b[39mshape\n\u001b[0;32m    419\u001b[0m implied \u001b[38;5;241m=\u001b[39m (\u001b[38;5;28mlen\u001b[39m(index), \u001b[38;5;28mlen\u001b[39m(columns))\n\u001b[1;32m--> 420\u001b[0m \u001b[38;5;28;01mraise\u001b[39;00m \u001b[38;5;167;01mValueError\u001b[39;00m(\u001b[38;5;124mf\u001b[39m\u001b[38;5;124m\"\u001b[39m\u001b[38;5;124mShape of passed values is \u001b[39m\u001b[38;5;132;01m{\u001b[39;00mpassed\u001b[38;5;132;01m}\u001b[39;00m\u001b[38;5;124m, indices imply \u001b[39m\u001b[38;5;132;01m{\u001b[39;00mimplied\u001b[38;5;132;01m}\u001b[39;00m\u001b[38;5;124m\"\u001b[39m)\n",
      "\u001b[1;31mValueError\u001b[0m: Shape of passed values is (5, 1), indices imply (5, 2)"
     ]
    }
   ],
   "source": [
    "# 多列\n",
    "pd.DataFrame(population,area, columns=['population','area'])"
   ]
  },
  {
   "cell_type": "markdown",
   "id": "ad633a96-9822-47fc-b588-a76d8759f31f",
   "metadata": {},
   "source": [
    "多列无论怎么写都会失效，看来还是别这么写了。"
   ]
  },
  {
   "cell_type": "markdown",
   "id": "95f11315-8ea3-452f-a85f-0a36bc44ed52",
   "metadata": {},
   "source": [
    "#### (2) 通过字典-列表/列表-字典创建\n",
    "任何元素是字典的列表都可以变成DataFrame。用一个简单的列表来创建一些数据："
   ]
  },
  {
   "cell_type": "code",
   "execution_count": 50,
   "id": "59ed98ad-b1c5-4b72-9dc2-f22224b75eb3",
   "metadata": {},
   "outputs": [
    {
     "data": {
      "text/plain": [
       "[{'a': 0, 'b': 0}, {'a': 1, 'b': 2}, {'a': 2, 'b': 4}]"
      ]
     },
     "execution_count": 50,
     "metadata": {},
     "output_type": "execute_result"
    }
   ],
   "source": [
    "data = [{'a':i, 'b':2*i} for i in range(3)]\n",
    "data"
   ]
  },
  {
   "cell_type": "code",
   "execution_count": 51,
   "id": "d20cbad5-2e45-4dc6-bfae-48efc3c708ca",
   "metadata": {},
   "outputs": [
    {
     "data": {
      "text/html": [
       "<div>\n",
       "<style scoped>\n",
       "    .dataframe tbody tr th:only-of-type {\n",
       "        vertical-align: middle;\n",
       "    }\n",
       "\n",
       "    .dataframe tbody tr th {\n",
       "        vertical-align: top;\n",
       "    }\n",
       "\n",
       "    .dataframe thead th {\n",
       "        text-align: right;\n",
       "    }\n",
       "</style>\n",
       "<table border=\"1\" class=\"dataframe\">\n",
       "  <thead>\n",
       "    <tr style=\"text-align: right;\">\n",
       "      <th></th>\n",
       "      <th>a</th>\n",
       "      <th>b</th>\n",
       "    </tr>\n",
       "  </thead>\n",
       "  <tbody>\n",
       "    <tr>\n",
       "      <th>0</th>\n",
       "      <td>0</td>\n",
       "      <td>0</td>\n",
       "    </tr>\n",
       "    <tr>\n",
       "      <th>1</th>\n",
       "      <td>1</td>\n",
       "      <td>2</td>\n",
       "    </tr>\n",
       "    <tr>\n",
       "      <th>2</th>\n",
       "      <td>2</td>\n",
       "      <td>4</td>\n",
       "    </tr>\n",
       "  </tbody>\n",
       "</table>\n",
       "</div>"
      ],
      "text/plain": [
       "   a  b\n",
       "0  0  0\n",
       "1  1  2\n",
       "2  2  4"
      ]
     },
     "execution_count": 51,
     "metadata": {},
     "output_type": "execute_result"
    }
   ],
   "source": [
    "pd.DataFrame(data)"
   ]
  },
  {
   "cell_type": "markdown",
   "id": "ae1ea4bf-6208-4e91-a97e-c3fcbe09f099",
   "metadata": {},
   "source": [
    "那么值是列表的字典能不能得到dataframe呢？"
   ]
  },
  {
   "cell_type": "code",
   "execution_count": 53,
   "id": "d707db2a-38db-4b11-a93c-79d50f07abb9",
   "metadata": {},
   "outputs": [
    {
     "data": {
      "text/plain": [
       "{'Odd': [1, 3, 5, 7, 9], 'Even': [2, 4, 6, 8, 10]}"
      ]
     },
     "execution_count": 53,
     "metadata": {},
     "output_type": "execute_result"
    }
   ],
   "source": [
    "dict = {'Odd':[x for x in range(1,10,2)],\n",
    "       'Even':[x for x in range(2,12,2)]}\n",
    "dict"
   ]
  },
  {
   "cell_type": "code",
   "execution_count": 54,
   "id": "a8302ac2-8d88-4c83-9c31-f3e5038726fb",
   "metadata": {},
   "outputs": [
    {
     "data": {
      "text/html": [
       "<div>\n",
       "<style scoped>\n",
       "    .dataframe tbody tr th:only-of-type {\n",
       "        vertical-align: middle;\n",
       "    }\n",
       "\n",
       "    .dataframe tbody tr th {\n",
       "        vertical-align: top;\n",
       "    }\n",
       "\n",
       "    .dataframe thead th {\n",
       "        text-align: right;\n",
       "    }\n",
       "</style>\n",
       "<table border=\"1\" class=\"dataframe\">\n",
       "  <thead>\n",
       "    <tr style=\"text-align: right;\">\n",
       "      <th></th>\n",
       "      <th>Odd</th>\n",
       "      <th>Even</th>\n",
       "    </tr>\n",
       "  </thead>\n",
       "  <tbody>\n",
       "    <tr>\n",
       "      <th>0</th>\n",
       "      <td>1</td>\n",
       "      <td>2</td>\n",
       "    </tr>\n",
       "    <tr>\n",
       "      <th>1</th>\n",
       "      <td>3</td>\n",
       "      <td>4</td>\n",
       "    </tr>\n",
       "    <tr>\n",
       "      <th>2</th>\n",
       "      <td>5</td>\n",
       "      <td>6</td>\n",
       "    </tr>\n",
       "    <tr>\n",
       "      <th>3</th>\n",
       "      <td>7</td>\n",
       "      <td>8</td>\n",
       "    </tr>\n",
       "    <tr>\n",
       "      <th>4</th>\n",
       "      <td>9</td>\n",
       "      <td>10</td>\n",
       "    </tr>\n",
       "  </tbody>\n",
       "</table>\n",
       "</div>"
      ],
      "text/plain": [
       "   Odd  Even\n",
       "0    1     2\n",
       "1    3     4\n",
       "2    5     6\n",
       "3    7     8\n",
       "4    9    10"
      ]
     },
     "execution_count": 54,
     "metadata": {},
     "output_type": "execute_result"
    }
   ],
   "source": [
    "pd.DataFrame(dict)"
   ]
  },
  {
   "cell_type": "markdown",
   "id": "730a2bd0-ff4f-42ba-9919-dfdfd55d1501",
   "metadata": {},
   "source": [
    "也是可以的！创建DataFrame的底层逻辑就是**你输入的数据结构需要提供列索引。**"
   ]
  },
  {
   "cell_type": "markdown",
   "id": "14acfbe9-7ac8-4980-8e2d-9e9e3a8ff280",
   "metadata": {},
   "source": [
    "#### (3) 通过Series对象字典创建\n",
    "和利用值是列表的字典创建逻辑差不多。"
   ]
  },
  {
   "cell_type": "code",
   "execution_count": 55,
   "id": "a595a557-2bcd-4903-95b0-3a7b346bd297",
   "metadata": {},
   "outputs": [
    {
     "data": {
      "text/html": [
       "<div>\n",
       "<style scoped>\n",
       "    .dataframe tbody tr th:only-of-type {\n",
       "        vertical-align: middle;\n",
       "    }\n",
       "\n",
       "    .dataframe tbody tr th {\n",
       "        vertical-align: top;\n",
       "    }\n",
       "\n",
       "    .dataframe thead th {\n",
       "        text-align: right;\n",
       "    }\n",
       "</style>\n",
       "<table border=\"1\" class=\"dataframe\">\n",
       "  <thead>\n",
       "    <tr style=\"text-align: right;\">\n",
       "      <th></th>\n",
       "      <th>population</th>\n",
       "      <th>area</th>\n",
       "    </tr>\n",
       "  </thead>\n",
       "  <tbody>\n",
       "    <tr>\n",
       "      <th>California</th>\n",
       "      <td>38332521</td>\n",
       "      <td>423967</td>\n",
       "    </tr>\n",
       "    <tr>\n",
       "      <th>Texas</th>\n",
       "      <td>26448193</td>\n",
       "      <td>695662</td>\n",
       "    </tr>\n",
       "    <tr>\n",
       "      <th>New York</th>\n",
       "      <td>19651127</td>\n",
       "      <td>141297</td>\n",
       "    </tr>\n",
       "    <tr>\n",
       "      <th>Florida</th>\n",
       "      <td>19552860</td>\n",
       "      <td>170312</td>\n",
       "    </tr>\n",
       "    <tr>\n",
       "      <th>Illinois</th>\n",
       "      <td>12882135</td>\n",
       "      <td>149995</td>\n",
       "    </tr>\n",
       "  </tbody>\n",
       "</table>\n",
       "</div>"
      ],
      "text/plain": [
       "            population    area\n",
       "California    38332521  423967\n",
       "Texas         26448193  695662\n",
       "New York      19651127  141297\n",
       "Florida       19552860  170312\n",
       "Illinois      12882135  149995"
      ]
     },
     "execution_count": 55,
     "metadata": {},
     "output_type": "execute_result"
    }
   ],
   "source": [
    "pd.DataFrame({'population':population,\n",
    "             'area':area})"
   ]
  },
  {
   "cell_type": "markdown",
   "id": "acefc4af-f506-4d6e-9342-2a8800979bbf",
   "metadata": {},
   "source": [
    "#### (4) 通过NumPy二维数组创建\n",
    "假如有一个二维数组，就可以创建一个指定行列索引的DataFrame。如果不指定行列索引值，那么默认都是整数索引值。"
   ]
  },
  {
   "cell_type": "code",
   "execution_count": 56,
   "id": "10f40ef9-26e5-4516-ac59-e6a2e5ed1258",
   "metadata": {},
   "outputs": [
    {
     "data": {
      "text/html": [
       "<div>\n",
       "<style scoped>\n",
       "    .dataframe tbody tr th:only-of-type {\n",
       "        vertical-align: middle;\n",
       "    }\n",
       "\n",
       "    .dataframe tbody tr th {\n",
       "        vertical-align: top;\n",
       "    }\n",
       "\n",
       "    .dataframe thead th {\n",
       "        text-align: right;\n",
       "    }\n",
       "</style>\n",
       "<table border=\"1\" class=\"dataframe\">\n",
       "  <thead>\n",
       "    <tr style=\"text-align: right;\">\n",
       "      <th></th>\n",
       "      <th>foo</th>\n",
       "      <th>bar</th>\n",
       "    </tr>\n",
       "  </thead>\n",
       "  <tbody>\n",
       "    <tr>\n",
       "      <th>a</th>\n",
       "      <td>0.044145</td>\n",
       "      <td>0.635066</td>\n",
       "    </tr>\n",
       "    <tr>\n",
       "      <th>b</th>\n",
       "      <td>0.406937</td>\n",
       "      <td>0.236399</td>\n",
       "    </tr>\n",
       "    <tr>\n",
       "      <th>c</th>\n",
       "      <td>0.345193</td>\n",
       "      <td>0.343252</td>\n",
       "    </tr>\n",
       "  </tbody>\n",
       "</table>\n",
       "</div>"
      ],
      "text/plain": [
       "        foo       bar\n",
       "a  0.044145  0.635066\n",
       "b  0.406937  0.236399\n",
       "c  0.345193  0.343252"
      ]
     },
     "execution_count": 56,
     "metadata": {},
     "output_type": "execute_result"
    }
   ],
   "source": [
    "pd.DataFrame(np.random.rand(3,2),\n",
    "            columns=['foo','bar'],\n",
    "            index=['a','b','c'])"
   ]
  },
  {
   "cell_type": "markdown",
   "id": "cf89b58d-93e6-48b8-a7e3-01176095acf8",
   "metadata": {},
   "source": [
    "#### (5) 通过NumPy结构化数组创建。\n",
    "由于Pandas的DataFrame与结构化数组十分相似，因此可以通过结构化数组创建DataFrame："
   ]
  },
  {
   "cell_type": "code",
   "execution_count": 57,
   "id": "5ea4cde8-a81f-4cdb-a740-b13b09df0508",
   "metadata": {},
   "outputs": [
    {
     "data": {
      "text/plain": [
       "array([(0, 0.), (0, 0.), (0, 0.)], dtype=[('A', '<i8'), ('B', '<f8')])"
      ]
     },
     "execution_count": 57,
     "metadata": {},
     "output_type": "execute_result"
    }
   ],
   "source": [
    "A = np.zeros(3,dtype=[('A','i8'),('B','f8')])\n",
    "A"
   ]
  },
  {
   "cell_type": "code",
   "execution_count": 58,
   "id": "56384119-d7b5-4c17-a486-33643c7c8c43",
   "metadata": {},
   "outputs": [
    {
     "data": {
      "text/html": [
       "<div>\n",
       "<style scoped>\n",
       "    .dataframe tbody tr th:only-of-type {\n",
       "        vertical-align: middle;\n",
       "    }\n",
       "\n",
       "    .dataframe tbody tr th {\n",
       "        vertical-align: top;\n",
       "    }\n",
       "\n",
       "    .dataframe thead th {\n",
       "        text-align: right;\n",
       "    }\n",
       "</style>\n",
       "<table border=\"1\" class=\"dataframe\">\n",
       "  <thead>\n",
       "    <tr style=\"text-align: right;\">\n",
       "      <th></th>\n",
       "      <th>A</th>\n",
       "      <th>B</th>\n",
       "    </tr>\n",
       "  </thead>\n",
       "  <tbody>\n",
       "    <tr>\n",
       "      <th>0</th>\n",
       "      <td>0</td>\n",
       "      <td>0.0</td>\n",
       "    </tr>\n",
       "    <tr>\n",
       "      <th>1</th>\n",
       "      <td>0</td>\n",
       "      <td>0.0</td>\n",
       "    </tr>\n",
       "    <tr>\n",
       "      <th>2</th>\n",
       "      <td>0</td>\n",
       "      <td>0.0</td>\n",
       "    </tr>\n",
       "  </tbody>\n",
       "</table>\n",
       "</div>"
      ],
      "text/plain": [
       "   A    B\n",
       "0  0  0.0\n",
       "1  0  0.0\n",
       "2  0  0.0"
      ]
     },
     "execution_count": 58,
     "metadata": {},
     "output_type": "execute_result"
    }
   ],
   "source": [
    "pd.DataFrame(A)"
   ]
  },
  {
   "cell_type": "markdown",
   "id": "c0a5c4dd-d556-45e6-98c2-73bbc0c6abfe",
   "metadata": {},
   "source": [
    "## 3.2.3 Pandas的Index对象\n",
    "Pandas的Series和DataFrame对象都使用便于引用和调整的**显式索引**，Pandas的Index对象是一个很有趣的数据结构，可以将它看作是一个\n",
    "**不可变数组**或者**有序集合**（实际上是一个多集，因为Index对象可能包含重复值）。让我们来看一下Index对象："
   ]
  },
  {
   "cell_type": "code",
   "execution_count": 5,
   "id": "0ee68298-3886-4aec-b29c-b299494dadb1",
   "metadata": {},
   "outputs": [
    {
     "data": {
      "text/plain": [
       "Index([2, 3, 5, 7, 11], dtype='int64')"
      ]
     },
     "execution_count": 5,
     "metadata": {},
     "output_type": "execute_result"
    }
   ],
   "source": [
    "import pandas as pd\n",
    "ind = pd.Index([2,3,5,7,11])\n",
    "ind"
   ]
  },
  {
   "cell_type": "markdown",
   "id": "bb7ed58b-ff18-4bca-a14e-183ff00cbe52",
   "metadata": {},
   "source": [
    "#### 1. 将Index看作不可变数组\n",
    "Index对象有许多对象都像数组，可以通过标准的索引方法和切片操作取值。"
   ]
  },
  {
   "cell_type": "code",
   "execution_count": 6,
   "id": "232474e8-3f25-42eb-bc90-5bc3f04c409e",
   "metadata": {},
   "outputs": [
    {
     "data": {
      "text/plain": [
       "5"
      ]
     },
     "execution_count": 6,
     "metadata": {},
     "output_type": "execute_result"
    }
   ],
   "source": [
    "ind[2]"
   ]
  },
  {
   "cell_type": "code",
   "execution_count": 7,
   "id": "beed2f38-aff7-4a7f-86e8-31f54b186502",
   "metadata": {},
   "outputs": [
    {
     "data": {
      "text/plain": [
       "Index([2, 5, 11], dtype='int64')"
      ]
     },
     "execution_count": 7,
     "metadata": {},
     "output_type": "execute_result"
    }
   ],
   "source": [
    "ind[::2]"
   ]
  },
  {
   "cell_type": "markdown",
   "id": "45ab6595-d747-4703-9c0f-dcf1310fb211",
   "metadata": {},
   "source": [
    "Index还有许多与Numpy数组相似的属性："
   ]
  },
  {
   "cell_type": "code",
   "execution_count": 8,
   "id": "69767cf2-0e57-40a9-a931-fb5eaf5db695",
   "metadata": {},
   "outputs": [
    {
     "name": "stdout",
     "output_type": "stream",
     "text": [
      "5 (5,) 1 int64\n"
     ]
    }
   ],
   "source": [
    "print(ind.size,ind.shape,ind.ndim,ind.dtype)"
   ]
  },
  {
   "cell_type": "markdown",
   "id": "682ae135-9e87-4a8c-93b3-45f40e93e6c0",
   "metadata": {},
   "source": [
    "与一般数组不同，Index对象的索引是不可变的。赋值操作会被判错："
   ]
  },
  {
   "cell_type": "code",
   "execution_count": 10,
   "id": "643e7e59-c09b-4f56-ad5c-ad343f1d5972",
   "metadata": {},
   "outputs": [
    {
     "ename": "TypeError",
     "evalue": "Index does not support mutable operations",
     "output_type": "error",
     "traceback": [
      "\u001b[1;31m---------------------------------------------------------------------------\u001b[0m",
      "\u001b[1;31mTypeError\u001b[0m                                 Traceback (most recent call last)",
      "Cell \u001b[1;32mIn[10], line 1\u001b[0m\n\u001b[1;32m----> 1\u001b[0m ind[\u001b[38;5;241m1\u001b[39m]\u001b[38;5;241m=\u001b[39m\u001b[38;5;241m0\u001b[39m\n",
      "File \u001b[1;32mF:\\Anaconda3\\Lib\\site-packages\\pandas\\core\\indexes\\base.py:5348\u001b[0m, in \u001b[0;36mIndex.__setitem__\u001b[1;34m(self, key, value)\u001b[0m\n\u001b[0;32m   5346\u001b[0m \u001b[38;5;129m@final\u001b[39m\n\u001b[0;32m   5347\u001b[0m \u001b[38;5;28;01mdef\u001b[39;00m \u001b[38;5;21m__setitem__\u001b[39m(\u001b[38;5;28mself\u001b[39m, key, value) \u001b[38;5;241m-\u001b[39m\u001b[38;5;241m>\u001b[39m \u001b[38;5;28;01mNone\u001b[39;00m:\n\u001b[1;32m-> 5348\u001b[0m     \u001b[38;5;28;01mraise\u001b[39;00m \u001b[38;5;167;01mTypeError\u001b[39;00m(\u001b[38;5;124m\"\u001b[39m\u001b[38;5;124mIndex does not support mutable operations\u001b[39m\u001b[38;5;124m\"\u001b[39m)\n",
      "\u001b[1;31mTypeError\u001b[0m: Index does not support mutable operations"
     ]
    }
   ],
   "source": [
    "ind[1]=0"
   ]
  },
  {
   "cell_type": "markdown",
   "id": "db2dfaee-d9b4-42a5-b919-29f8cb83a535",
   "metadata": {},
   "source": [
    "### 2.将Index看作有序集合\n",
    "Index对象遵循Python标准库的集合（Set）数据结构的许多习惯用法，包括交集、并集和差集："
   ]
  },
  {
   "cell_type": "code",
   "execution_count": 15,
   "id": "a757d441-e73b-401f-82ba-fb55de273813",
   "metadata": {},
   "outputs": [
    {
     "name": "stdout",
     "output_type": "stream",
     "text": [
      "Index([1, 3, 5, 7, 9], dtype='int64')\n",
      "Index([2, 3, 5, 7, 11], dtype='int64')\n"
     ]
    }
   ],
   "source": [
    "indA = pd.Index([1,3,5,7,9])\n",
    "indB = pd.Index([2,3,5,7,11])\n",
    "print(indA)\n",
    "print(indB)"
   ]
  },
  {
   "cell_type": "code",
   "execution_count": 16,
   "id": "1b659a08-b633-44d4-95e2-0d41946d695f",
   "metadata": {},
   "outputs": [
    {
     "data": {
      "text/plain": [
       "Index([0, 3, 5, 7, 9], dtype='int64')"
      ]
     },
     "execution_count": 16,
     "metadata": {},
     "output_type": "execute_result"
    }
   ],
   "source": [
    "indA & indB"
   ]
  },
  {
   "cell_type": "code",
   "execution_count": 17,
   "id": "c435fffc-f4e4-4287-bc49-16fbeee1cfaa",
   "metadata": {},
   "outputs": [
    {
     "data": {
      "text/plain": [
       "Index([3, 3, 5, 7, 11], dtype='int64')"
      ]
     },
     "execution_count": 17,
     "metadata": {},
     "output_type": "execute_result"
    }
   ],
   "source": [
    "indA | indB"
   ]
  },
  {
   "cell_type": "code",
   "execution_count": 18,
   "id": "9deb24d0-78c6-41ab-b4b8-e042cd61cdc4",
   "metadata": {},
   "outputs": [
    {
     "data": {
      "text/plain": [
       "Index([3, 0, 0, 0, 2], dtype='int64')"
      ]
     },
     "execution_count": 18,
     "metadata": {},
     "output_type": "execute_result"
    }
   ],
   "source": [
    "indA ^ indB"
   ]
  },
  {
   "cell_type": "markdown",
   "id": "0e11f12f-faaf-45e4-9a97-917f1954c1e8",
   "metadata": {},
   "source": [
    "奇怪……"
   ]
  },
  {
   "cell_type": "code",
   "execution_count": null,
   "id": "037e98b2-5604-48ed-b244-020274a836a1",
   "metadata": {},
   "outputs": [],
   "source": []
  }
 ],
 "metadata": {
  "kernelspec": {
   "display_name": "Python 3 (ipykernel)",
   "language": "python",
   "name": "python3"
  },
  "language_info": {
   "codemirror_mode": {
    "name": "ipython",
    "version": 3
   },
   "file_extension": ".py",
   "mimetype": "text/x-python",
   "name": "python",
   "nbconvert_exporter": "python",
   "pygments_lexer": "ipython3",
   "version": "3.11.7"
  }
 },
 "nbformat": 4,
 "nbformat_minor": 5
}
