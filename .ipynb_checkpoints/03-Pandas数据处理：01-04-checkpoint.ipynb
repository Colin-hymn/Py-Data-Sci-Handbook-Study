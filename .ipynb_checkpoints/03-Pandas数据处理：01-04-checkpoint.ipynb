{
 "cells": [
  {
   "cell_type": "markdown",
   "id": "4f05a32e-99cd-4f42-9fdc-b6bcd3a99d3f",
   "metadata": {},
   "source": [
    "# 3.1 安装并使用pandas"
   ]
  },
  {
   "cell_type": "code",
   "execution_count": 1,
   "id": "f1414442-5f0a-43c8-8417-7784ee067462",
   "metadata": {},
   "outputs": [],
   "source": [
    "import pandas as pd\n",
    "import numpy as np"
   ]
  },
  {
   "cell_type": "markdown",
   "id": "360bee46-03eb-4bbe-a99b-60ae6c692151",
   "metadata": {},
   "source": [
    "# 3.2 pandas对象简介\n",
    "Pandas的基本数据结构分为以下三类：Series、DataFrame和Index。"
   ]
  },
  {
   "cell_type": "markdown",
   "id": "89d04685-966a-4c79-97fd-de47d64463dc",
   "metadata": {},
   "source": [
    "## 3.2.1 Pandas的Series对象\n",
    "Pandas的Series对象是一个带索引数据构成的一维数组，可用一个数组创建Series对象，如下所示："
   ]
  },
  {
   "cell_type": "code",
   "execution_count": 2,
   "id": "313eca83-d375-4a35-aa36-7b70cb33ed4c",
   "metadata": {},
   "outputs": [
    {
     "data": {
      "text/plain": [
       "0    0.25\n",
       "1    0.50\n",
       "2    0.75\n",
       "3    1.00\n",
       "dtype: float64"
      ]
     },
     "execution_count": 2,
     "metadata": {},
     "output_type": "execute_result"
    }
   ],
   "source": [
    "data =pd.Series([0.25,0.5,0.75,1])\n",
    "data"
   ]
  },
  {
   "cell_type": "markdown",
   "id": "a581278e-b998-4ffe-b1e9-1442b5ec36c2",
   "metadata": {},
   "source": [
    "Series对象将一组数据和一组索引绑定在一起，我们可以通过values和index属性获取数据。values是一个与Numpy数组类似。"
   ]
  },
  {
   "cell_type": "code",
   "execution_count": 3,
   "id": "58bdca67-4254-4e01-80bc-b2536a51d951",
   "metadata": {},
   "outputs": [
    {
     "name": "stdout",
     "output_type": "stream",
     "text": [
      "[0.25 0.5  0.75 1.  ]\n",
      "<class 'numpy.ndarray'>\n"
     ]
    }
   ],
   "source": [
    "print(data.values)\n",
    "print(type(data.values))"
   ]
  },
  {
   "cell_type": "markdown",
   "id": "57a39ea4-dc37-4f34-87ce-4d21eea8ba80",
   "metadata": {},
   "source": [
    "index属性返回的是一个类型为pd.index的类数组对象。"
   ]
  },
  {
   "cell_type": "code",
   "execution_count": 4,
   "id": "b3f196be-d577-4d84-928d-a51398fcab24",
   "metadata": {},
   "outputs": [
    {
     "data": {
      "text/plain": [
       "RangeIndex(start=0, stop=4, step=1)"
      ]
     },
     "execution_count": 4,
     "metadata": {},
     "output_type": "execute_result"
    }
   ],
   "source": [
    "data.index"
   ]
  },
  {
   "cell_type": "markdown",
   "id": "313f42f6-9b53-481f-b1af-166f72738d3c",
   "metadata": {},
   "source": [
    "和Numpy数组一样，数据可以通过Python的括号索引标签获取："
   ]
  },
  {
   "cell_type": "code",
   "execution_count": 5,
   "id": "127d89b1-a789-4569-88f5-765ac8837dc8",
   "metadata": {},
   "outputs": [
    {
     "data": {
      "text/plain": [
       "0.5"
      ]
     },
     "execution_count": 5,
     "metadata": {},
     "output_type": "execute_result"
    }
   ],
   "source": [
    "data[1]"
   ]
  },
  {
   "cell_type": "code",
   "execution_count": 6,
   "id": "beeda247-9ba8-4779-88fa-c7bf2300a6fc",
   "metadata": {},
   "outputs": [
    {
     "data": {
      "text/plain": [
       "1    0.50\n",
       "2    0.75\n",
       "dtype: float64"
      ]
     },
     "execution_count": 6,
     "metadata": {},
     "output_type": "execute_result"
    }
   ],
   "source": [
    "data[1:3]"
   ]
  },
  {
   "cell_type": "markdown",
   "id": "b5d5f9ac-b1ff-44bd-905c-22b64f33f540",
   "metadata": {},
   "source": [
    "但是我们将看到，Series对象比其模仿的Numpy数据更加通用，灵活。"
   ]
  },
  {
   "cell_type": "markdown",
   "id": "2953e8cf-9c9b-4c94-ad71-a61eef4ba92a",
   "metadata": {},
   "source": [
    "### 1. Series是通用的Numpy数组"
   ]
  },
  {
   "cell_type": "markdown",
   "id": "fdb10327-c7db-497e-886a-11f9eed860c6",
   "metadata": {},
   "source": [
    "到目前未知，我们可能觉得Series对象和一维Numpy数组基本可以等价交换。但两者的本质差异其实是索引：Numpy通过**隐式定义的**整数索引获取数值，\n",
    "而Pandas的Series对象用一种**显式定义的**索引与数值关联。\n",
    "\n",
    "显示索引的而定义让Series对象拥有了更强的能力。例如，索引不再仅仅是整数，还可以是任意想要的类型。如果可以，完全能够用字符串定义索引："
   ]
  },
  {
   "cell_type": "code",
   "execution_count": 7,
   "id": "067f7b54-53fd-46dc-88a1-4f35499dd290",
   "metadata": {},
   "outputs": [],
   "source": [
    "data = pd.Series([0.25,0.5,0.75,1.0],index=['a','b','c','d'])"
   ]
  },
  {
   "cell_type": "code",
   "execution_count": 8,
   "id": "0f198012-c76f-4191-8dcf-07f9e258dfd4",
   "metadata": {},
   "outputs": [
    {
     "data": {
      "text/plain": [
       "a    0.25\n",
       "b    0.50\n",
       "c    0.75\n",
       "d    1.00\n",
       "dtype: float64"
      ]
     },
     "execution_count": 8,
     "metadata": {},
     "output_type": "execute_result"
    }
   ],
   "source": [
    "data"
   ]
  },
  {
   "cell_type": "code",
   "execution_count": 9,
   "id": "cc56c7b1-a1b9-457b-bc05-96813dd70448",
   "metadata": {},
   "outputs": [
    {
     "data": {
      "text/plain": [
       "0.5"
      ]
     },
     "execution_count": 9,
     "metadata": {},
     "output_type": "execute_result"
    }
   ],
   "source": [
    "data['b']"
   ]
  },
  {
   "cell_type": "code",
   "execution_count": 10,
   "id": "d243b579-7cb7-4a7b-a2e1-166b98d56ce9",
   "metadata": {},
   "outputs": [
    {
     "name": "stderr",
     "output_type": "stream",
     "text": [
      "C:\\Users\\Tiny Fe\\AppData\\Local\\Temp\\ipykernel_3624\\3862107824.py:1: FutureWarning: Series.__getitem__ treating keys as positions is deprecated. In a future version, integer keys will always be treated as labels (consistent with DataFrame behavior). To access a value by position, use `ser.iloc[pos]`\n",
      "  data[1]\n"
     ]
    },
    {
     "data": {
      "text/plain": [
       "0.5"
      ]
     },
     "execution_count": 10,
     "metadata": {},
     "output_type": "execute_result"
    }
   ],
   "source": [
    "data[1]"
   ]
  },
  {
   "cell_type": "markdown",
   "id": "580d83ca-52f4-4604-9c5a-f382fe89aee3",
   "metadata": {},
   "source": [
    "也可以使用不按照顺序的整数索引"
   ]
  },
  {
   "cell_type": "code",
   "execution_count": 11,
   "id": "b1513b9d-12b6-4486-baa7-3a5fcbe6d573",
   "metadata": {},
   "outputs": [],
   "source": [
    "data = pd.Series([0.25,0.5,0.75,1.0],index=[2,5,3,7])"
   ]
  },
  {
   "cell_type": "code",
   "execution_count": 12,
   "id": "d4ee0310-0296-4918-b62f-52feb9cdb791",
   "metadata": {},
   "outputs": [
    {
     "data": {
      "text/plain": [
       "2    0.25\n",
       "5    0.50\n",
       "3    0.75\n",
       "7    1.00\n",
       "dtype: float64"
      ]
     },
     "execution_count": 12,
     "metadata": {},
     "output_type": "execute_result"
    }
   ],
   "source": [
    "data"
   ]
  },
  {
   "cell_type": "code",
   "execution_count": 13,
   "id": "f546a751-8f0c-4cfd-8d9b-7dcbf477ea60",
   "metadata": {},
   "outputs": [
    {
     "data": {
      "text/plain": [
       "0.5"
      ]
     },
     "execution_count": 13,
     "metadata": {},
     "output_type": "execute_result"
    }
   ],
   "source": [
    "data[5]"
   ]
  },
  {
   "cell_type": "markdown",
   "id": "1ffc43b3-06e4-4464-9c73-224ef4395266",
   "metadata": {},
   "source": [
    "### Series是特殊的字典\n",
    "你可以把Series对象看作一种特殊的Python字典。字典是将一种任意键映射到一组任意值的数据结构，而Series对象是一种将类型键映射到一组类型值的数组结构。\n",
    "\n",
    "\n",
    "类型至关重要，索引和数值各自保持为统一类型使得Series比字典更加高效。"
   ]
  },
  {
   "cell_type": "code",
   "execution_count": 14,
   "id": "3e3a99e7-f49e-410d-8e33-9be8ae52f36b",
   "metadata": {},
   "outputs": [
    {
     "data": {
      "text/plain": [
       "California    38332521\n",
       "Texas         26448193\n",
       "New York      19651127\n",
       "Florida       19552860\n",
       "Illinois      12882135\n",
       "dtype: int64"
      ]
     },
     "execution_count": 14,
     "metadata": {},
     "output_type": "execute_result"
    }
   ],
   "source": [
    "population_dict = {'California': 38332521,\n",
    "                   'Texas': 26448193,\n",
    "                   'New York':19651127,\n",
    "                   'Florida':19552860,\n",
    "                   'Illinois':12882135\n",
    "}\n",
    "population=pd.Series(population_dict)\n",
    "population"
   ]
  },
  {
   "cell_type": "markdown",
   "id": "2f79a3c5-0ec1-4e17-a708-3173adb7207e",
   "metadata": {},
   "source": [
    "注意，用字典创建Series对象时候，其索引是按照字典内索引顺序排列的（**和书中写得不同**）。典型的字典数值获取方式仍然有效："
   ]
  },
  {
   "cell_type": "code",
   "execution_count": 15,
   "id": "04e16faf-4155-46d3-aca4-78f768e20886",
   "metadata": {},
   "outputs": [
    {
     "data": {
      "text/plain": [
       "38332521"
      ]
     },
     "execution_count": 15,
     "metadata": {},
     "output_type": "execute_result"
    }
   ],
   "source": [
    "population['California']"
   ]
  },
  {
   "cell_type": "code",
   "execution_count": 16,
   "id": "84a6a77d-1966-4ed9-ba78-a81f8912d858",
   "metadata": {},
   "outputs": [
    {
     "data": {
      "text/plain": [
       "California    38332521\n",
       "Texas         26448193\n",
       "New York      19651127\n",
       "dtype: int64"
      ]
     },
     "execution_count": 16,
     "metadata": {},
     "output_type": "execute_result"
    }
   ],
   "source": [
    "population['California':'New York']"
   ]
  },
  {
   "cell_type": "markdown",
   "id": "0129b619-8387-4109-9357-836806dafa94",
   "metadata": {},
   "source": [
    "### 创建Series对象\n",
    "我们已经见过几种创建Series对象的方法，都是像这样的形式：\n",
    "\n",
    "`pd.Series(data, index=index)`\n",
    "\n",
    "其中，index是一个可选参数，data参数支持多种数据类型。\n",
    "\n",
    "例如，data可以是列表或者Numpy数组，这时index值默认为整数序列："
   ]
  },
  {
   "cell_type": "code",
   "execution_count": 17,
   "id": "beea5c4e-ada7-4117-a99a-7ecf0ab4a31c",
   "metadata": {},
   "outputs": [
    {
     "data": {
      "text/plain": [
       "0    2\n",
       "1    4\n",
       "2    6\n",
       "dtype: int64"
      ]
     },
     "execution_count": 17,
     "metadata": {},
     "output_type": "execute_result"
    }
   ],
   "source": [
    "pd.Series([2,4,6])"
   ]
  },
  {
   "cell_type": "markdown",
   "id": "ed5e23cd-5805-48af-abc2-09fce21a6f98",
   "metadata": {},
   "source": [
    "data也可以是一个标量，创建的Series对象会重复填充到每个索引上："
   ]
  },
  {
   "cell_type": "code",
   "execution_count": 18,
   "id": "a12a78a5-a11c-4610-bbdd-fda8cdf65e28",
   "metadata": {},
   "outputs": [
    {
     "data": {
      "text/plain": [
       "10    5\n",
       "12    5\n",
       "14    5\n",
       "dtype: int64"
      ]
     },
     "execution_count": 18,
     "metadata": {},
     "output_type": "execute_result"
    }
   ],
   "source": [
    "pd.Series(5,index=[10,12,14])"
   ]
  },
  {
   "cell_type": "markdown",
   "id": "1b8e6009-bde8-43ab-9716-e1a380c19985",
   "metadata": {},
   "source": [
    "data可以是一个字典，index的默认排序是排序的字典键:"
   ]
  },
  {
   "cell_type": "code",
   "execution_count": 19,
   "id": "f16e7cee-2c0c-474d-a0ce-9308c394da41",
   "metadata": {},
   "outputs": [
    {
     "data": {
      "text/plain": [
       "2    a\n",
       "1    b\n",
       "3    c\n",
       "dtype: object"
      ]
     },
     "execution_count": 19,
     "metadata": {},
     "output_type": "execute_result"
    }
   ],
   "source": [
    "pd.Series({2:'a',1:'b',3:'c'})"
   ]
  },
  {
   "cell_type": "markdown",
   "id": "7cbc2b1a-e9aa-4f0d-947b-3deafed14cda",
   "metadata": {},
   "source": [
    "可以通过显示指定索引来筛选需要的结果，pandas只会保留显示指定的索引键值对。"
   ]
  },
  {
   "cell_type": "code",
   "execution_count": 20,
   "id": "4a983c1f-9fcb-48d5-9792-9689e84b1d44",
   "metadata": {},
   "outputs": [
    {
     "data": {
      "text/plain": [
       "3    c\n",
       "2    a\n",
       "dtype: object"
      ]
     },
     "execution_count": 20,
     "metadata": {},
     "output_type": "execute_result"
    }
   ],
   "source": [
    "pd.Series({2:'a',1:'b',3:'c'},index=[3,2])"
   ]
  },
  {
   "cell_type": "markdown",
   "id": "4e97bf37-cacb-4884-bcf1-5c8d677d71ea",
   "metadata": {},
   "source": [
    "## 3.2.2 Pandas的DataFrame对象\n",
    "和Series对象一样，DataFrame既可以作为通用型的Numpy数组，也可以看作特殊的Python字典。"
   ]
  },
  {
   "cell_type": "markdown",
   "id": "c8c5d170-633d-4e90-87b9-3ba0f690f024",
   "metadata": {},
   "source": [
    "### 1.DataFrame是通用的Numpy数组\n",
    "DataFrame是既有灵活的行索引，又有灵活列名的二维数组。你也可以把DataFrame看成是有序排列的若干Series对象，这里的排列是指它们有共同的索引。"
   ]
  },
  {
   "cell_type": "code",
   "execution_count": 21,
   "id": "893533b2-c00f-4478-a1f1-cfe0323d8971",
   "metadata": {},
   "outputs": [
    {
     "data": {
      "text/plain": [
       "California    423967\n",
       "Texas         695662\n",
       "New York      141297\n",
       "Florida       170312\n",
       "Illinois      149995\n",
       "dtype: int64"
      ]
     },
     "execution_count": 21,
     "metadata": {},
     "output_type": "execute_result"
    }
   ],
   "source": [
    "area_dict = {'California':423967,'Texas':695662,'New York':141297,\n",
    "             'Florida':170312,'Illinois':149995}\n",
    "area = pd.Series(area_dict)\n",
    "area"
   ]
  },
  {
   "cell_type": "code",
   "execution_count": 22,
   "id": "c2db9645-7524-4f5d-96d5-4a142bb8945d",
   "metadata": {},
   "outputs": [
    {
     "data": {
      "text/html": [
       "<div>\n",
       "<style scoped>\n",
       "    .dataframe tbody tr th:only-of-type {\n",
       "        vertical-align: middle;\n",
       "    }\n",
       "\n",
       "    .dataframe tbody tr th {\n",
       "        vertical-align: top;\n",
       "    }\n",
       "\n",
       "    .dataframe thead th {\n",
       "        text-align: right;\n",
       "    }\n",
       "</style>\n",
       "<table border=\"1\" class=\"dataframe\">\n",
       "  <thead>\n",
       "    <tr style=\"text-align: right;\">\n",
       "      <th></th>\n",
       "      <th>population</th>\n",
       "      <th>area</th>\n",
       "    </tr>\n",
       "  </thead>\n",
       "  <tbody>\n",
       "    <tr>\n",
       "      <th>California</th>\n",
       "      <td>38332521</td>\n",
       "      <td>423967</td>\n",
       "    </tr>\n",
       "    <tr>\n",
       "      <th>Texas</th>\n",
       "      <td>26448193</td>\n",
       "      <td>695662</td>\n",
       "    </tr>\n",
       "    <tr>\n",
       "      <th>New York</th>\n",
       "      <td>19651127</td>\n",
       "      <td>141297</td>\n",
       "    </tr>\n",
       "    <tr>\n",
       "      <th>Florida</th>\n",
       "      <td>19552860</td>\n",
       "      <td>170312</td>\n",
       "    </tr>\n",
       "    <tr>\n",
       "      <th>Illinois</th>\n",
       "      <td>12882135</td>\n",
       "      <td>149995</td>\n",
       "    </tr>\n",
       "  </tbody>\n",
       "</table>\n",
       "</div>"
      ],
      "text/plain": [
       "            population    area\n",
       "California    38332521  423967\n",
       "Texas         26448193  695662\n",
       "New York      19651127  141297\n",
       "Florida       19552860  170312\n",
       "Illinois      12882135  149995"
      ]
     },
     "execution_count": 22,
     "metadata": {},
     "output_type": "execute_result"
    }
   ],
   "source": [
    "#结合之前创建的population Series对象，用一个字典创建包含这些信息的二维对象\n",
    "states = pd.DataFrame({'population':population,\n",
    "                      'area':area})\n",
    "states"
   ]
  },
  {
   "cell_type": "markdown",
   "id": "e421da96-489a-4aba-aa2a-26865497255d",
   "metadata": {},
   "source": [
    "和Series对象一样，DataFrame也有一个index属性可以获取索引标签："
   ]
  },
  {
   "cell_type": "code",
   "execution_count": 23,
   "id": "0a32fc70-c6c5-4958-88f9-41a9f83769fd",
   "metadata": {},
   "outputs": [
    {
     "data": {
      "text/plain": [
       "Index(['California', 'Texas', 'New York', 'Florida', 'Illinois'], dtype='object')"
      ]
     },
     "execution_count": 23,
     "metadata": {},
     "output_type": "execute_result"
    }
   ],
   "source": [
    "states.index"
   ]
  },
  {
   "cell_type": "markdown",
   "id": "d4c02930-77d9-4580-9556-346b16b366c7",
   "metadata": {},
   "source": [
    "Dataframe还有一个columns属性，是存放列标签的Index对象："
   ]
  },
  {
   "cell_type": "code",
   "execution_count": 24,
   "id": "2acdc6d7-0a86-4d89-9f42-697cc7fb2ff9",
   "metadata": {},
   "outputs": [
    {
     "data": {
      "text/plain": [
       "Index(['population', 'area'], dtype='object')"
      ]
     },
     "execution_count": 24,
     "metadata": {},
     "output_type": "execute_result"
    }
   ],
   "source": [
    "states.columns"
   ]
  },
  {
   "cell_type": "markdown",
   "id": "89f0b6aa-2738-4825-8a9e-94de692c3031",
   "metadata": {},
   "source": [
    "### 2. DataFrame是特殊的字典\n",
    "与Series类似，我们也可以把DataFrame看成一种特殊的字典，字典是一个键映射一个值，而DataFrame是一列映射一个Series数据。例如，通过'area'的列\n",
    "属性可以返回包含面积数据的Series对象："
   ]
  },
  {
   "cell_type": "code",
   "execution_count": 25,
   "id": "835d851a-ee50-4831-89da-32a4901b50d2",
   "metadata": {},
   "outputs": [
    {
     "data": {
      "text/plain": [
       "California    423967\n",
       "Texas         695662\n",
       "New York      141297\n",
       "Florida       170312\n",
       "Illinois      149995\n",
       "Name: area, dtype: int64"
      ]
     },
     "execution_count": 25,
     "metadata": {},
     "output_type": "execute_result"
    }
   ],
   "source": [
    "states['area']"
   ]
  },
  {
   "cell_type": "markdown",
   "id": "5636bffd-5ef4-4f2f-8dc5-ad81e110c7b7",
   "metadata": {},
   "source": [
    "需要特别注意的事情是，Numpy数组`data[0]`会返回第一行，而dataframe会直接报错。因此，最好把DataFrame看成一种二维字典。"
   ]
  },
  {
   "cell_type": "markdown",
   "id": "690fb62c-46a1-467f-98da-94fb30d91447",
   "metadata": {},
   "source": [
    "### 3. 创建DataFrame对象\n",
    "Pandas的DataFrame对象可以通过许多方式创建,这里举几个常用的例子。"
   ]
  },
  {
   "cell_type": "markdown",
   "id": "10fd7b7e-3111-4875-a37a-dd1e250f7667",
   "metadata": {},
   "source": [
    "#### (1) 通过单个Series对象创建\n",
    "还是以population和area为例，可以创建如下的dataframe"
   ]
  },
  {
   "cell_type": "code",
   "execution_count": 26,
   "id": "cda72fb1-cde8-46da-8c04-5489da8d5ee3",
   "metadata": {},
   "outputs": [
    {
     "data": {
      "text/html": [
       "<div>\n",
       "<style scoped>\n",
       "    .dataframe tbody tr th:only-of-type {\n",
       "        vertical-align: middle;\n",
       "    }\n",
       "\n",
       "    .dataframe tbody tr th {\n",
       "        vertical-align: top;\n",
       "    }\n",
       "\n",
       "    .dataframe thead th {\n",
       "        text-align: right;\n",
       "    }\n",
       "</style>\n",
       "<table border=\"1\" class=\"dataframe\">\n",
       "  <thead>\n",
       "    <tr style=\"text-align: right;\">\n",
       "      <th></th>\n",
       "      <th>population</th>\n",
       "    </tr>\n",
       "  </thead>\n",
       "  <tbody>\n",
       "    <tr>\n",
       "      <th>California</th>\n",
       "      <td>38332521</td>\n",
       "    </tr>\n",
       "    <tr>\n",
       "      <th>Texas</th>\n",
       "      <td>26448193</td>\n",
       "    </tr>\n",
       "    <tr>\n",
       "      <th>New York</th>\n",
       "      <td>19651127</td>\n",
       "    </tr>\n",
       "    <tr>\n",
       "      <th>Florida</th>\n",
       "      <td>19552860</td>\n",
       "    </tr>\n",
       "    <tr>\n",
       "      <th>Illinois</th>\n",
       "      <td>12882135</td>\n",
       "    </tr>\n",
       "  </tbody>\n",
       "</table>\n",
       "</div>"
      ],
      "text/plain": [
       "            population\n",
       "California    38332521\n",
       "Texas         26448193\n",
       "New York      19651127\n",
       "Florida       19552860\n",
       "Illinois      12882135"
      ]
     },
     "execution_count": 26,
     "metadata": {},
     "output_type": "execute_result"
    }
   ],
   "source": [
    "# 单列\n",
    "pd.DataFrame(population, columns=['population'])"
   ]
  },
  {
   "cell_type": "markdown",
   "id": "ad633a96-9822-47fc-b588-a76d8759f31f",
   "metadata": {},
   "source": [
    "多列无论怎么写都会失效，看来还是别这么写了。"
   ]
  },
  {
   "cell_type": "markdown",
   "id": "95f11315-8ea3-452f-a85f-0a36bc44ed52",
   "metadata": {},
   "source": [
    "#### (2) 通过字典-列表/列表-字典创建\n",
    "任何元素是字典的列表都可以变成DataFrame。用一个简单的列表来创建一些数据："
   ]
  },
  {
   "cell_type": "code",
   "execution_count": 27,
   "id": "59ed98ad-b1c5-4b72-9dc2-f22224b75eb3",
   "metadata": {},
   "outputs": [
    {
     "data": {
      "text/plain": [
       "[{'a': 0, 'b': 0}, {'a': 1, 'b': 2}, {'a': 2, 'b': 4}]"
      ]
     },
     "execution_count": 27,
     "metadata": {},
     "output_type": "execute_result"
    }
   ],
   "source": [
    "data = [{'a':i, 'b':2*i} for i in range(3)]\n",
    "data"
   ]
  },
  {
   "cell_type": "code",
   "execution_count": 28,
   "id": "d20cbad5-2e45-4dc6-bfae-48efc3c708ca",
   "metadata": {},
   "outputs": [
    {
     "data": {
      "text/html": [
       "<div>\n",
       "<style scoped>\n",
       "    .dataframe tbody tr th:only-of-type {\n",
       "        vertical-align: middle;\n",
       "    }\n",
       "\n",
       "    .dataframe tbody tr th {\n",
       "        vertical-align: top;\n",
       "    }\n",
       "\n",
       "    .dataframe thead th {\n",
       "        text-align: right;\n",
       "    }\n",
       "</style>\n",
       "<table border=\"1\" class=\"dataframe\">\n",
       "  <thead>\n",
       "    <tr style=\"text-align: right;\">\n",
       "      <th></th>\n",
       "      <th>a</th>\n",
       "      <th>b</th>\n",
       "    </tr>\n",
       "  </thead>\n",
       "  <tbody>\n",
       "    <tr>\n",
       "      <th>0</th>\n",
       "      <td>0</td>\n",
       "      <td>0</td>\n",
       "    </tr>\n",
       "    <tr>\n",
       "      <th>1</th>\n",
       "      <td>1</td>\n",
       "      <td>2</td>\n",
       "    </tr>\n",
       "    <tr>\n",
       "      <th>2</th>\n",
       "      <td>2</td>\n",
       "      <td>4</td>\n",
       "    </tr>\n",
       "  </tbody>\n",
       "</table>\n",
       "</div>"
      ],
      "text/plain": [
       "   a  b\n",
       "0  0  0\n",
       "1  1  2\n",
       "2  2  4"
      ]
     },
     "execution_count": 28,
     "metadata": {},
     "output_type": "execute_result"
    }
   ],
   "source": [
    "pd.DataFrame(data)"
   ]
  },
  {
   "cell_type": "markdown",
   "id": "ae1ea4bf-6208-4e91-a97e-c3fcbe09f099",
   "metadata": {},
   "source": [
    "那么值是列表的字典能不能得到dataframe呢？"
   ]
  },
  {
   "cell_type": "code",
   "execution_count": 29,
   "id": "d707db2a-38db-4b11-a93c-79d50f07abb9",
   "metadata": {},
   "outputs": [
    {
     "data": {
      "text/plain": [
       "{'Odd': [1, 3, 5, 7, 9], 'Even': [2, 4, 6, 8, 10]}"
      ]
     },
     "execution_count": 29,
     "metadata": {},
     "output_type": "execute_result"
    }
   ],
   "source": [
    "dict = {'Odd':[x for x in range(1,10,2)],\n",
    "       'Even':[x for x in range(2,12,2)]}\n",
    "dict"
   ]
  },
  {
   "cell_type": "code",
   "execution_count": 30,
   "id": "a8302ac2-8d88-4c83-9c31-f3e5038726fb",
   "metadata": {},
   "outputs": [
    {
     "data": {
      "text/html": [
       "<div>\n",
       "<style scoped>\n",
       "    .dataframe tbody tr th:only-of-type {\n",
       "        vertical-align: middle;\n",
       "    }\n",
       "\n",
       "    .dataframe tbody tr th {\n",
       "        vertical-align: top;\n",
       "    }\n",
       "\n",
       "    .dataframe thead th {\n",
       "        text-align: right;\n",
       "    }\n",
       "</style>\n",
       "<table border=\"1\" class=\"dataframe\">\n",
       "  <thead>\n",
       "    <tr style=\"text-align: right;\">\n",
       "      <th></th>\n",
       "      <th>Odd</th>\n",
       "      <th>Even</th>\n",
       "    </tr>\n",
       "  </thead>\n",
       "  <tbody>\n",
       "    <tr>\n",
       "      <th>0</th>\n",
       "      <td>1</td>\n",
       "      <td>2</td>\n",
       "    </tr>\n",
       "    <tr>\n",
       "      <th>1</th>\n",
       "      <td>3</td>\n",
       "      <td>4</td>\n",
       "    </tr>\n",
       "    <tr>\n",
       "      <th>2</th>\n",
       "      <td>5</td>\n",
       "      <td>6</td>\n",
       "    </tr>\n",
       "    <tr>\n",
       "      <th>3</th>\n",
       "      <td>7</td>\n",
       "      <td>8</td>\n",
       "    </tr>\n",
       "    <tr>\n",
       "      <th>4</th>\n",
       "      <td>9</td>\n",
       "      <td>10</td>\n",
       "    </tr>\n",
       "  </tbody>\n",
       "</table>\n",
       "</div>"
      ],
      "text/plain": [
       "   Odd  Even\n",
       "0    1     2\n",
       "1    3     4\n",
       "2    5     6\n",
       "3    7     8\n",
       "4    9    10"
      ]
     },
     "execution_count": 30,
     "metadata": {},
     "output_type": "execute_result"
    }
   ],
   "source": [
    "pd.DataFrame(dict)"
   ]
  },
  {
   "cell_type": "markdown",
   "id": "730a2bd0-ff4f-42ba-9919-dfdfd55d1501",
   "metadata": {},
   "source": [
    "也是可以的！创建DataFrame的底层逻辑就是**你输入的数据结构需要提供列索引。**"
   ]
  },
  {
   "cell_type": "markdown",
   "id": "14acfbe9-7ac8-4980-8e2d-9e9e3a8ff280",
   "metadata": {},
   "source": [
    "#### (3) 通过Series对象字典创建\n",
    "和利用值是列表的字典创建逻辑差不多。"
   ]
  },
  {
   "cell_type": "code",
   "execution_count": 31,
   "id": "a595a557-2bcd-4903-95b0-3a7b346bd297",
   "metadata": {},
   "outputs": [
    {
     "data": {
      "text/html": [
       "<div>\n",
       "<style scoped>\n",
       "    .dataframe tbody tr th:only-of-type {\n",
       "        vertical-align: middle;\n",
       "    }\n",
       "\n",
       "    .dataframe tbody tr th {\n",
       "        vertical-align: top;\n",
       "    }\n",
       "\n",
       "    .dataframe thead th {\n",
       "        text-align: right;\n",
       "    }\n",
       "</style>\n",
       "<table border=\"1\" class=\"dataframe\">\n",
       "  <thead>\n",
       "    <tr style=\"text-align: right;\">\n",
       "      <th></th>\n",
       "      <th>population</th>\n",
       "      <th>area</th>\n",
       "    </tr>\n",
       "  </thead>\n",
       "  <tbody>\n",
       "    <tr>\n",
       "      <th>California</th>\n",
       "      <td>38332521</td>\n",
       "      <td>423967</td>\n",
       "    </tr>\n",
       "    <tr>\n",
       "      <th>Texas</th>\n",
       "      <td>26448193</td>\n",
       "      <td>695662</td>\n",
       "    </tr>\n",
       "    <tr>\n",
       "      <th>New York</th>\n",
       "      <td>19651127</td>\n",
       "      <td>141297</td>\n",
       "    </tr>\n",
       "    <tr>\n",
       "      <th>Florida</th>\n",
       "      <td>19552860</td>\n",
       "      <td>170312</td>\n",
       "    </tr>\n",
       "    <tr>\n",
       "      <th>Illinois</th>\n",
       "      <td>12882135</td>\n",
       "      <td>149995</td>\n",
       "    </tr>\n",
       "  </tbody>\n",
       "</table>\n",
       "</div>"
      ],
      "text/plain": [
       "            population    area\n",
       "California    38332521  423967\n",
       "Texas         26448193  695662\n",
       "New York      19651127  141297\n",
       "Florida       19552860  170312\n",
       "Illinois      12882135  149995"
      ]
     },
     "execution_count": 31,
     "metadata": {},
     "output_type": "execute_result"
    }
   ],
   "source": [
    "pd.DataFrame({'population':population,\n",
    "             'area':area})"
   ]
  },
  {
   "cell_type": "markdown",
   "id": "acefc4af-f506-4d6e-9342-2a8800979bbf",
   "metadata": {},
   "source": [
    "#### (4) 通过NumPy二维数组创建\n",
    "假如有一个二维数组，就可以创建一个指定行列索引的DataFrame。如果不指定行列索引值，那么默认都是整数索引值。"
   ]
  },
  {
   "cell_type": "code",
   "execution_count": 32,
   "id": "10f40ef9-26e5-4516-ac59-e6a2e5ed1258",
   "metadata": {},
   "outputs": [
    {
     "data": {
      "text/html": [
       "<div>\n",
       "<style scoped>\n",
       "    .dataframe tbody tr th:only-of-type {\n",
       "        vertical-align: middle;\n",
       "    }\n",
       "\n",
       "    .dataframe tbody tr th {\n",
       "        vertical-align: top;\n",
       "    }\n",
       "\n",
       "    .dataframe thead th {\n",
       "        text-align: right;\n",
       "    }\n",
       "</style>\n",
       "<table border=\"1\" class=\"dataframe\">\n",
       "  <thead>\n",
       "    <tr style=\"text-align: right;\">\n",
       "      <th></th>\n",
       "      <th>foo</th>\n",
       "      <th>bar</th>\n",
       "    </tr>\n",
       "  </thead>\n",
       "  <tbody>\n",
       "    <tr>\n",
       "      <th>a</th>\n",
       "      <td>0.950091</td>\n",
       "      <td>0.215570</td>\n",
       "    </tr>\n",
       "    <tr>\n",
       "      <th>b</th>\n",
       "      <td>0.553743</td>\n",
       "      <td>0.702112</td>\n",
       "    </tr>\n",
       "    <tr>\n",
       "      <th>c</th>\n",
       "      <td>0.805421</td>\n",
       "      <td>0.812738</td>\n",
       "    </tr>\n",
       "  </tbody>\n",
       "</table>\n",
       "</div>"
      ],
      "text/plain": [
       "        foo       bar\n",
       "a  0.950091  0.215570\n",
       "b  0.553743  0.702112\n",
       "c  0.805421  0.812738"
      ]
     },
     "execution_count": 32,
     "metadata": {},
     "output_type": "execute_result"
    }
   ],
   "source": [
    "pd.DataFrame(np.random.rand(3,2),\n",
    "            columns=['foo','bar'],\n",
    "            index=['a','b','c'])"
   ]
  },
  {
   "cell_type": "markdown",
   "id": "cf89b58d-93e6-48b8-a7e3-01176095acf8",
   "metadata": {},
   "source": [
    "#### (5) 通过NumPy结构化数组创建。\n",
    "由于Pandas的DataFrame与结构化数组十分相似，因此可以通过结构化数组创建DataFrame："
   ]
  },
  {
   "cell_type": "code",
   "execution_count": 33,
   "id": "5ea4cde8-a81f-4cdb-a740-b13b09df0508",
   "metadata": {},
   "outputs": [
    {
     "data": {
      "text/plain": [
       "array([(0, 0.), (0, 0.), (0, 0.)], dtype=[('A', '<i8'), ('B', '<f8')])"
      ]
     },
     "execution_count": 33,
     "metadata": {},
     "output_type": "execute_result"
    }
   ],
   "source": [
    "A = np.zeros(3,dtype=[('A','i8'),('B','f8')])\n",
    "A"
   ]
  },
  {
   "cell_type": "code",
   "execution_count": 34,
   "id": "56384119-d7b5-4c17-a486-33643c7c8c43",
   "metadata": {},
   "outputs": [
    {
     "data": {
      "text/html": [
       "<div>\n",
       "<style scoped>\n",
       "    .dataframe tbody tr th:only-of-type {\n",
       "        vertical-align: middle;\n",
       "    }\n",
       "\n",
       "    .dataframe tbody tr th {\n",
       "        vertical-align: top;\n",
       "    }\n",
       "\n",
       "    .dataframe thead th {\n",
       "        text-align: right;\n",
       "    }\n",
       "</style>\n",
       "<table border=\"1\" class=\"dataframe\">\n",
       "  <thead>\n",
       "    <tr style=\"text-align: right;\">\n",
       "      <th></th>\n",
       "      <th>A</th>\n",
       "      <th>B</th>\n",
       "    </tr>\n",
       "  </thead>\n",
       "  <tbody>\n",
       "    <tr>\n",
       "      <th>0</th>\n",
       "      <td>0</td>\n",
       "      <td>0.0</td>\n",
       "    </tr>\n",
       "    <tr>\n",
       "      <th>1</th>\n",
       "      <td>0</td>\n",
       "      <td>0.0</td>\n",
       "    </tr>\n",
       "    <tr>\n",
       "      <th>2</th>\n",
       "      <td>0</td>\n",
       "      <td>0.0</td>\n",
       "    </tr>\n",
       "  </tbody>\n",
       "</table>\n",
       "</div>"
      ],
      "text/plain": [
       "   A    B\n",
       "0  0  0.0\n",
       "1  0  0.0\n",
       "2  0  0.0"
      ]
     },
     "execution_count": 34,
     "metadata": {},
     "output_type": "execute_result"
    }
   ],
   "source": [
    "pd.DataFrame(A)"
   ]
  },
  {
   "cell_type": "markdown",
   "id": "c0a5c4dd-d556-45e6-98c2-73bbc0c6abfe",
   "metadata": {},
   "source": [
    "## 3.2.3 Pandas的Index对象\n",
    "Pandas的Series和DataFrame对象都使用便于引用和调整的**显式索引**，Pandas的Index对象是一个很有趣的数据结构，可以将它看作是一个\n",
    "**不可变数组**或者**有序集合**（实际上是一个多集，因为Index对象可能包含重复值）。让我们来看一下Index对象："
   ]
  },
  {
   "cell_type": "code",
   "execution_count": 35,
   "id": "0ee68298-3886-4aec-b29c-b299494dadb1",
   "metadata": {},
   "outputs": [
    {
     "data": {
      "text/plain": [
       "Index([2, 3, 5, 7, 11], dtype='int64')"
      ]
     },
     "execution_count": 35,
     "metadata": {},
     "output_type": "execute_result"
    }
   ],
   "source": [
    "import pandas as pd\n",
    "ind = pd.Index([2,3,5,7,11])\n",
    "ind"
   ]
  },
  {
   "cell_type": "markdown",
   "id": "bb7ed58b-ff18-4bca-a14e-183ff00cbe52",
   "metadata": {},
   "source": [
    "#### 1. 将Index看作不可变数组\n",
    "Index对象有许多对象都像数组，可以通过标准的索引方法和切片操作取值。"
   ]
  },
  {
   "cell_type": "code",
   "execution_count": 36,
   "id": "232474e8-3f25-42eb-bc90-5bc3f04c409e",
   "metadata": {},
   "outputs": [
    {
     "data": {
      "text/plain": [
       "5"
      ]
     },
     "execution_count": 36,
     "metadata": {},
     "output_type": "execute_result"
    }
   ],
   "source": [
    "ind[2]"
   ]
  },
  {
   "cell_type": "code",
   "execution_count": 37,
   "id": "beed2f38-aff7-4a7f-86e8-31f54b186502",
   "metadata": {},
   "outputs": [
    {
     "data": {
      "text/plain": [
       "Index([2, 5, 11], dtype='int64')"
      ]
     },
     "execution_count": 37,
     "metadata": {},
     "output_type": "execute_result"
    }
   ],
   "source": [
    "ind[::2]"
   ]
  },
  {
   "cell_type": "markdown",
   "id": "45ab6595-d747-4703-9c0f-dcf1310fb211",
   "metadata": {},
   "source": [
    "Index还有许多与Numpy数组相似的属性："
   ]
  },
  {
   "cell_type": "code",
   "execution_count": 38,
   "id": "69767cf2-0e57-40a9-a931-fb5eaf5db695",
   "metadata": {},
   "outputs": [
    {
     "name": "stdout",
     "output_type": "stream",
     "text": [
      "5 (5,) 1 int64\n"
     ]
    }
   ],
   "source": [
    "print(ind.size,ind.shape,ind.ndim,ind.dtype)"
   ]
  },
  {
   "cell_type": "markdown",
   "id": "682ae135-9e87-4a8c-93b3-45f40e93e6c0",
   "metadata": {},
   "source": [
    "与一般数组不同，Index对象的索引是不可变的。赋值操作会被判错："
   ]
  },
  {
   "cell_type": "markdown",
   "id": "2ca91193-0475-46e6-a68b-a17dcc4bfbf5",
   "metadata": {},
   "source": [
    "    ind[1]=0\n",
    "---------------------------------------------------------------------------\n",
    "TypeError                                 Traceback (most recent call last)\n",
    "Cell In[39], line 1\n",
    "----> 1 ind[1]=0\n",
    "\n",
    "File F:\\Anaconda3\\Lib\\site-packages\\pandas\\core\\indexes\\base.py:5348, in Index.__setitem__(self, key, value)\n",
    "   5346 @final\n",
    "   5347 def __setitem__(self, key, value) -> None:\n",
    "-> 5348     raise TypeError(\"Index does not support mutable operations\")\n",
    "\n",
    "TypeError: Index does not support mutable operations"
   ]
  },
  {
   "cell_type": "markdown",
   "id": "db2dfaee-d9b4-42a5-b919-29f8cb83a535",
   "metadata": {},
   "source": [
    "### 2.将Index看作有序集合\n",
    "Index对象遵循Python标准库的集合（Set）数据结构的许多习惯用法，包括交集、并集和差集："
   ]
  },
  {
   "cell_type": "code",
   "execution_count": 39,
   "id": "a757d441-e73b-401f-82ba-fb55de273813",
   "metadata": {},
   "outputs": [
    {
     "name": "stdout",
     "output_type": "stream",
     "text": [
      "Index([1, 3, 5, 7, 9], dtype='int64')\n",
      "Index([2, 3, 5, 7, 11], dtype='int64')\n"
     ]
    }
   ],
   "source": [
    "indA = pd.Index([1,3,5,7,9])\n",
    "indB = pd.Index([2,3,5,7,11])\n",
    "print(indA)\n",
    "print(indB)"
   ]
  },
  {
   "cell_type": "code",
   "execution_count": 40,
   "id": "1b659a08-b633-44d4-95e2-0d41946d695f",
   "metadata": {},
   "outputs": [
    {
     "data": {
      "text/plain": [
       "Index([0, 3, 5, 7, 9], dtype='int64')"
      ]
     },
     "execution_count": 40,
     "metadata": {},
     "output_type": "execute_result"
    }
   ],
   "source": [
    "indA & indB"
   ]
  },
  {
   "cell_type": "code",
   "execution_count": 41,
   "id": "c435fffc-f4e4-4287-bc49-16fbeee1cfaa",
   "metadata": {},
   "outputs": [
    {
     "data": {
      "text/plain": [
       "Index([3, 3, 5, 7, 11], dtype='int64')"
      ]
     },
     "execution_count": 41,
     "metadata": {},
     "output_type": "execute_result"
    }
   ],
   "source": [
    "indA | indB"
   ]
  },
  {
   "cell_type": "code",
   "execution_count": 42,
   "id": "9deb24d0-78c6-41ab-b4b8-e042cd61cdc4",
   "metadata": {},
   "outputs": [
    {
     "data": {
      "text/plain": [
       "Index([3, 0, 0, 0, 2], dtype='int64')"
      ]
     },
     "execution_count": 42,
     "metadata": {},
     "output_type": "execute_result"
    }
   ],
   "source": [
    "indA ^ indB"
   ]
  },
  {
   "cell_type": "markdown",
   "id": "0e11f12f-faaf-45e4-9a97-917f1954c1e8",
   "metadata": {},
   "source": [
    "奇怪……"
   ]
  },
  {
   "cell_type": "markdown",
   "id": "24ff34a0-c800-4c1d-b182-e88ee8776210",
   "metadata": {},
   "source": [
    "# 3.3 数据取值和选择\n",
    "Series和DataFrame的取值与Numpy非常相似。"
   ]
  },
  {
   "cell_type": "markdown",
   "id": "55923ed1-1f13-49f3-b394-1e686549e30b",
   "metadata": {},
   "source": [
    "## 3.3.1 Series数据选择方法\n",
    "### 1. 将Series看作字典\n",
    "和字典一样，Series对象提供了键值对映射，这使得许多用于字典的方法能够用于Series对象。"
   ]
  },
  {
   "cell_type": "code",
   "execution_count": 43,
   "id": "0cae024e-7efe-4784-ac8e-842f7ffaa657",
   "metadata": {},
   "outputs": [
    {
     "data": {
      "text/plain": [
       "a    0.25\n",
       "b    0.50\n",
       "c    0.75\n",
       "d    1.00\n",
       "dtype: float64"
      ]
     },
     "execution_count": 43,
     "metadata": {},
     "output_type": "execute_result"
    }
   ],
   "source": [
    "import pandas as pd\n",
    "data=pd.Series([0.25,0.5,0.75,1.0],\n",
    "              index = ['a','b','c','d'])\n",
    "data"
   ]
  },
  {
   "cell_type": "code",
   "execution_count": 44,
   "id": "992a1950-1f1f-414e-89df-be3a8eabf2a5",
   "metadata": {},
   "outputs": [
    {
     "data": {
      "text/plain": [
       "0.5"
      ]
     },
     "execution_count": 44,
     "metadata": {},
     "output_type": "execute_result"
    }
   ],
   "source": [
    "data['b']"
   ]
  },
  {
   "cell_type": "markdown",
   "id": "af88e5e9-b343-48e4-a3e2-fe020def4aad",
   "metadata": {},
   "source": [
    "我们还可以用Python字典的表达式和方法来检测键/索引和值"
   ]
  },
  {
   "cell_type": "code",
   "execution_count": 45,
   "id": "4f74fdc6-a55a-42f6-8d3f-6c94834a2b2f",
   "metadata": {},
   "outputs": [
    {
     "data": {
      "text/plain": [
       "True"
      ]
     },
     "execution_count": 45,
     "metadata": {},
     "output_type": "execute_result"
    }
   ],
   "source": [
    "'a' in data"
   ]
  },
  {
   "cell_type": "code",
   "execution_count": 46,
   "id": "002d990a-fbbb-4ebd-b949-a377816d2c75",
   "metadata": {},
   "outputs": [
    {
     "data": {
      "text/plain": [
       "Index(['a', 'b', 'c', 'd'], dtype='object')"
      ]
     },
     "execution_count": 46,
     "metadata": {},
     "output_type": "execute_result"
    }
   ],
   "source": [
    "data.keys()"
   ]
  },
  {
   "cell_type": "code",
   "execution_count": 47,
   "id": "d793ee64-a1b8-4c1a-9249-d79d12016310",
   "metadata": {},
   "outputs": [
    {
     "data": {
      "text/plain": [
       "Index(['a', 'b', 'c', 'd'], dtype='object')"
      ]
     },
     "execution_count": 47,
     "metadata": {},
     "output_type": "execute_result"
    }
   ],
   "source": [
    "data.index # 这似乎是更加“正宗”的获取索引的方法"
   ]
  },
  {
   "cell_type": "code",
   "execution_count": 48,
   "id": "c9898202-dbdb-413d-a121-6712285a1e1e",
   "metadata": {},
   "outputs": [
    {
     "data": {
      "text/plain": [
       "[('a', 0.25), ('b', 0.5), ('c', 0.75), ('d', 1.0)]"
      ]
     },
     "execution_count": 48,
     "metadata": {},
     "output_type": "execute_result"
    }
   ],
   "source": [
    "list(data.items())"
   ]
  },
  {
   "cell_type": "markdown",
   "id": "1a4d2c9a-4249-4197-98d9-280904ff75d8",
   "metadata": {},
   "source": [
    "也可以通过索引进行赋值操作"
   ]
  },
  {
   "cell_type": "code",
   "execution_count": 49,
   "id": "7b34a979-51af-4163-b682-cbb0ca56f247",
   "metadata": {},
   "outputs": [
    {
     "data": {
      "text/plain": [
       "a    0.25\n",
       "b    0.50\n",
       "c    0.75\n",
       "d    1.00\n",
       "e    1.25\n",
       "dtype: float64"
      ]
     },
     "execution_count": 49,
     "metadata": {},
     "output_type": "execute_result"
    }
   ],
   "source": [
    "data['e']=1.25\n",
    "data"
   ]
  },
  {
   "cell_type": "markdown",
   "id": "396578cb-db47-49b4-98d9-624ec5ef2f4f",
   "metadata": {},
   "source": [
    "### 2.将Series看作一维数组\n",
    "Series具有和NumPy数组一样的数据选择功能，包括**索引**、**掩码**、**花哨的索引**等操作，具体示例如下所示："
   ]
  },
  {
   "cell_type": "code",
   "execution_count": 50,
   "id": "823bc659-1f5d-41ef-8d39-30b37c0147c6",
   "metadata": {},
   "outputs": [
    {
     "data": {
      "text/plain": [
       "a    0.25\n",
       "b    0.50\n",
       "c    0.75\n",
       "dtype: float64"
      ]
     },
     "execution_count": 50,
     "metadata": {},
     "output_type": "execute_result"
    }
   ],
   "source": [
    "data['a':'c'] # 将显式索引作为切片"
   ]
  },
  {
   "cell_type": "code",
   "execution_count": 51,
   "id": "7f16fb67-45bd-4a00-b4b5-563fced0f442",
   "metadata": {},
   "outputs": [
    {
     "data": {
      "text/plain": [
       "a    0.25\n",
       "b    0.50\n",
       "dtype: float64"
      ]
     },
     "execution_count": 51,
     "metadata": {},
     "output_type": "execute_result"
    }
   ],
   "source": [
    "data[0:2] # 将隐式整数索引作为切片"
   ]
  },
  {
   "cell_type": "code",
   "execution_count": 52,
   "id": "3dd33efc-6142-4b6b-bdda-8d8374a68d0f",
   "metadata": {},
   "outputs": [
    {
     "data": {
      "text/plain": [
       "b    0.50\n",
       "c    0.75\n",
       "dtype: float64"
      ]
     },
     "execution_count": 52,
     "metadata": {},
     "output_type": "execute_result"
    }
   ],
   "source": [
    "## 掩码\n",
    "data[ (data>0.3) & (data<0.8) ]"
   ]
  },
  {
   "cell_type": "code",
   "execution_count": 53,
   "id": "8ca51337-1e74-4db5-81f4-7e773c1d2f87",
   "metadata": {},
   "outputs": [
    {
     "data": {
      "text/plain": [
       "a    0.25\n",
       "e    1.25\n",
       "dtype: float64"
      ]
     },
     "execution_count": 53,
     "metadata": {},
     "output_type": "execute_result"
    }
   ],
   "source": [
    "## 花哨的索引\n",
    "data[['a','e']]"
   ]
  },
  {
   "cell_type": "markdown",
   "id": "906cd07a-3357-4a23-ad51-fda881aee885",
   "metadata": {},
   "source": [
    "以上操作之中，切片是绝大部分混乱之源。使用显式索引，结果**包含最后一个元素**；使用隐式索引，结果**不包含最后一个元素**。为了规避这些混乱\n",
    "Pandas内置了索引器。"
   ]
  },
  {
   "cell_type": "markdown",
   "id": "eca0db57-e0b9-4381-8325-dfde370ff0ba",
   "metadata": {},
   "source": [
    "### 3.索引器：loc、iloc\n",
    "对于下面的Series对象，当你采用取值操作会使用显式索引，而切片操作却会使用隐式索引。"
   ]
  },
  {
   "cell_type": "code",
   "execution_count": 54,
   "id": "8595e065-5c0f-44d7-8490-df7bd56b129d",
   "metadata": {},
   "outputs": [
    {
     "data": {
      "text/plain": [
       "1    a\n",
       "3    b\n",
       "5    c\n",
       "dtype: object"
      ]
     },
     "execution_count": 54,
     "metadata": {},
     "output_type": "execute_result"
    }
   ],
   "source": [
    "data = pd.Series(['a','b','c'],index=[1,3,5])\n",
    "data"
   ]
  },
  {
   "cell_type": "code",
   "execution_count": 55,
   "id": "cb86ae98-2da4-4c5e-b150-8e387750f675",
   "metadata": {},
   "outputs": [
    {
     "data": {
      "text/plain": [
       "'a'"
      ]
     },
     "execution_count": 55,
     "metadata": {},
     "output_type": "execute_result"
    }
   ],
   "source": [
    "data[1]"
   ]
  },
  {
   "cell_type": "code",
   "execution_count": 56,
   "id": "883a0a59-7526-4d03-a184-7aba3423ed96",
   "metadata": {},
   "outputs": [
    {
     "data": {
      "text/plain": [
       "3    b\n",
       "5    c\n",
       "dtype: object"
      ]
     },
     "execution_count": 56,
     "metadata": {},
     "output_type": "execute_result"
    }
   ],
   "source": [
    "data[1:3]"
   ]
  },
  {
   "cell_type": "markdown",
   "id": "ec00dd7b-cacf-4677-a5e4-c042867e2b6c",
   "metadata": {},
   "source": [
    "整数索引太容易造成混淆，所以Pandas提供了一些**索引器（indexer）** 属性来作为取值的方法。它们不是Series对象的函数方法，而是暴露切片接口的属性。\n",
    "\n",
    "第一个索引器是loc属性，表示取值和切片都是显式的："
   ]
  },
  {
   "cell_type": "code",
   "execution_count": 57,
   "id": "8e795a88-c638-4ce9-b2fe-c569088a22aa",
   "metadata": {},
   "outputs": [
    {
     "data": {
      "text/plain": [
       "'a'"
      ]
     },
     "execution_count": 57,
     "metadata": {},
     "output_type": "execute_result"
    }
   ],
   "source": [
    "data.loc[1]"
   ]
  },
  {
   "cell_type": "code",
   "execution_count": 58,
   "id": "ce688c06-a27c-44dc-92e6-63a4e52372e3",
   "metadata": {},
   "outputs": [
    {
     "data": {
      "text/plain": [
       "1    a\n",
       "3    b\n",
       "dtype: object"
      ]
     },
     "execution_count": 58,
     "metadata": {},
     "output_type": "execute_result"
    }
   ],
   "source": [
    "data.loc[1:3]"
   ]
  },
  {
   "cell_type": "markdown",
   "id": "5eedc33b-8b21-48f3-b63d-cfc71e3c9f91",
   "metadata": {},
   "source": [
    "第二个索引器是iloc属性，表示取值和切片都是隐式的（从0开始的左闭右开区间）："
   ]
  },
  {
   "cell_type": "code",
   "execution_count": 59,
   "id": "ec3f46c5-3f71-40fc-9359-e6a03af0d199",
   "metadata": {},
   "outputs": [
    {
     "data": {
      "text/plain": [
       "'b'"
      ]
     },
     "execution_count": 59,
     "metadata": {},
     "output_type": "execute_result"
    }
   ],
   "source": [
    "data.iloc[1]"
   ]
  },
  {
   "cell_type": "code",
   "execution_count": 60,
   "id": "0c3a90fc-4cf6-4d29-acc7-f126afac04b9",
   "metadata": {},
   "outputs": [
    {
     "data": {
      "text/plain": [
       "3    b\n",
       "5    c\n",
       "dtype: object"
      ]
     },
     "execution_count": 60,
     "metadata": {},
     "output_type": "execute_result"
    }
   ],
   "source": [
    "data.iloc[1:3]"
   ]
  },
  {
   "cell_type": "markdown",
   "id": "1c7d5566-389f-4203-be3f-40cab87f1cd8",
   "metadata": {},
   "source": [
    "强烈建议使用两种索引器属性来获取数据。"
   ]
  },
  {
   "cell_type": "markdown",
   "id": "60ffa4dc-7abe-4c09-acea-959739ba765c",
   "metadata": {},
   "source": [
    "## 3.3.2 DataFrame数据选择方法\n",
    "DataFrame具有二维或结构化数组的性质，有时候又像一个共享索引的若干Series对象构成的字典。这两种类比可以帮助我们更好地掌握这种数据结构的数据选择方法。"
   ]
  },
  {
   "cell_type": "markdown",
   "id": "c5f8a622-a33c-4577-a528-75b61bcca6be",
   "metadata": {},
   "source": [
    "### 1. 将DataFrame看作字典\n"
   ]
  },
  {
   "cell_type": "code",
   "execution_count": 61,
   "id": "e69a9cff-163f-410e-b399-8a3f1e3db53b",
   "metadata": {},
   "outputs": [
    {
     "data": {
      "text/html": [
       "<div>\n",
       "<style scoped>\n",
       "    .dataframe tbody tr th:only-of-type {\n",
       "        vertical-align: middle;\n",
       "    }\n",
       "\n",
       "    .dataframe tbody tr th {\n",
       "        vertical-align: top;\n",
       "    }\n",
       "\n",
       "    .dataframe thead th {\n",
       "        text-align: right;\n",
       "    }\n",
       "</style>\n",
       "<table border=\"1\" class=\"dataframe\">\n",
       "  <thead>\n",
       "    <tr style=\"text-align: right;\">\n",
       "      <th></th>\n",
       "      <th>area</th>\n",
       "      <th>pop</th>\n",
       "    </tr>\n",
       "  </thead>\n",
       "  <tbody>\n",
       "    <tr>\n",
       "      <th>California</th>\n",
       "      <td>432967</td>\n",
       "      <td>38332521</td>\n",
       "    </tr>\n",
       "    <tr>\n",
       "      <th>Texas</th>\n",
       "      <td>695662</td>\n",
       "      <td>26448193</td>\n",
       "    </tr>\n",
       "    <tr>\n",
       "      <th>New York</th>\n",
       "      <td>141297</td>\n",
       "      <td>19651127</td>\n",
       "    </tr>\n",
       "    <tr>\n",
       "      <th>Florida</th>\n",
       "      <td>170312</td>\n",
       "      <td>19552860</td>\n",
       "    </tr>\n",
       "    <tr>\n",
       "      <th>Illinois</th>\n",
       "      <td>149995</td>\n",
       "      <td>12882135</td>\n",
       "    </tr>\n",
       "  </tbody>\n",
       "</table>\n",
       "</div>"
      ],
      "text/plain": [
       "              area       pop\n",
       "California  432967  38332521\n",
       "Texas       695662  26448193\n",
       "New York    141297  19651127\n",
       "Florida     170312  19552860\n",
       "Illinois    149995  12882135"
      ]
     },
     "execution_count": 61,
     "metadata": {},
     "output_type": "execute_result"
    }
   ],
   "source": [
    "area = pd.Series({'California':432967,\"Texas\":695662, 'New York':141297,\"Florida\":170312,\"Illinois\":149995})\n",
    "pop = pd.Series({'California':38332521,\"Texas\":26448193, 'New York':19651127,\"Florida\":19552860,\"Illinois\":12882135})\n",
    "data = pd.DataFrame({'area':area,'pop':pop})\n",
    "data"
   ]
  },
  {
   "cell_type": "markdown",
   "id": "d6f041d3-37eb-4cb0-be9b-0044397f55a8",
   "metadata": {},
   "source": [
    "可以通过对列名进行字典形式的取值获取数据："
   ]
  },
  {
   "cell_type": "code",
   "execution_count": 62,
   "id": "54383fd1-ee7e-468f-b1e6-8b90539e512d",
   "metadata": {},
   "outputs": [
    {
     "data": {
      "text/plain": [
       "California    432967\n",
       "Texas         695662\n",
       "New York      141297\n",
       "Florida       170312\n",
       "Illinois      149995\n",
       "Name: area, dtype: int64"
      ]
     },
     "execution_count": 62,
     "metadata": {},
     "output_type": "execute_result"
    }
   ],
   "source": [
    "data['area']"
   ]
  },
  {
   "cell_type": "markdown",
   "id": "00fa11b9-6090-4a90-bd5d-c46483ba09a3",
   "metadata": {},
   "source": [
    "也可以用属性形式（attribute—style）选择**纯字符串列名**的数据"
   ]
  },
  {
   "cell_type": "code",
   "execution_count": 63,
   "id": "3e384910-458f-401b-a19f-3b2493324eec",
   "metadata": {},
   "outputs": [
    {
     "data": {
      "text/plain": [
       "California    432967\n",
       "Texas         695662\n",
       "New York      141297\n",
       "Florida       170312\n",
       "Illinois      149995\n",
       "Name: area, dtype: int64"
      ]
     },
     "execution_count": 63,
     "metadata": {},
     "output_type": "execute_result"
    }
   ],
   "source": [
    "data.area"
   ]
  },
  {
   "cell_type": "code",
   "execution_count": 64,
   "id": "6c6cc757-3dd4-491c-9e99-8fa43fd3f558",
   "metadata": {},
   "outputs": [
    {
     "data": {
      "text/plain": [
       "True"
      ]
     },
     "execution_count": 64,
     "metadata": {},
     "output_type": "execute_result"
    }
   ],
   "source": [
    "data.area is data['area']"
   ]
  },
  {
   "cell_type": "markdown",
   "id": "95771eee-6f2d-411d-95a8-5bdd256fa939",
   "metadata": {},
   "source": [
    "属性形式有许多局限性，如果列名是纯字符串，或者列名于DataFrame的方法同名，就不能这么用。\n",
    "\n",
    "尤其要避免`data.pop=z`这样的语法的使用。"
   ]
  },
  {
   "cell_type": "markdown",
   "id": "29c21aa0-a50e-4138-85ba-456a5bd65180",
   "metadata": {},
   "source": [
    "你可以用字典形式的语法调整对象，如果要增加一列可以这么做："
   ]
  },
  {
   "cell_type": "code",
   "execution_count": 65,
   "id": "a19cd34a-1790-4c5b-bd91-ed51f34c4b2b",
   "metadata": {},
   "outputs": [
    {
     "data": {
      "text/html": [
       "<div>\n",
       "<style scoped>\n",
       "    .dataframe tbody tr th:only-of-type {\n",
       "        vertical-align: middle;\n",
       "    }\n",
       "\n",
       "    .dataframe tbody tr th {\n",
       "        vertical-align: top;\n",
       "    }\n",
       "\n",
       "    .dataframe thead th {\n",
       "        text-align: right;\n",
       "    }\n",
       "</style>\n",
       "<table border=\"1\" class=\"dataframe\">\n",
       "  <thead>\n",
       "    <tr style=\"text-align: right;\">\n",
       "      <th></th>\n",
       "      <th>area</th>\n",
       "      <th>pop</th>\n",
       "      <th>density</th>\n",
       "    </tr>\n",
       "  </thead>\n",
       "  <tbody>\n",
       "    <tr>\n",
       "      <th>California</th>\n",
       "      <td>432967</td>\n",
       "      <td>38332521</td>\n",
       "      <td>88.534510</td>\n",
       "    </tr>\n",
       "    <tr>\n",
       "      <th>Texas</th>\n",
       "      <td>695662</td>\n",
       "      <td>26448193</td>\n",
       "      <td>38.018740</td>\n",
       "    </tr>\n",
       "    <tr>\n",
       "      <th>New York</th>\n",
       "      <td>141297</td>\n",
       "      <td>19651127</td>\n",
       "      <td>139.076746</td>\n",
       "    </tr>\n",
       "    <tr>\n",
       "      <th>Florida</th>\n",
       "      <td>170312</td>\n",
       "      <td>19552860</td>\n",
       "      <td>114.806121</td>\n",
       "    </tr>\n",
       "    <tr>\n",
       "      <th>Illinois</th>\n",
       "      <td>149995</td>\n",
       "      <td>12882135</td>\n",
       "      <td>85.883763</td>\n",
       "    </tr>\n",
       "  </tbody>\n",
       "</table>\n",
       "</div>"
      ],
      "text/plain": [
       "              area       pop     density\n",
       "California  432967  38332521   88.534510\n",
       "Texas       695662  26448193   38.018740\n",
       "New York    141297  19651127  139.076746\n",
       "Florida     170312  19552860  114.806121\n",
       "Illinois    149995  12882135   85.883763"
      ]
     },
     "execution_count": 65,
     "metadata": {},
     "output_type": "execute_result"
    }
   ],
   "source": [
    "data['density'] = data['pop']/data['area']\n",
    "data"
   ]
  },
  {
   "cell_type": "markdown",
   "id": "b0b4fa9f-0b7c-457e-bac2-6d0048d4e2e9",
   "metadata": {},
   "source": [
    "### 2.将DataFrame作为二维数组\n",
    "前面曾经提到，可以把DataFrame看作一个增强版的二维数组，用values查看数据："
   ]
  },
  {
   "cell_type": "code",
   "execution_count": 66,
   "id": "6dab4449-6c5b-4cb4-be83-ec51bfbeffd1",
   "metadata": {},
   "outputs": [
    {
     "data": {
      "text/plain": [
       "array([[4.32967000e+05, 3.83325210e+07, 8.85345096e+01],\n",
       "       [6.95662000e+05, 2.64481930e+07, 3.80187404e+01],\n",
       "       [1.41297000e+05, 1.96511270e+07, 1.39076746e+02],\n",
       "       [1.70312000e+05, 1.95528600e+07, 1.14806121e+02],\n",
       "       [1.49995000e+05, 1.28821350e+07, 8.58837628e+01]])"
      ]
     },
     "execution_count": 66,
     "metadata": {},
     "output_type": "execute_result"
    }
   ],
   "source": [
    "data.values"
   ]
  },
  {
   "cell_type": "markdown",
   "id": "a12deea8-b60d-4917-a38a-7a4552599636",
   "metadata": {},
   "source": [
    "理解了这一点，就可以把许多数组的操作方式用在DataFrame上。例如，可以进行列转置："
   ]
  },
  {
   "cell_type": "code",
   "execution_count": 67,
   "id": "d5deae7b-1a81-4838-9480-5b015bd35e55",
   "metadata": {},
   "outputs": [
    {
     "data": {
      "text/html": [
       "<div>\n",
       "<style scoped>\n",
       "    .dataframe tbody tr th:only-of-type {\n",
       "        vertical-align: middle;\n",
       "    }\n",
       "\n",
       "    .dataframe tbody tr th {\n",
       "        vertical-align: top;\n",
       "    }\n",
       "\n",
       "    .dataframe thead th {\n",
       "        text-align: right;\n",
       "    }\n",
       "</style>\n",
       "<table border=\"1\" class=\"dataframe\">\n",
       "  <thead>\n",
       "    <tr style=\"text-align: right;\">\n",
       "      <th></th>\n",
       "      <th>California</th>\n",
       "      <th>Texas</th>\n",
       "      <th>New York</th>\n",
       "      <th>Florida</th>\n",
       "      <th>Illinois</th>\n",
       "    </tr>\n",
       "  </thead>\n",
       "  <tbody>\n",
       "    <tr>\n",
       "      <th>area</th>\n",
       "      <td>4.329670e+05</td>\n",
       "      <td>6.956620e+05</td>\n",
       "      <td>1.412970e+05</td>\n",
       "      <td>1.703120e+05</td>\n",
       "      <td>1.499950e+05</td>\n",
       "    </tr>\n",
       "    <tr>\n",
       "      <th>pop</th>\n",
       "      <td>3.833252e+07</td>\n",
       "      <td>2.644819e+07</td>\n",
       "      <td>1.965113e+07</td>\n",
       "      <td>1.955286e+07</td>\n",
       "      <td>1.288214e+07</td>\n",
       "    </tr>\n",
       "    <tr>\n",
       "      <th>density</th>\n",
       "      <td>8.853451e+01</td>\n",
       "      <td>3.801874e+01</td>\n",
       "      <td>1.390767e+02</td>\n",
       "      <td>1.148061e+02</td>\n",
       "      <td>8.588376e+01</td>\n",
       "    </tr>\n",
       "  </tbody>\n",
       "</table>\n",
       "</div>"
      ],
      "text/plain": [
       "           California         Texas      New York       Florida      Illinois\n",
       "area     4.329670e+05  6.956620e+05  1.412970e+05  1.703120e+05  1.499950e+05\n",
       "pop      3.833252e+07  2.644819e+07  1.965113e+07  1.955286e+07  1.288214e+07\n",
       "density  8.853451e+01  3.801874e+01  1.390767e+02  1.148061e+02  8.588376e+01"
      ]
     },
     "execution_count": 67,
     "metadata": {},
     "output_type": "execute_result"
    }
   ],
   "source": [
    "data.T"
   ]
  },
  {
   "cell_type": "markdown",
   "id": "b959e925-c413-48c7-9767-eb473bf8345f",
   "metadata": {},
   "source": [
    "你仍然可以用下面这两种比较原始的方法获取Dataframe的行和列，但并不便捷,而且返回得到的不是一种数据类型："
   ]
  },
  {
   "cell_type": "code",
   "execution_count": 68,
   "id": "14d735cc-819a-486d-bce3-73b9b6511b32",
   "metadata": {},
   "outputs": [
    {
     "data": {
      "text/plain": [
       "array([4.32967000e+05, 3.83325210e+07, 8.85345096e+01])"
      ]
     },
     "execution_count": 68,
     "metadata": {},
     "output_type": "execute_result"
    }
   ],
   "source": [
    "data.values[0] # 获取第1行"
   ]
  },
  {
   "cell_type": "code",
   "execution_count": 69,
   "id": "53fe82dc-493d-4c83-94ad-c3e3ea4fd07f",
   "metadata": {},
   "outputs": [
    {
     "data": {
      "text/plain": [
       "California    432967\n",
       "Texas         695662\n",
       "New York      141297\n",
       "Florida       170312\n",
       "Illinois      149995\n",
       "Name: area, dtype: int64"
      ]
     },
     "execution_count": 69,
     "metadata": {},
     "output_type": "execute_result"
    }
   ],
   "source": [
    "data['area']"
   ]
  },
  {
   "cell_type": "markdown",
   "id": "6d18ceb3-e008-4131-a495-6869fea18d7e",
   "metadata": {},
   "source": [
    "因此，采用索引器获取DataFrame数据是十分必要的——使用这种获取方式能自动保留行列标签："
   ]
  },
  {
   "cell_type": "code",
   "execution_count": 70,
   "id": "741a97d6-f059-4656-b43f-f89940533176",
   "metadata": {},
   "outputs": [
    {
     "data": {
      "text/html": [
       "<div>\n",
       "<style scoped>\n",
       "    .dataframe tbody tr th:only-of-type {\n",
       "        vertical-align: middle;\n",
       "    }\n",
       "\n",
       "    .dataframe tbody tr th {\n",
       "        vertical-align: top;\n",
       "    }\n",
       "\n",
       "    .dataframe thead th {\n",
       "        text-align: right;\n",
       "    }\n",
       "</style>\n",
       "<table border=\"1\" class=\"dataframe\">\n",
       "  <thead>\n",
       "    <tr style=\"text-align: right;\">\n",
       "      <th></th>\n",
       "      <th>area</th>\n",
       "      <th>pop</th>\n",
       "    </tr>\n",
       "  </thead>\n",
       "  <tbody>\n",
       "    <tr>\n",
       "      <th>California</th>\n",
       "      <td>432967</td>\n",
       "      <td>38332521</td>\n",
       "    </tr>\n",
       "    <tr>\n",
       "      <th>Texas</th>\n",
       "      <td>695662</td>\n",
       "      <td>26448193</td>\n",
       "    </tr>\n",
       "    <tr>\n",
       "      <th>New York</th>\n",
       "      <td>141297</td>\n",
       "      <td>19651127</td>\n",
       "    </tr>\n",
       "  </tbody>\n",
       "</table>\n",
       "</div>"
      ],
      "text/plain": [
       "              area       pop\n",
       "California  432967  38332521\n",
       "Texas       695662  26448193\n",
       "New York    141297  19651127"
      ]
     },
     "execution_count": 70,
     "metadata": {},
     "output_type": "execute_result"
    }
   ],
   "source": [
    "# 隐式索引\n",
    "data.iloc[:3,:2]"
   ]
  },
  {
   "cell_type": "code",
   "execution_count": 71,
   "id": "876caf4f-d31f-4239-bd58-f9b317a99ee3",
   "metadata": {},
   "outputs": [
    {
     "data": {
      "text/html": [
       "<div>\n",
       "<style scoped>\n",
       "    .dataframe tbody tr th:only-of-type {\n",
       "        vertical-align: middle;\n",
       "    }\n",
       "\n",
       "    .dataframe tbody tr th {\n",
       "        vertical-align: top;\n",
       "    }\n",
       "\n",
       "    .dataframe thead th {\n",
       "        text-align: right;\n",
       "    }\n",
       "</style>\n",
       "<table border=\"1\" class=\"dataframe\">\n",
       "  <thead>\n",
       "    <tr style=\"text-align: right;\">\n",
       "      <th></th>\n",
       "      <th>area</th>\n",
       "      <th>pop</th>\n",
       "    </tr>\n",
       "  </thead>\n",
       "  <tbody>\n",
       "    <tr>\n",
       "      <th>California</th>\n",
       "      <td>432967</td>\n",
       "      <td>38332521</td>\n",
       "    </tr>\n",
       "    <tr>\n",
       "      <th>Texas</th>\n",
       "      <td>695662</td>\n",
       "      <td>26448193</td>\n",
       "    </tr>\n",
       "    <tr>\n",
       "      <th>New York</th>\n",
       "      <td>141297</td>\n",
       "      <td>19651127</td>\n",
       "    </tr>\n",
       "    <tr>\n",
       "      <th>Florida</th>\n",
       "      <td>170312</td>\n",
       "      <td>19552860</td>\n",
       "    </tr>\n",
       "    <tr>\n",
       "      <th>Illinois</th>\n",
       "      <td>149995</td>\n",
       "      <td>12882135</td>\n",
       "    </tr>\n",
       "  </tbody>\n",
       "</table>\n",
       "</div>"
      ],
      "text/plain": [
       "              area       pop\n",
       "California  432967  38332521\n",
       "Texas       695662  26448193\n",
       "New York    141297  19651127\n",
       "Florida     170312  19552860\n",
       "Illinois    149995  12882135"
      ]
     },
     "execution_count": 71,
     "metadata": {},
     "output_type": "execute_result"
    }
   ],
   "source": [
    "# 显式索引\n",
    "data.loc[:'Illinois',:'pop']"
   ]
  },
  {
   "cell_type": "markdown",
   "id": "19b3f659-dcf7-4075-9621-7911ab5e0d85",
   "metadata": {},
   "source": [
    "注意先是行索引，再是列索引，尤其是在使用ix索引器时："
   ]
  },
  {
   "cell_type": "markdown",
   "id": "733a5d79-63a0-4af4-af7d-13769b3dd6bd",
   "metadata": {},
   "source": [
    "~~data.ix[:3,:'pop']~~ ix方法已经被重构，不再使用"
   ]
  },
  {
   "cell_type": "markdown",
   "id": "08770ce5-65aa-46f3-9384-805ac4396c90",
   "metadata": {},
   "source": []
  },
  {
   "cell_type": "markdown",
   "id": "c8526b62-f13a-4d5c-b379-30f10ec21af6",
   "metadata": {},
   "source": [
    "可以在loc索引器中使用掩码和花哨的索引："
   ]
  },
  {
   "cell_type": "code",
   "execution_count": 72,
   "id": "ba4b533a-17f8-4ac4-bd9a-9dff0513389a",
   "metadata": {},
   "outputs": [
    {
     "data": {
      "text/html": [
       "<div>\n",
       "<style scoped>\n",
       "    .dataframe tbody tr th:only-of-type {\n",
       "        vertical-align: middle;\n",
       "    }\n",
       "\n",
       "    .dataframe tbody tr th {\n",
       "        vertical-align: top;\n",
       "    }\n",
       "\n",
       "    .dataframe thead th {\n",
       "        text-align: right;\n",
       "    }\n",
       "</style>\n",
       "<table border=\"1\" class=\"dataframe\">\n",
       "  <thead>\n",
       "    <tr style=\"text-align: right;\">\n",
       "      <th></th>\n",
       "      <th>pop</th>\n",
       "      <th>density</th>\n",
       "    </tr>\n",
       "  </thead>\n",
       "  <tbody>\n",
       "    <tr>\n",
       "      <th>California</th>\n",
       "      <td>38332521</td>\n",
       "      <td>88.534510</td>\n",
       "    </tr>\n",
       "    <tr>\n",
       "      <th>Texas</th>\n",
       "      <td>26448193</td>\n",
       "      <td>38.018740</td>\n",
       "    </tr>\n",
       "    <tr>\n",
       "      <th>New York</th>\n",
       "      <td>19651127</td>\n",
       "      <td>139.076746</td>\n",
       "    </tr>\n",
       "    <tr>\n",
       "      <th>Florida</th>\n",
       "      <td>19552860</td>\n",
       "      <td>114.806121</td>\n",
       "    </tr>\n",
       "    <tr>\n",
       "      <th>Illinois</th>\n",
       "      <td>12882135</td>\n",
       "      <td>85.883763</td>\n",
       "    </tr>\n",
       "  </tbody>\n",
       "</table>\n",
       "</div>"
      ],
      "text/plain": [
       "                 pop     density\n",
       "California  38332521   88.534510\n",
       "Texas       26448193   38.018740\n",
       "New York    19651127  139.076746\n",
       "Florida     19552860  114.806121\n",
       "Illinois    12882135   85.883763"
      ]
     },
     "execution_count": 72,
     "metadata": {},
     "output_type": "execute_result"
    }
   ],
   "source": [
    "data.loc[data.density>0,['pop','density']]"
   ]
  },
  {
   "cell_type": "markdown",
   "id": "d70ef9a2-04eb-4a6b-8dad-1346c9ab3037",
   "metadata": {},
   "source": [
    "\n",
    "    `data.iloc[data.density>0,0:2]`\n",
    "---------------------------------------------------------------------------\n",
    "ValueError                                Traceback (most recent call last)\n",
    "File F:\\Anaconda3\\Lib\\site-packages\\pandas\\core\\indexing.py:940, in _LocationIndexer._validate_tuple_indexer(self, key)\n",
    "    939 try:\n",
    "--> 940     self._validate_key(k, i)\n",
    "    941 except ValueError as err:\n",
    "\n",
    "File F:\\Anaconda3\\Lib\\site-packages\\pandas\\core\\indexing.py:1545, in _iLocIndexer._validate_key(self, key, axis)\n",
    "   1540         raise NotImplementedError(\n",
    "   1541             \"iLocation based boolean \"\n",
    "   1542             \"indexing on an integer type \"\n",
    "   1543             \"is not available\"\n",
    "   1544         )\n",
    "-> 1545     raise ValueError(\n",
    "   1546         \"iLocation based boolean indexing cannot use \"\n",
    "   1547         \"an indexable as a mask\"\n",
    "   1548     )\n",
    "   1549 return\n",
    "\n",
    "ValueError: iLocation based boolean indexing cannot use an indexable as a mask\n",
    "\n",
    "The above exception was the direct cause of the following exception:\n",
    "\n",
    "ValueError                                Traceback (most recent call last)\n",
    "Cell In[73], line 1\n",
    "----> 1 data.iloc[data.density>0,0:2]\n",
    "\n",
    "File F:\\Anaconda3\\Lib\\site-packages\\pandas\\core\\indexing.py:1147, in _LocationIndexer.__getitem__(self, key)\n",
    "   1145     if self._is_scalar_access(key):\n",
    "   1146         return self.obj._get_value(*key, takeable=self._takeable)\n",
    "-> 1147     return self._getitem_tuple(key)\n",
    "   1148 else:\n",
    "   1149     # we by definition only have the 0th axis\n",
    "   1150     axis = self.axis or 0\n",
    "\n",
    "File F:\\Anaconda3\\Lib\\site-packages\\pandas\\core\\indexing.py:1652, in _iLocIndexer._getitem_tuple(self, tup)\n",
    "   1651 def _getitem_tuple(self, tup: tuple):\n",
    "-> 1652     tup = self._validate_tuple_indexer(tup)\n",
    "   1653     with suppress(IndexingError):\n",
    "   1654         return self._getitem_lowerdim(tup)\n",
    "\n",
    "File F:\\Anaconda3\\Lib\\site-packages\\pandas\\core\\indexing.py:942, in _LocationIndexer._validate_tuple_indexer(self, key)\n",
    "    940         self._validate_key(k, i)\n",
    "    941     except ValueError as err:\n",
    "--> 942         raise ValueError(\n",
    "    943             \"Location based indexing can only have \"\n",
    "    944             f\"[{self._valid_types}] types\"\n",
    "    945         ) from err\n",
    "    946 return key\n",
    "\n",
    "ValueError: Location based indexing can only have [integer, integer slice (START point is INCLUDED, END point is EXCLUDED), listlike of integers, boolean array] types"
   ]
  },
  {
   "cell_type": "markdown",
   "id": "545cd447-df0f-4263-9299-ca095e326551",
   "metadata": {},
   "source": [
    "好吧，看来只有loc索引器支持复杂的索引。"
   ]
  },
  {
   "cell_type": "markdown",
   "id": "3f11fa57-84cc-487e-8073-03b3739cd9d0",
   "metadata": {},
   "source": [
    "任何一种取值方法都可以用于调整数据："
   ]
  },
  {
   "cell_type": "code",
   "execution_count": 73,
   "id": "9445d378-e57b-4c41-b61a-410b4dfb3129",
   "metadata": {},
   "outputs": [
    {
     "data": {
      "text/html": [
       "<div>\n",
       "<style scoped>\n",
       "    .dataframe tbody tr th:only-of-type {\n",
       "        vertical-align: middle;\n",
       "    }\n",
       "\n",
       "    .dataframe tbody tr th {\n",
       "        vertical-align: top;\n",
       "    }\n",
       "\n",
       "    .dataframe thead th {\n",
       "        text-align: right;\n",
       "    }\n",
       "</style>\n",
       "<table border=\"1\" class=\"dataframe\">\n",
       "  <thead>\n",
       "    <tr style=\"text-align: right;\">\n",
       "      <th></th>\n",
       "      <th>area</th>\n",
       "      <th>pop</th>\n",
       "      <th>density</th>\n",
       "    </tr>\n",
       "  </thead>\n",
       "  <tbody>\n",
       "    <tr>\n",
       "      <th>California</th>\n",
       "      <td>432967</td>\n",
       "      <td>38332521</td>\n",
       "      <td>90.000000</td>\n",
       "    </tr>\n",
       "    <tr>\n",
       "      <th>Texas</th>\n",
       "      <td>695662</td>\n",
       "      <td>26448193</td>\n",
       "      <td>38.018740</td>\n",
       "    </tr>\n",
       "    <tr>\n",
       "      <th>New York</th>\n",
       "      <td>141297</td>\n",
       "      <td>19651127</td>\n",
       "      <td>139.076746</td>\n",
       "    </tr>\n",
       "    <tr>\n",
       "      <th>Florida</th>\n",
       "      <td>170312</td>\n",
       "      <td>19552860</td>\n",
       "      <td>114.806121</td>\n",
       "    </tr>\n",
       "    <tr>\n",
       "      <th>Illinois</th>\n",
       "      <td>149995</td>\n",
       "      <td>12882135</td>\n",
       "      <td>85.883763</td>\n",
       "    </tr>\n",
       "  </tbody>\n",
       "</table>\n",
       "</div>"
      ],
      "text/plain": [
       "              area       pop     density\n",
       "California  432967  38332521   90.000000\n",
       "Texas       695662  26448193   38.018740\n",
       "New York    141297  19651127  139.076746\n",
       "Florida     170312  19552860  114.806121\n",
       "Illinois    149995  12882135   85.883763"
      ]
     },
     "execution_count": 73,
     "metadata": {},
     "output_type": "execute_result"
    }
   ],
   "source": [
    "data.iloc[0,2]=90\n",
    "data"
   ]
  },
  {
   "cell_type": "markdown",
   "id": "0670a2c3-d9e7-45a1-b572-7c3e6cf81ba1",
   "metadata": {},
   "source": [
    "也支持多个赋值"
   ]
  },
  {
   "cell_type": "code",
   "execution_count": 74,
   "id": "e0653ea4-54de-482b-9550-5d5309dcf88c",
   "metadata": {},
   "outputs": [
    {
     "data": {
      "text/html": [
       "<div>\n",
       "<style scoped>\n",
       "    .dataframe tbody tr th:only-of-type {\n",
       "        vertical-align: middle;\n",
       "    }\n",
       "\n",
       "    .dataframe tbody tr th {\n",
       "        vertical-align: top;\n",
       "    }\n",
       "\n",
       "    .dataframe thead th {\n",
       "        text-align: right;\n",
       "    }\n",
       "</style>\n",
       "<table border=\"1\" class=\"dataframe\">\n",
       "  <thead>\n",
       "    <tr style=\"text-align: right;\">\n",
       "      <th></th>\n",
       "      <th>area</th>\n",
       "      <th>pop</th>\n",
       "      <th>density</th>\n",
       "    </tr>\n",
       "  </thead>\n",
       "  <tbody>\n",
       "    <tr>\n",
       "      <th>California</th>\n",
       "      <td>432967</td>\n",
       "      <td>38332521</td>\n",
       "      <td>90.000000</td>\n",
       "    </tr>\n",
       "    <tr>\n",
       "      <th>Texas</th>\n",
       "      <td>695662</td>\n",
       "      <td>26448193</td>\n",
       "      <td>90.000000</td>\n",
       "    </tr>\n",
       "    <tr>\n",
       "      <th>New York</th>\n",
       "      <td>141297</td>\n",
       "      <td>19651127</td>\n",
       "      <td>139.076746</td>\n",
       "    </tr>\n",
       "    <tr>\n",
       "      <th>Florida</th>\n",
       "      <td>170312</td>\n",
       "      <td>19552860</td>\n",
       "      <td>114.806121</td>\n",
       "    </tr>\n",
       "    <tr>\n",
       "      <th>Illinois</th>\n",
       "      <td>149995</td>\n",
       "      <td>12882135</td>\n",
       "      <td>85.883763</td>\n",
       "    </tr>\n",
       "  </tbody>\n",
       "</table>\n",
       "</div>"
      ],
      "text/plain": [
       "              area       pop     density\n",
       "California  432967  38332521   90.000000\n",
       "Texas       695662  26448193   90.000000\n",
       "New York    141297  19651127  139.076746\n",
       "Florida     170312  19552860  114.806121\n",
       "Illinois    149995  12882135   85.883763"
      ]
     },
     "execution_count": 74,
     "metadata": {},
     "output_type": "execute_result"
    }
   ],
   "source": [
    "data.iloc[0:2,2]=90\n",
    "data"
   ]
  },
  {
   "cell_type": "markdown",
   "id": "8b9b99d5-b32f-4b2c-83ae-d834e7f341dc",
   "metadata": {},
   "source": [
    "### 3. 其他的取值方法\n",
    "还有一些取值方法和前面介绍过的方法不太一样，虽然看着有些奇怪，但是在实践中还是很好用的。首先，如果对单个标签**取值**就选择列，面对多个标签用**切片**就选择行："
   ]
  },
  {
   "cell_type": "code",
   "execution_count": 75,
   "id": "040cf16d-b411-473f-8173-dae3f2a05076",
   "metadata": {},
   "outputs": [
    {
     "data": {
      "text/html": [
       "<div>\n",
       "<style scoped>\n",
       "    .dataframe tbody tr th:only-of-type {\n",
       "        vertical-align: middle;\n",
       "    }\n",
       "\n",
       "    .dataframe tbody tr th {\n",
       "        vertical-align: top;\n",
       "    }\n",
       "\n",
       "    .dataframe thead th {\n",
       "        text-align: right;\n",
       "    }\n",
       "</style>\n",
       "<table border=\"1\" class=\"dataframe\">\n",
       "  <thead>\n",
       "    <tr style=\"text-align: right;\">\n",
       "      <th></th>\n",
       "      <th>area</th>\n",
       "      <th>pop</th>\n",
       "      <th>density</th>\n",
       "    </tr>\n",
       "  </thead>\n",
       "  <tbody>\n",
       "    <tr>\n",
       "      <th>Florida</th>\n",
       "      <td>170312</td>\n",
       "      <td>19552860</td>\n",
       "      <td>114.806121</td>\n",
       "    </tr>\n",
       "    <tr>\n",
       "      <th>Illinois</th>\n",
       "      <td>149995</td>\n",
       "      <td>12882135</td>\n",
       "      <td>85.883763</td>\n",
       "    </tr>\n",
       "  </tbody>\n",
       "</table>\n",
       "</div>"
      ],
      "text/plain": [
       "            area       pop     density\n",
       "Florida   170312  19552860  114.806121\n",
       "Illinois  149995  12882135   85.883763"
      ]
     },
     "execution_count": 75,
     "metadata": {},
     "output_type": "execute_result"
    }
   ],
   "source": [
    "data['Florida':'Illinois']"
   ]
  },
  {
   "cell_type": "code",
   "execution_count": 76,
   "id": "18b615d2-ebcd-4c0d-9154-7efe09d2fa26",
   "metadata": {},
   "outputs": [
    {
     "data": {
      "text/html": [
       "<div>\n",
       "<style scoped>\n",
       "    .dataframe tbody tr th:only-of-type {\n",
       "        vertical-align: middle;\n",
       "    }\n",
       "\n",
       "    .dataframe tbody tr th {\n",
       "        vertical-align: top;\n",
       "    }\n",
       "\n",
       "    .dataframe thead th {\n",
       "        text-align: right;\n",
       "    }\n",
       "</style>\n",
       "<table border=\"1\" class=\"dataframe\">\n",
       "  <thead>\n",
       "    <tr style=\"text-align: right;\">\n",
       "      <th></th>\n",
       "      <th>area</th>\n",
       "      <th>pop</th>\n",
       "    </tr>\n",
       "  </thead>\n",
       "  <tbody>\n",
       "    <tr>\n",
       "      <th>California</th>\n",
       "      <td>432967</td>\n",
       "      <td>38332521</td>\n",
       "    </tr>\n",
       "    <tr>\n",
       "      <th>Texas</th>\n",
       "      <td>695662</td>\n",
       "      <td>26448193</td>\n",
       "    </tr>\n",
       "    <tr>\n",
       "      <th>New York</th>\n",
       "      <td>141297</td>\n",
       "      <td>19651127</td>\n",
       "    </tr>\n",
       "    <tr>\n",
       "      <th>Florida</th>\n",
       "      <td>170312</td>\n",
       "      <td>19552860</td>\n",
       "    </tr>\n",
       "    <tr>\n",
       "      <th>Illinois</th>\n",
       "      <td>149995</td>\n",
       "      <td>12882135</td>\n",
       "    </tr>\n",
       "  </tbody>\n",
       "</table>\n",
       "</div>"
      ],
      "text/plain": [
       "              area       pop\n",
       "California  432967  38332521\n",
       "Texas       695662  26448193\n",
       "New York    141297  19651127\n",
       "Florida     170312  19552860\n",
       "Illinois    149995  12882135"
      ]
     },
     "execution_count": 76,
     "metadata": {},
     "output_type": "execute_result"
    }
   ],
   "source": [
    "data[['area','pop']]"
   ]
  },
  {
   "cell_type": "markdown",
   "id": "7a2936a5-028a-4358-b78f-26aaa8c2ca32",
   "metadata": {},
   "source": [
    "切片也可以不用索引值，直接用行数来实现：\n"
   ]
  },
  {
   "cell_type": "code",
   "execution_count": 77,
   "id": "033d80c9-c63c-490b-bfca-5e7429a38213",
   "metadata": {},
   "outputs": [
    {
     "data": {
      "text/html": [
       "<div>\n",
       "<style scoped>\n",
       "    .dataframe tbody tr th:only-of-type {\n",
       "        vertical-align: middle;\n",
       "    }\n",
       "\n",
       "    .dataframe tbody tr th {\n",
       "        vertical-align: top;\n",
       "    }\n",
       "\n",
       "    .dataframe thead th {\n",
       "        text-align: right;\n",
       "    }\n",
       "</style>\n",
       "<table border=\"1\" class=\"dataframe\">\n",
       "  <thead>\n",
       "    <tr style=\"text-align: right;\">\n",
       "      <th></th>\n",
       "      <th>area</th>\n",
       "      <th>pop</th>\n",
       "      <th>density</th>\n",
       "    </tr>\n",
       "  </thead>\n",
       "  <tbody>\n",
       "    <tr>\n",
       "      <th>Texas</th>\n",
       "      <td>695662</td>\n",
       "      <td>26448193</td>\n",
       "      <td>90.000000</td>\n",
       "    </tr>\n",
       "    <tr>\n",
       "      <th>New York</th>\n",
       "      <td>141297</td>\n",
       "      <td>19651127</td>\n",
       "      <td>139.076746</td>\n",
       "    </tr>\n",
       "  </tbody>\n",
       "</table>\n",
       "</div>"
      ],
      "text/plain": [
       "            area       pop     density\n",
       "Texas     695662  26448193   90.000000\n",
       "New York  141297  19651127  139.076746"
      ]
     },
     "execution_count": 77,
     "metadata": {},
     "output_type": "execute_result"
    }
   ],
   "source": [
    "data[1:3]"
   ]
  },
  {
   "cell_type": "markdown",
   "id": "29ddcdaa-c7e2-40ac-82e6-0acf3d26ead3",
   "metadata": {},
   "source": [
    "掩码操作可以直接对每一行过滤，不需要使用loc索引器："
   ]
  },
  {
   "cell_type": "code",
   "execution_count": 78,
   "id": "5a76fd04-8b2a-49b4-9a49-98154aafc347",
   "metadata": {},
   "outputs": [
    {
     "data": {
      "text/html": [
       "<div>\n",
       "<style scoped>\n",
       "    .dataframe tbody tr th:only-of-type {\n",
       "        vertical-align: middle;\n",
       "    }\n",
       "\n",
       "    .dataframe tbody tr th {\n",
       "        vertical-align: top;\n",
       "    }\n",
       "\n",
       "    .dataframe thead th {\n",
       "        text-align: right;\n",
       "    }\n",
       "</style>\n",
       "<table border=\"1\" class=\"dataframe\">\n",
       "  <thead>\n",
       "    <tr style=\"text-align: right;\">\n",
       "      <th></th>\n",
       "      <th>area</th>\n",
       "      <th>pop</th>\n",
       "      <th>density</th>\n",
       "    </tr>\n",
       "  </thead>\n",
       "  <tbody>\n",
       "    <tr>\n",
       "      <th>New York</th>\n",
       "      <td>141297</td>\n",
       "      <td>19651127</td>\n",
       "      <td>139.076746</td>\n",
       "    </tr>\n",
       "    <tr>\n",
       "      <th>Florida</th>\n",
       "      <td>170312</td>\n",
       "      <td>19552860</td>\n",
       "      <td>114.806121</td>\n",
       "    </tr>\n",
       "  </tbody>\n",
       "</table>\n",
       "</div>"
      ],
      "text/plain": [
       "            area       pop     density\n",
       "New York  141297  19651127  139.076746\n",
       "Florida   170312  19552860  114.806121"
      ]
     },
     "execution_count": 78,
     "metadata": {},
     "output_type": "execute_result"
    }
   ],
   "source": [
    "data[data.density>100]"
   ]
  },
  {
   "cell_type": "markdown",
   "id": "630864e7-f073-4ec2-94bd-0ba64ba69e72",
   "metadata": {},
   "source": [
    "# 3.4 Pandas数值运算方法\n",
    "Pandas继承了Numpy的核心功能，可以对每个元素进行快速运算。但是对于一元运算（像函数和三角函数），这些通用函数将在输出结果中**保留索引和列标签**，而在传递通用函数时会自动**对齐索引**进行计算。这就意味着，**保存数据内容**与**组合不同来源的数据**——两处在NumPy数组中都容易出错的地方——变成了Pandas的杀手锏。"
   ]
  },
  {
   "cell_type": "markdown",
   "id": "d3f679cd-7087-46df-8a64-51b123b77c67",
   "metadata": {},
   "source": [
    "## 3.4.1 通用函数：保留索引"
   ]
  },
  {
   "cell_type": "markdown",
   "id": "faab1f32-5863-4850-87da-7c7a8d71db2b",
   "metadata": {},
   "source": [
    "由于Pandas是建立在NumPy基础上的，所以NumPy的通用函数同样适用于Pandas的Series和DataFrame对象，让我们用一个简单的Series和DataFrame来演示："
   ]
  },
  {
   "cell_type": "code",
   "execution_count": 79,
   "id": "807803ec-cd7e-40ed-912c-36a1862108c2",
   "metadata": {},
   "outputs": [],
   "source": [
    "import pandas as pd\n",
    "import numpy as np"
   ]
  },
  {
   "cell_type": "code",
   "execution_count": 80,
   "id": "7e9ae9f4-3ec1-4ec4-8f39-06d3cc0f1b07",
   "metadata": {},
   "outputs": [
    {
     "data": {
      "text/plain": [
       "0    6\n",
       "1    3\n",
       "2    7\n",
       "3    4\n",
       "dtype: int32"
      ]
     },
     "execution_count": 80,
     "metadata": {},
     "output_type": "execute_result"
    }
   ],
   "source": [
    "rng = np.random.RandomState(42)\n",
    "ser = pd.Series(rng.randint(0,10,4))\n",
    "ser"
   ]
  },
  {
   "cell_type": "code",
   "execution_count": 81,
   "id": "5e1db803-94a0-471d-a08f-84915b287707",
   "metadata": {},
   "outputs": [
    {
     "data": {
      "text/html": [
       "<div>\n",
       "<style scoped>\n",
       "    .dataframe tbody tr th:only-of-type {\n",
       "        vertical-align: middle;\n",
       "    }\n",
       "\n",
       "    .dataframe tbody tr th {\n",
       "        vertical-align: top;\n",
       "    }\n",
       "\n",
       "    .dataframe thead th {\n",
       "        text-align: right;\n",
       "    }\n",
       "</style>\n",
       "<table border=\"1\" class=\"dataframe\">\n",
       "  <thead>\n",
       "    <tr style=\"text-align: right;\">\n",
       "      <th></th>\n",
       "      <th>A</th>\n",
       "      <th>B</th>\n",
       "      <th>C</th>\n",
       "      <th>D</th>\n",
       "    </tr>\n",
       "  </thead>\n",
       "  <tbody>\n",
       "    <tr>\n",
       "      <th>0</th>\n",
       "      <td>6</td>\n",
       "      <td>9</td>\n",
       "      <td>2</td>\n",
       "      <td>6</td>\n",
       "    </tr>\n",
       "    <tr>\n",
       "      <th>1</th>\n",
       "      <td>7</td>\n",
       "      <td>4</td>\n",
       "      <td>3</td>\n",
       "      <td>7</td>\n",
       "    </tr>\n",
       "    <tr>\n",
       "      <th>2</th>\n",
       "      <td>7</td>\n",
       "      <td>2</td>\n",
       "      <td>5</td>\n",
       "      <td>4</td>\n",
       "    </tr>\n",
       "  </tbody>\n",
       "</table>\n",
       "</div>"
      ],
      "text/plain": [
       "   A  B  C  D\n",
       "0  6  9  2  6\n",
       "1  7  4  3  7\n",
       "2  7  2  5  4"
      ]
     },
     "execution_count": 81,
     "metadata": {},
     "output_type": "execute_result"
    }
   ],
   "source": [
    "df = pd.DataFrame(rng.randint(0,10,(3,4)),\n",
    "                 columns=['A','B','C','D'])\n",
    "df"
   ]
  },
  {
   "cell_type": "markdown",
   "id": "cdbbe85a-31c1-438f-a61c-fd87bfaca681",
   "metadata": {},
   "source": [
    "对这两个对象中的任何一个对象使用NumPy通用函数，生成的结果是另一个保留索引值的Pandas对象："
   ]
  },
  {
   "cell_type": "code",
   "execution_count": 82,
   "id": "44ffb82d-8007-4053-93cb-df928cffb758",
   "metadata": {},
   "outputs": [
    {
     "data": {
      "text/plain": [
       "0     403.428793\n",
       "1      20.085537\n",
       "2    1096.633158\n",
       "3      54.598150\n",
       "dtype: float64"
      ]
     },
     "execution_count": 82,
     "metadata": {},
     "output_type": "execute_result"
    }
   ],
   "source": [
    "np.exp(ser)"
   ]
  },
  {
   "cell_type": "markdown",
   "id": "2fa7477e-e93f-4b86-b1bc-5be0c960d075",
   "metadata": {},
   "source": [
    "或者，再做一个比较复杂的运算："
   ]
  },
  {
   "cell_type": "code",
   "execution_count": 83,
   "id": "b10420d6-63c5-42bb-bd19-d8fc03afd5be",
   "metadata": {},
   "outputs": [
    {
     "data": {
      "text/html": [
       "<div>\n",
       "<style scoped>\n",
       "    .dataframe tbody tr th:only-of-type {\n",
       "        vertical-align: middle;\n",
       "    }\n",
       "\n",
       "    .dataframe tbody tr th {\n",
       "        vertical-align: top;\n",
       "    }\n",
       "\n",
       "    .dataframe thead th {\n",
       "        text-align: right;\n",
       "    }\n",
       "</style>\n",
       "<table border=\"1\" class=\"dataframe\">\n",
       "  <thead>\n",
       "    <tr style=\"text-align: right;\">\n",
       "      <th></th>\n",
       "      <th>A</th>\n",
       "      <th>B</th>\n",
       "      <th>C</th>\n",
       "      <th>D</th>\n",
       "    </tr>\n",
       "  </thead>\n",
       "  <tbody>\n",
       "    <tr>\n",
       "      <th>0</th>\n",
       "      <td>-1.000000</td>\n",
       "      <td>7.071068e-01</td>\n",
       "      <td>1.000000</td>\n",
       "      <td>-1.000000e+00</td>\n",
       "    </tr>\n",
       "    <tr>\n",
       "      <th>1</th>\n",
       "      <td>-0.707107</td>\n",
       "      <td>1.224647e-16</td>\n",
       "      <td>0.707107</td>\n",
       "      <td>-7.071068e-01</td>\n",
       "    </tr>\n",
       "    <tr>\n",
       "      <th>2</th>\n",
       "      <td>-0.707107</td>\n",
       "      <td>1.000000e+00</td>\n",
       "      <td>-0.707107</td>\n",
       "      <td>1.224647e-16</td>\n",
       "    </tr>\n",
       "  </tbody>\n",
       "</table>\n",
       "</div>"
      ],
      "text/plain": [
       "          A             B         C             D\n",
       "0 -1.000000  7.071068e-01  1.000000 -1.000000e+00\n",
       "1 -0.707107  1.224647e-16  0.707107 -7.071068e-01\n",
       "2 -0.707107  1.000000e+00 -0.707107  1.224647e-16"
      ]
     },
     "execution_count": 83,
     "metadata": {},
     "output_type": "execute_result"
    }
   ],
   "source": [
    "np.sin(df*np.pi/4)"
   ]
  },
  {
   "cell_type": "markdown",
   "id": "90e575d4-1278-488d-915d-df4e022dd08a",
   "metadata": {},
   "source": [
    "## 3.4.2 通用函数：索引对齐\n",
    "当你采用二元通用函数进行计算时，Pandas会在计算过程红自动对齐索引。当你处理不完整的数据时，这一点非常方便，我们将在后面的示例中看到。"
   ]
  },
  {
   "cell_type": "markdown",
   "id": "4c174bcc-9da8-40e4-ae1c-cb053fd4e160",
   "metadata": {},
   "source": [
    "### 1. Series索引对齐\n",
    "来看一个例子，假如你要整合两个数据源的数据，其中一个是美国面积最大的三个州的**面积数据**，另一个是美国人口最多的三个州的**人口数据**："
   ]
  },
  {
   "cell_type": "code",
   "execution_count": 84,
   "id": "3fd9a623-62a8-4adb-939a-9a08adf0c5f0",
   "metadata": {},
   "outputs": [],
   "source": [
    "area = pd.Series({'Alaska':1723337,'Texas':695662,'California':423967},name='area')\n",
    "population = pd.Series({'California':38332521,'Texas':26448193,'New York':19651127},name='population')"
   ]
  },
  {
   "cell_type": "code",
   "execution_count": 85,
   "id": "3a4cd8f9-bea5-4401-931c-3fb89a181fe4",
   "metadata": {},
   "outputs": [
    {
     "data": {
      "text/plain": [
       "Alaska              NaN\n",
       "California    90.413926\n",
       "New York            NaN\n",
       "Texas         38.018740\n",
       "dtype: float64"
      ]
     },
     "execution_count": 85,
     "metadata": {},
     "output_type": "execute_result"
    }
   ],
   "source": [
    "population/area"
   ]
  },
  {
   "cell_type": "markdown",
   "id": "6d9efaf8-f72c-4204-8505-fde4b4a1a85d",
   "metadata": {},
   "source": [
    "结果数组的索引是两个输入数组索引的**并集。**\n",
    "\n",
    "对于缺失位置的数据，Pandas会用NaN填充，表示**此处没有数据**"
   ]
  },
  {
   "cell_type": "code",
   "execution_count": 86,
   "id": "63a2d783-e2dc-4ea6-8fe8-690dc1fa7c4d",
   "metadata": {},
   "outputs": [
    {
     "data": {
      "text/plain": [
       "0    NaN\n",
       "1    5.0\n",
       "2    9.0\n",
       "3    NaN\n",
       "dtype: float64"
      ]
     },
     "execution_count": 86,
     "metadata": {},
     "output_type": "execute_result"
    }
   ],
   "source": [
    "A = pd.Series([2,4,6], index=[0,1,2])\n",
    "B = pd.Series([1,3,5], index=[1,2,3])\n",
    "A+B"
   ]
  },
  {
   "cell_type": "markdown",
   "id": "89a6e22b-aa8f-435f-8c27-8e3f3bf57124",
   "metadata": {},
   "source": [
    "可以用适当的对象方法代替运算符，也可以设置参数自定义A或者B缺失的数据："
   ]
  },
  {
   "cell_type": "code",
   "execution_count": 87,
   "id": "12ae2594-d2e8-4ce6-b6c0-6a6d2d5b878b",
   "metadata": {},
   "outputs": [
    {
     "data": {
      "text/plain": [
       "0    2.0\n",
       "1    5.0\n",
       "2    9.0\n",
       "3    5.0\n",
       "dtype: float64"
      ]
     },
     "execution_count": 87,
     "metadata": {},
     "output_type": "execute_result"
    }
   ],
   "source": [
    "A.add(B,fill_value=0)"
   ]
  },
  {
   "cell_type": "markdown",
   "id": "13fd1650-bb79-45d1-bc3b-db61422f3152",
   "metadata": {},
   "source": [
    "### 2. DataFrame索引对齐\n",
    "在计算两个DataFrame时，类似的索引对齐规则也会同样出现在**共同**列中（并集）："
   ]
  },
  {
   "cell_type": "code",
   "execution_count": 88,
   "id": "5eba317b-a41f-48b5-86de-32c115a35386",
   "metadata": {},
   "outputs": [
    {
     "data": {
      "text/html": [
       "<div>\n",
       "<style scoped>\n",
       "    .dataframe tbody tr th:only-of-type {\n",
       "        vertical-align: middle;\n",
       "    }\n",
       "\n",
       "    .dataframe tbody tr th {\n",
       "        vertical-align: top;\n",
       "    }\n",
       "\n",
       "    .dataframe thead th {\n",
       "        text-align: right;\n",
       "    }\n",
       "</style>\n",
       "<table border=\"1\" class=\"dataframe\">\n",
       "  <thead>\n",
       "    <tr style=\"text-align: right;\">\n",
       "      <th></th>\n",
       "      <th>A</th>\n",
       "      <th>B</th>\n",
       "    </tr>\n",
       "  </thead>\n",
       "  <tbody>\n",
       "    <tr>\n",
       "      <th>0</th>\n",
       "      <td>1</td>\n",
       "      <td>11</td>\n",
       "    </tr>\n",
       "    <tr>\n",
       "      <th>1</th>\n",
       "      <td>5</td>\n",
       "      <td>1</td>\n",
       "    </tr>\n",
       "  </tbody>\n",
       "</table>\n",
       "</div>"
      ],
      "text/plain": [
       "   A   B\n",
       "0  1  11\n",
       "1  5   1"
      ]
     },
     "execution_count": 88,
     "metadata": {},
     "output_type": "execute_result"
    }
   ],
   "source": [
    "A=pd.DataFrame(rng.randint(0,20,(2,2)),\n",
    "              columns=list('AB'))\n",
    "A"
   ]
  },
  {
   "cell_type": "code",
   "execution_count": 89,
   "id": "ebe1d534-3b05-42a4-9290-92a9040eacf4",
   "metadata": {},
   "outputs": [
    {
     "data": {
      "text/html": [
       "<div>\n",
       "<style scoped>\n",
       "    .dataframe tbody tr th:only-of-type {\n",
       "        vertical-align: middle;\n",
       "    }\n",
       "\n",
       "    .dataframe tbody tr th {\n",
       "        vertical-align: top;\n",
       "    }\n",
       "\n",
       "    .dataframe thead th {\n",
       "        text-align: right;\n",
       "    }\n",
       "</style>\n",
       "<table border=\"1\" class=\"dataframe\">\n",
       "  <thead>\n",
       "    <tr style=\"text-align: right;\">\n",
       "      <th></th>\n",
       "      <th>B</th>\n",
       "      <th>A</th>\n",
       "      <th>C</th>\n",
       "    </tr>\n",
       "  </thead>\n",
       "  <tbody>\n",
       "    <tr>\n",
       "      <th>0</th>\n",
       "      <td>4</td>\n",
       "      <td>0</td>\n",
       "      <td>9</td>\n",
       "    </tr>\n",
       "    <tr>\n",
       "      <th>1</th>\n",
       "      <td>5</td>\n",
       "      <td>8</td>\n",
       "      <td>0</td>\n",
       "    </tr>\n",
       "    <tr>\n",
       "      <th>2</th>\n",
       "      <td>9</td>\n",
       "      <td>2</td>\n",
       "      <td>6</td>\n",
       "    </tr>\n",
       "  </tbody>\n",
       "</table>\n",
       "</div>"
      ],
      "text/plain": [
       "   B  A  C\n",
       "0  4  0  9\n",
       "1  5  8  0\n",
       "2  9  2  6"
      ]
     },
     "execution_count": 89,
     "metadata": {},
     "output_type": "execute_result"
    }
   ],
   "source": [
    "B = pd.DataFrame(rng.randint(0,10,(3,3) ),\n",
    "                columns=list('BAC'))\n",
    "B"
   ]
  },
  {
   "cell_type": "code",
   "execution_count": 90,
   "id": "9aa825ff-f8d1-444c-8dfb-2a36a37e9e01",
   "metadata": {},
   "outputs": [
    {
     "data": {
      "text/html": [
       "<div>\n",
       "<style scoped>\n",
       "    .dataframe tbody tr th:only-of-type {\n",
       "        vertical-align: middle;\n",
       "    }\n",
       "\n",
       "    .dataframe tbody tr th {\n",
       "        vertical-align: top;\n",
       "    }\n",
       "\n",
       "    .dataframe thead th {\n",
       "        text-align: right;\n",
       "    }\n",
       "</style>\n",
       "<table border=\"1\" class=\"dataframe\">\n",
       "  <thead>\n",
       "    <tr style=\"text-align: right;\">\n",
       "      <th></th>\n",
       "      <th>A</th>\n",
       "      <th>B</th>\n",
       "      <th>C</th>\n",
       "    </tr>\n",
       "  </thead>\n",
       "  <tbody>\n",
       "    <tr>\n",
       "      <th>0</th>\n",
       "      <td>1.0</td>\n",
       "      <td>15.0</td>\n",
       "      <td>NaN</td>\n",
       "    </tr>\n",
       "    <tr>\n",
       "      <th>1</th>\n",
       "      <td>13.0</td>\n",
       "      <td>6.0</td>\n",
       "      <td>NaN</td>\n",
       "    </tr>\n",
       "    <tr>\n",
       "      <th>2</th>\n",
       "      <td>NaN</td>\n",
       "      <td>NaN</td>\n",
       "      <td>NaN</td>\n",
       "    </tr>\n",
       "  </tbody>\n",
       "</table>\n",
       "</div>"
      ],
      "text/plain": [
       "      A     B   C\n",
       "0   1.0  15.0 NaN\n",
       "1  13.0   6.0 NaN\n",
       "2   NaN   NaN NaN"
      ]
     },
     "execution_count": 90,
     "metadata": {},
     "output_type": "execute_result"
    }
   ],
   "source": [
    "A+B"
   ]
  },
  {
   "cell_type": "markdown",
   "id": "e080f370-72db-4d16-bf2d-335b067a4a78",
   "metadata": {},
   "source": [
    "你会发现，两个对象的行索引可以是不同顺序的，结果的索引会自动按照顺序排列。在Series中，我们可以通过运算符方法的fill_value参数自定义缺省值。这里，我们\n",
    "将用A数组的均值来填充缺失值："
   ]
  },
  {
   "cell_type": "code",
   "execution_count": 91,
   "id": "de48e83b-cf9c-4928-8add-c748a67c79df",
   "metadata": {},
   "outputs": [
    {
     "data": {
      "text/plain": [
       "0  A     1\n",
       "   B    11\n",
       "1  A     5\n",
       "   B     1\n",
       "dtype: int32"
      ]
     },
     "execution_count": 91,
     "metadata": {},
     "output_type": "execute_result"
    }
   ],
   "source": [
    "# 计算A的均值，stack负责把A浓缩成一维数组\n",
    "A.stack()"
   ]
  },
  {
   "cell_type": "code",
   "execution_count": 94,
   "id": "204bb768-7761-4972-ba05-741aeb4044a0",
   "metadata": {},
   "outputs": [
    {
     "data": {
      "text/plain": [
       "4.5"
      ]
     },
     "execution_count": 94,
     "metadata": {},
     "output_type": "execute_result"
    }
   ],
   "source": [
    "fill = A.stack().mean()\n",
    "fill"
   ]
  },
  {
   "cell_type": "code",
   "execution_count": 95,
   "id": "19ffa01c-1926-4ee9-94dd-8f1d3dd4534d",
   "metadata": {},
   "outputs": [
    {
     "data": {
      "text/html": [
       "<div>\n",
       "<style scoped>\n",
       "    .dataframe tbody tr th:only-of-type {\n",
       "        vertical-align: middle;\n",
       "    }\n",
       "\n",
       "    .dataframe tbody tr th {\n",
       "        vertical-align: top;\n",
       "    }\n",
       "\n",
       "    .dataframe thead th {\n",
       "        text-align: right;\n",
       "    }\n",
       "</style>\n",
       "<table border=\"1\" class=\"dataframe\">\n",
       "  <thead>\n",
       "    <tr style=\"text-align: right;\">\n",
       "      <th></th>\n",
       "      <th>A</th>\n",
       "      <th>B</th>\n",
       "      <th>C</th>\n",
       "    </tr>\n",
       "  </thead>\n",
       "  <tbody>\n",
       "    <tr>\n",
       "      <th>0</th>\n",
       "      <td>1.0</td>\n",
       "      <td>15.0</td>\n",
       "      <td>13.5</td>\n",
       "    </tr>\n",
       "    <tr>\n",
       "      <th>1</th>\n",
       "      <td>13.0</td>\n",
       "      <td>6.0</td>\n",
       "      <td>4.5</td>\n",
       "    </tr>\n",
       "    <tr>\n",
       "      <th>2</th>\n",
       "      <td>6.5</td>\n",
       "      <td>13.5</td>\n",
       "      <td>10.5</td>\n",
       "    </tr>\n",
       "  </tbody>\n",
       "</table>\n",
       "</div>"
      ],
      "text/plain": [
       "      A     B     C\n",
       "0   1.0  15.0  13.5\n",
       "1  13.0   6.0   4.5\n",
       "2   6.5  13.5  10.5"
      ]
     },
     "execution_count": 95,
     "metadata": {},
     "output_type": "execute_result"
    }
   ],
   "source": [
    "A.add(B,fill_value=fill)"
   ]
  },
  {
   "cell_type": "markdown",
   "id": "582dea8b-71ec-4d73-88cf-b3f8e22c6ab4",
   "metadata": {},
   "source": [
    "下表列举了Python运算符与Pandas方法之间的对应关系。\n",
    "|Python运算符|Pandas方法|\n",
    "|:---|:----|\n",
    "|+|add()|\n",
    "|-|sub(), subtract()|\n",
    "|*|mul(), multiply()|\n",
    "|/|truediv(), div(), divide()|\n",
    "|//|floordiv()|\n",
    "|%|mod()|\n",
    "|**|pow()|"
   ]
  },
  {
   "cell_type": "markdown",
   "id": "5917c5fa-b504-4662-9927-f992f67090e5",
   "metadata": {},
   "source": [
    "## 3.4.3 通用函数：DataFrame与Series的运算\n",
    "我们经常需要对一个DataFrame和一个Series进行计算，行列对齐方式与NumPy数组中二维数组和一维数组的运算规则是一样的。"
   ]
  },
  {
   "cell_type": "code",
   "execution_count": 96,
   "id": "6e4bed7f-735a-461c-9e8d-bc006c6c14cb",
   "metadata": {},
   "outputs": [
    {
     "data": {
      "text/plain": [
       "array([[3, 8, 2, 4],\n",
       "       [2, 6, 4, 8],\n",
       "       [6, 1, 3, 8]])"
      ]
     },
     "execution_count": 96,
     "metadata": {},
     "output_type": "execute_result"
    }
   ],
   "source": [
    "A = rng.randint(10,size=(3,4))\n",
    "A"
   ]
  },
  {
   "cell_type": "code",
   "execution_count": 97,
   "id": "e60cbdd5-5d78-49bc-80a1-cf8a7c3a93c4",
   "metadata": {},
   "outputs": [
    {
     "data": {
      "text/plain": [
       "array([[ 0,  0,  0,  0],\n",
       "       [-1, -2,  2,  4],\n",
       "       [ 3, -7,  1,  4]])"
      ]
     },
     "execution_count": 97,
     "metadata": {},
     "output_type": "execute_result"
    }
   ],
   "source": [
    "A-A[0]"
   ]
  },
  {
   "cell_type": "markdown",
   "id": "d959be95-ac69-42de-bf65-5e3d0fb256d5",
   "metadata": {},
   "source": [
    "和Numpy的规则类似。这里是逐行计算的。"
   ]
  },
  {
   "cell_type": "code",
   "execution_count": 100,
   "id": "0e5709bb-9b6f-4be8-9e40-0a8f2c203bf0",
   "metadata": {},
   "outputs": [
    {
     "data": {
      "text/html": [
       "<div>\n",
       "<style scoped>\n",
       "    .dataframe tbody tr th:only-of-type {\n",
       "        vertical-align: middle;\n",
       "    }\n",
       "\n",
       "    .dataframe tbody tr th {\n",
       "        vertical-align: top;\n",
       "    }\n",
       "\n",
       "    .dataframe thead th {\n",
       "        text-align: right;\n",
       "    }\n",
       "</style>\n",
       "<table border=\"1\" class=\"dataframe\">\n",
       "  <thead>\n",
       "    <tr style=\"text-align: right;\">\n",
       "      <th></th>\n",
       "      <th>Q</th>\n",
       "      <th>R</th>\n",
       "      <th>S</th>\n",
       "      <th>T</th>\n",
       "    </tr>\n",
       "  </thead>\n",
       "  <tbody>\n",
       "    <tr>\n",
       "      <th>0</th>\n",
       "      <td>3</td>\n",
       "      <td>8</td>\n",
       "      <td>2</td>\n",
       "      <td>4</td>\n",
       "    </tr>\n",
       "    <tr>\n",
       "      <th>1</th>\n",
       "      <td>2</td>\n",
       "      <td>6</td>\n",
       "      <td>4</td>\n",
       "      <td>8</td>\n",
       "    </tr>\n",
       "    <tr>\n",
       "      <th>2</th>\n",
       "      <td>6</td>\n",
       "      <td>1</td>\n",
       "      <td>3</td>\n",
       "      <td>8</td>\n",
       "    </tr>\n",
       "  </tbody>\n",
       "</table>\n",
       "</div>"
      ],
      "text/plain": [
       "   Q  R  S  T\n",
       "0  3  8  2  4\n",
       "1  2  6  4  8\n",
       "2  6  1  3  8"
      ]
     },
     "execution_count": 100,
     "metadata": {},
     "output_type": "execute_result"
    }
   ],
   "source": [
    "df = pd.DataFrame(A,columns=list('QRST'))\n",
    "df"
   ]
  },
  {
   "cell_type": "code",
   "execution_count": 101,
   "id": "80485596-87ba-4225-a9b1-81396a002204",
   "metadata": {},
   "outputs": [
    {
     "data": {
      "text/html": [
       "<div>\n",
       "<style scoped>\n",
       "    .dataframe tbody tr th:only-of-type {\n",
       "        vertical-align: middle;\n",
       "    }\n",
       "\n",
       "    .dataframe tbody tr th {\n",
       "        vertical-align: top;\n",
       "    }\n",
       "\n",
       "    .dataframe thead th {\n",
       "        text-align: right;\n",
       "    }\n",
       "</style>\n",
       "<table border=\"1\" class=\"dataframe\">\n",
       "  <thead>\n",
       "    <tr style=\"text-align: right;\">\n",
       "      <th></th>\n",
       "      <th>Q</th>\n",
       "      <th>R</th>\n",
       "      <th>S</th>\n",
       "      <th>T</th>\n",
       "    </tr>\n",
       "  </thead>\n",
       "  <tbody>\n",
       "    <tr>\n",
       "      <th>0</th>\n",
       "      <td>0</td>\n",
       "      <td>0</td>\n",
       "      <td>0</td>\n",
       "      <td>0</td>\n",
       "    </tr>\n",
       "    <tr>\n",
       "      <th>1</th>\n",
       "      <td>-1</td>\n",
       "      <td>-2</td>\n",
       "      <td>2</td>\n",
       "      <td>4</td>\n",
       "    </tr>\n",
       "    <tr>\n",
       "      <th>2</th>\n",
       "      <td>3</td>\n",
       "      <td>-7</td>\n",
       "      <td>1</td>\n",
       "      <td>4</td>\n",
       "    </tr>\n",
       "  </tbody>\n",
       "</table>\n",
       "</div>"
      ],
      "text/plain": [
       "   Q  R  S  T\n",
       "0  0  0  0  0\n",
       "1 -1 -2  2  4\n",
       "2  3 -7  1  4"
      ]
     },
     "execution_count": 101,
     "metadata": {},
     "output_type": "execute_result"
    }
   ],
   "source": [
    "df-df.iloc[0]"
   ]
  },
  {
   "cell_type": "markdown",
   "id": "a32308eb-6f73-4101-a865-3fb0940899a8",
   "metadata": {},
   "source": [
    "如果你想要按照列来计算，那么就需要利用前面介绍过的运算符方法，并通过axis关键字设置："
   ]
  },
  {
   "cell_type": "code",
   "execution_count": 102,
   "id": "7d91f7fd-e8ee-4525-add8-ab0542167c6c",
   "metadata": {},
   "outputs": [
    {
     "data": {
      "text/html": [
       "<div>\n",
       "<style scoped>\n",
       "    .dataframe tbody tr th:only-of-type {\n",
       "        vertical-align: middle;\n",
       "    }\n",
       "\n",
       "    .dataframe tbody tr th {\n",
       "        vertical-align: top;\n",
       "    }\n",
       "\n",
       "    .dataframe thead th {\n",
       "        text-align: right;\n",
       "    }\n",
       "</style>\n",
       "<table border=\"1\" class=\"dataframe\">\n",
       "  <thead>\n",
       "    <tr style=\"text-align: right;\">\n",
       "      <th></th>\n",
       "      <th>Q</th>\n",
       "      <th>R</th>\n",
       "      <th>S</th>\n",
       "      <th>T</th>\n",
       "    </tr>\n",
       "  </thead>\n",
       "  <tbody>\n",
       "    <tr>\n",
       "      <th>0</th>\n",
       "      <td>-5</td>\n",
       "      <td>0</td>\n",
       "      <td>-6</td>\n",
       "      <td>-4</td>\n",
       "    </tr>\n",
       "    <tr>\n",
       "      <th>1</th>\n",
       "      <td>-4</td>\n",
       "      <td>0</td>\n",
       "      <td>-2</td>\n",
       "      <td>2</td>\n",
       "    </tr>\n",
       "    <tr>\n",
       "      <th>2</th>\n",
       "      <td>5</td>\n",
       "      <td>0</td>\n",
       "      <td>2</td>\n",
       "      <td>7</td>\n",
       "    </tr>\n",
       "  </tbody>\n",
       "</table>\n",
       "</div>"
      ],
      "text/plain": [
       "   Q  R  S  T\n",
       "0 -5  0 -6 -4\n",
       "1 -4  0 -2  2\n",
       "2  5  0  2  7"
      ]
     },
     "execution_count": 102,
     "metadata": {},
     "output_type": "execute_result"
    }
   ],
   "source": [
    "df.subtract(df['R'],axis=0)"
   ]
  },
  {
   "cell_type": "markdown",
   "id": "23efa648-a2af-4498-8fc3-9bf7044899bb",
   "metadata": {},
   "source": [
    "和前面的运算一样，索引会自动对齐："
   ]
  },
  {
   "cell_type": "code",
   "execution_count": 104,
   "id": "711b9c53-a22c-46b3-8b2a-89d8a2ee7fdd",
   "metadata": {},
   "outputs": [
    {
     "data": {
      "text/plain": [
       "Q    3\n",
       "S    2\n",
       "Name: 0, dtype: int32"
      ]
     },
     "execution_count": 104,
     "metadata": {},
     "output_type": "execute_result"
    }
   ],
   "source": [
    "halfrow = df.iloc[0,::2]\n",
    "halfrow"
   ]
  },
  {
   "cell_type": "code",
   "execution_count": 105,
   "id": "a699b7dc-20bf-4138-a64a-2a95f1e40452",
   "metadata": {},
   "outputs": [
    {
     "data": {
      "text/plain": [
       "(2,)"
      ]
     },
     "execution_count": 105,
     "metadata": {},
     "output_type": "execute_result"
    }
   ],
   "source": [
    "halfrow.shape"
   ]
  },
  {
   "cell_type": "code",
   "execution_count": 107,
   "id": "e7ff0f76-86f9-401d-95e1-9819960d8eb4",
   "metadata": {},
   "outputs": [
    {
     "data": {
      "text/plain": [
       "pandas.core.series.Series"
      ]
     },
     "execution_count": 107,
     "metadata": {},
     "output_type": "execute_result"
    }
   ],
   "source": [
    "type(halfrow)"
   ]
  },
  {
   "cell_type": "markdown",
   "id": "5315667a-ac76-4fac-b8b8-28153466ab5c",
   "metadata": {},
   "source": [
    "这里非常有趣，采用iloc与loc方法取单个索引返回的都是Series而不是DataFrame,如果你想得到dataframe请按照下面的方式操作："
   ]
  },
  {
   "cell_type": "code",
   "execution_count": 110,
   "id": "f457e799-1cac-4369-8470-d8a77319b5a0",
   "metadata": {},
   "outputs": [
    {
     "data": {
      "text/plain": [
       "pandas.core.frame.DataFrame"
      ]
     },
     "execution_count": 110,
     "metadata": {},
     "output_type": "execute_result"
    }
   ],
   "source": [
    "halfrow = df.iloc[[0],::2]\n",
    "type(halfrow)"
   ]
  },
  {
   "cell_type": "code",
   "execution_count": 111,
   "id": "1650fefc-950c-49db-bd4a-4f3c73862af3",
   "metadata": {},
   "outputs": [
    {
     "data": {
      "text/plain": [
       "(1, 2)"
      ]
     },
     "execution_count": 111,
     "metadata": {},
     "output_type": "execute_result"
    }
   ],
   "source": [
    "halfrow.shape"
   ]
  },
  {
   "cell_type": "code",
   "execution_count": 112,
   "id": "6f4328ba-8ed3-42c9-9616-8e71e11bc94c",
   "metadata": {},
   "outputs": [
    {
     "data": {
      "text/html": [
       "<div>\n",
       "<style scoped>\n",
       "    .dataframe tbody tr th:only-of-type {\n",
       "        vertical-align: middle;\n",
       "    }\n",
       "\n",
       "    .dataframe tbody tr th {\n",
       "        vertical-align: top;\n",
       "    }\n",
       "\n",
       "    .dataframe thead th {\n",
       "        text-align: right;\n",
       "    }\n",
       "</style>\n",
       "<table border=\"1\" class=\"dataframe\">\n",
       "  <thead>\n",
       "    <tr style=\"text-align: right;\">\n",
       "      <th></th>\n",
       "      <th>Q</th>\n",
       "      <th>S</th>\n",
       "    </tr>\n",
       "  </thead>\n",
       "  <tbody>\n",
       "    <tr>\n",
       "      <th>0</th>\n",
       "      <td>3</td>\n",
       "      <td>2</td>\n",
       "    </tr>\n",
       "  </tbody>\n",
       "</table>\n",
       "</div>"
      ],
      "text/plain": [
       "   Q  S\n",
       "0  3  2"
      ]
     },
     "execution_count": 112,
     "metadata": {},
     "output_type": "execute_result"
    }
   ],
   "source": [
    "halfrow"
   ]
  },
  {
   "cell_type": "markdown",
   "id": "a9d9e6c7-8fde-46a0-a0ae-91f234b79080",
   "metadata": {},
   "source": [
    "言归正传，无论是Series还是DataFranme，都能自动实现索引的对齐，避免了数组维度不一致引起的问题"
   ]
  },
  {
   "cell_type": "code",
   "execution_count": 115,
   "id": "8a8ea68f-98ba-4f6b-832e-a407b012f73a",
   "metadata": {},
   "outputs": [
    {
     "data": {
      "text/plain": [
       "Q    3\n",
       "S    2\n",
       "Name: 0, dtype: int32"
      ]
     },
     "execution_count": 115,
     "metadata": {},
     "output_type": "execute_result"
    }
   ],
   "source": [
    "halfrow = df.iloc[0,::2]\n",
    "halfrow"
   ]
  },
  {
   "cell_type": "code",
   "execution_count": null,
   "id": "8278482a-23fd-4049-ac39-b311ff12dc91",
   "metadata": {},
   "outputs": [],
   "source": []
  }
 ],
 "metadata": {
  "kernelspec": {
   "display_name": "Python 3 (ipykernel)",
   "language": "python",
   "name": "python3"
  },
  "language_info": {
   "codemirror_mode": {
    "name": "ipython",
    "version": 3
   },
   "file_extension": ".py",
   "mimetype": "text/x-python",
   "name": "python",
   "nbconvert_exporter": "python",
   "pygments_lexer": "ipython3",
   "version": "3.11.7"
  }
 },
 "nbformat": 4,
 "nbformat_minor": 5
}
